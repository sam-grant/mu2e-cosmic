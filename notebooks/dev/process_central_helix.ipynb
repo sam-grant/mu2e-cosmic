{
 "cells": [
  {
   "cell_type": "markdown",
   "id": "b0fd090f-b23c-4b51-9912-dc4e765e513f",
   "metadata": {},
   "source": [
    "# Process data for central helixs dataset\n",
    "\n",
    "DO NOT USE THIS FOR DEVELOPING TRACK CUTS DIRECTLY \n",
    "\n",
    "THE POINT IS TO LOAD THE FILE PRODUCED BY THIS NOTEBOOK AND START FROM THERE"
   ]
  },
  {
   "cell_type": "code",
   "execution_count": null,
   "id": "0c020260-9ebb-4842-bde9-7d06c44d758b",
   "metadata": {},
   "outputs": [
    {
     "name": "stdout",
     "output_type": "stream",
     "text": [
      "[pyutils] ⭐️ Setting up...\n",
      "[pyutils] ✅ Ready\n",
      "[pyprocess] ⭐️ Initialised Processor:\n",
      "\tpath = 'EventNtuple/ntuple'\n",
      "\tuse_remote = True\n",
      "\tlocation = disk\n",
      "\tschema = root\n",
      "\tverbosity=1\n",
      "[pyprocess] ✅ Successfully loaded file list\n",
      "\tSAM definition: nts.mu2e.OffSpillTriggered-CH.MDC2020as_best_v1_3_v06_05_00.root\n",
      "\tCount: 9969 files\n",
      "[pyprocess] ⭐️ Starting processing on 9969 files with 25 processes\n"
     ]
    },
    {
     "name": "stderr",
     "output_type": "stream",
     "text": [
      "Processing:   5%|\u001b[32m█▌                            \u001b[0m| 499/9969 [01:05<15:40, 10.07file/s, successful=499, failed=0]\u001b[0m"
     ]
    }
   ],
   "source": [
    "defname=\"nts.mu2e.OffSpillTriggered-CH.MDC2020as_best_v1_3_v06_05_00.root\"\n",
    "\n",
    "branches={\n",
    "    \"evt\": [\"event\"], # event numbers \n",
    "    \"trk\": [\"trk.status\", \"trk.goodfit\", \"trk.pdg\", \"trk.nhits\", \"trk.nactive\", \"trk.nplanes\", \"trk.nnullambig\", \"trk.chisq\", \"trk.ndof\"], # track-level parameters\n",
    "    \"trkfit\": [\"trksegs\"], # track intersections \n",
    "    \"trkmc\": [\"trkmcsim\"] # truth track geneaology\n",
    "}\n",
    "\n",
    "# Process data\n",
    "from pyutils.pyprocess import Processor \n",
    "data = Processor(use_remote=True, location=\"disk\").process_data(\n",
    "    defname=defname,\n",
    "    branches=branches,\n",
    "    max_workers=25,\n",
    "    use_processes=True\n",
    ")\n"
   ]
  },
  {
   "cell_type": "code",
   "execution_count": 3,
   "id": "e540bb3b-7c17-47f9-9a5b-b70109736fea",
   "metadata": {},
   "outputs": [
    {
     "name": "stdout",
     "output_type": "stream",
     "text": [
      "[Write] ✅ Initialised with out_path=/exp/mu2e/data/users/sgrant/mu2e-cosmic/central_helix_data/nts.mu2e.OffSpillTriggered-CH.MDC2020as_best_v1_3_v06_05_00.root\n",
      "[Write] ✅ Wrote events /exp/mu2e/data/users/sgrant/mu2e-cosmic/central_helix_data/nts.mu2e.OffSpillTriggered-CH.MDC2020as_best_v1_3_v06_05_00.root/events.parquet\n",
      "File is 1054.43 MB\n"
     ]
    }
   ],
   "source": [
    "sys.path.extend([\"../../src/core\", \"../../src/utils\"])\n",
    "from io_manager import Write\n",
    "out_path=f\"/exp/mu2e/data/users/sgrant/mu2e-cosmic/central_helix_data/{defname}\"\n",
    "# Write to parquet\n",
    "Write(out_path).write_events_parquet(data)\n",
    "\n",
    "size_bytes = os.path.getsize(f\"{out_path}/events.parquet\")\n",
    "print(f\"File is {size_bytes/1e6:.2f} MB\")"
   ]
  },
  {
   "cell_type": "code",
   "execution_count": 4,
   "id": "5a35fc14-543b-4eee-88f0-5518bd34a61c",
   "metadata": {},
   "outputs": [
    {
     "name": "stdout",
     "output_type": "stream",
     "text": [
      "/bin/bash: mamba: line 1: syntax error: unexpected end of file\n",
      "/bin/bash: error importing function definition for `mamba'\n",
      "/bin/bash: conda: line 1: syntax error: unexpected end of file\n",
      "/bin/bash: error importing function definition for `conda'\n",
      "/bin/bash: pip: line 1: syntax error: unexpected end of file\n",
      "/bin/bash: error importing function definition for `pip'\n",
      "/bin/bash: setup_mu2e_python_env: line 1: syntax error: unexpected end of file\n",
      "/bin/bash: error importing function definition for `setup_mu2e_python_env'\n",
      "/bin/bash: python: line 1: syntax error: unexpected end of file\n",
      "/bin/bash: error importing function definition for `python'\n",
      "/bin/bash: jupyter: line 1: syntax error: unexpected end of file\n",
      "/bin/bash: error importing function definition for `jupyter'\n",
      "/bin/bash: smack: line 1: syntax error: unexpected end of file\n",
      "/bin/bash: error importing function definition for `smack'\n",
      "/bin/bash: _spack_shell_wrapper: line 1: syntax error: unexpected end of file\n",
      "/bin/bash: error importing function definition for `_spack_shell_wrapper'\n",
      "/bin/bash: slc: line 1: syntax error: unexpected end of file\n",
      "/bin/bash: error importing function definition for `slc'\n",
      "/bin/bash: unsetup: line 1: syntax error: unexpected end of file\n",
      "/bin/bash: error importing function definition for `unsetup'\n",
      "/bin/bash: muse: line 1: syntax error: unexpected end of file\n",
      "/bin/bash: error importing function definition for `muse'\n",
      "/bin/bash: spack: line 1: syntax error: unexpected end of file\n",
      "/bin/bash: error importing function definition for `spack'\n",
      "/bin/bash: setup: line 1: syntax error: unexpected end of file\n",
      "/bin/bash: error importing function definition for `setup'\n",
      "/bin/bash: spack_load_current: line 1: syntax error: unexpected end of file\n",
      "/bin/bash: error importing function definition for `spack_load_current'\n"
     ]
    }
   ],
   "source": [
    "!mv /exp/mu2e/data/users/sgrant/mu2e-cosmic/central_helix_data/nts.mu2e.OffSpillTriggered-CH.MDC2020as_best_v1_3_v06_05_00.root /exp/mu2e/data/users/sgrant/mu2e-cosmic/central_helix_data/nts.mu2e.OffSpillTriggered-CH.MDC2020as_best_v1_3_v06_05_00"
   ]
  },
  {
   "cell_type": "code",
   "execution_count": null,
   "id": "c0b69f27-f42c-41f4-a03b-9d400f436030",
   "metadata": {},
   "outputs": [],
   "source": []
  }
 ],
 "metadata": {
  "kernelspec": {
   "display_name": "mu2e_env [conda env:.conda-ana_v2.3.0]",
   "language": "python",
   "name": "conda-env-.conda-ana_v2.3.0-ana_v2.3.0"
  },
  "language_info": {
   "codemirror_mode": {
    "name": "ipython",
    "version": 3
   },
   "file_extension": ".py",
   "mimetype": "text/x-python",
   "name": "python",
   "nbconvert_exporter": "python",
   "pygments_lexer": "ipython3",
   "version": "3.12.7"
  }
 },
 "nbformat": 4,
 "nbformat_minor": 5
}

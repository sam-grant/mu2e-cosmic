{
 "cells": [
  {
   "cell_type": "markdown",
   "id": "fe45ade8-83b9-4593-b687-e2bd0e0fb0cc",
   "metadata": {},
   "source": [
    "# Find momentum resolution"
   ]
  },
  {
   "cell_type": "code",
   "execution_count": 3,
   "id": "bfe42a30-3eb2-48cd-b275-a73132296f6f",
   "metadata": {},
   "outputs": [],
   "source": [
    "file_name_au = \"nts.mu2e.CeEndpointOnSpillTriggered.MDC2020au_best_v1_3_v06_03_00.001210_00000339.root\""
   ]
  },
  {
   "cell_type": "code",
   "execution_count": 4,
   "id": "4ac138e9-1efb-4a61-8086-b36496fc0ecc",
   "metadata": {},
   "outputs": [
    {
     "name": "stdout",
     "output_type": "stream",
     "text": [
      "[pyprocess] ⭐️ Initialised Processor:\n",
      "\tpath = 'EventNtuple/ntuple'\n",
      "\tuse_remote = True\n",
      "\tlocation = disk\n",
      "\tschema = root\n",
      "\tverbosity=1\n"
     ]
    }
   ],
   "source": [
    "from pyutils.pyprocess import Processor\n",
    "processor = Processor(use_remote=True, location=\"disk\")"
   ]
  },
  {
   "cell_type": "code",
   "execution_count": 175,
   "id": "14a5b841-c75a-41e7-8282-f6653cdabdfa",
   "metadata": {},
   "outputs": [
    {
     "name": "stdout",
     "output_type": "stream",
     "text": [
      "[pyprocess] ✅ Completed process on nts.mu2e.CeEndpointOnSpillTriggered.MDC2020au_best_v1_3_v06_03_00.001210_00000339.root\n"
     ]
    }
   ],
   "source": [
    "branches={\n",
    "    \"trk\" : [\"trk.pdg\"],\n",
    "    \"trkfit\" : [\"trksegs\"],\n",
    "    \"trkmc\": [\"trkmcsim\"]\n",
    "}\n",
    "data = processor.process_data(file_name_au, branches=branches)"
   ]
  },
  {
   "cell_type": "code",
   "execution_count": 176,
   "id": "2e157b1e-3ce3-4359-ba7d-734876d67163",
   "metadata": {},
   "outputs": [
    {
     "name": "stdout",
     "output_type": "stream",
     "text": [
      "[pyprint] ⭐️ Initialised Print with verbose = False and precision = 1\n",
      "[pyprint] ⭐️ Printing 1 event(s)...\n",
      "\n",
      "-------------------------------------------------------------------------------------\n",
      "trk.trk.pdg: [11, -11, 13, -13]\n",
      "trkfit.trksegs.mom.fCoordinates.fX: [[69.6, 96.3, 88.2, 100, 103, 91.3, ..., 64.2, 18.8, 33.6, 36.9, -80], ...]\n",
      "trkfit.trksegs.mom.fCoordinates.fY: [[-69.4, 19.9, 43.1, 19.7, 16.9, 45.2, ..., -61.3, 86.6, -79.7, 76, 21.4], ...]\n",
      "trkfit.trksegs.mom.fCoordinates.fZ: [[-37.6, -37.4, -37.5, -24.2, 11.6, 23.4, ..., 54.5, 54.5, 57.6, 60, 61.5], ...]\n",
      "trkfit.trksegs.pos.fCoordinates.fX: [[-264, -49.3, 5.7, -48.2, -51.5, 10.5, ..., -279, 161, -372, 128, -56.6], ...]\n",
      "trkfit.trksegs.pos.fCoordinates.fY: [[103, 38.7, 57.5, 37.3, 36.1, 57, ..., 54.4, 110, 253, 206, 193, 588], ...]\n",
      "trkfit.trksegs.pos.fCoordinates.fZ: [[-3.9e+03, -3.99e+03, -4.01e+03, ..., -1.63e+03, 10.1, 1.64e+03], ..., [...]]\n",
      "trkfit.trksegs.time: [[1.52e+03, 1.52e+03, 1.52e+03, ..., 1.57e+03, 1.58e+03, 1.59e+03], ..., [...]]\n",
      "trkfit.trksegs.dmom: [[0, -0.101, -0.101, -0.16, -0.347, ..., -0.0968, -0.0956, 0, 0, 0], ..., [...]]\n",
      "trkfit.trksegs.momerr: [[0.184, 0.184, 0.183, 0.183, 0.0834, ..., 0.0649, 0.0638, 0.0611, 0.06], ...]\n",
      "trkfit.trksegs.inbounds: [[False, True, True, True, True, True, ..., True, True, True, True, True], ...]\n",
      "trkfit.trksegs.gap: [[False, False, False, False, False, ..., False, False, False, False], ...]\n",
      "trkfit.trksegs.early: [[True, False, False, False, False, ..., False, False, False, False], ...]\n",
      "trkfit.trksegs.late: [[False, False, False, False, False, ..., False, False, False, True], ...]\n",
      "trkfit.trksegs.sid: [[101, 104, 104, 104, 104, 104, 104, 104, 90, 90, 0, 1, 2], ..., [2, 1, ..., 0]]\n",
      "trkfit.trksegs.sindex: [[0, 32, 31, 12, 0, 11, 29, 30, 0, 0, 0, 0, 0], ..., [0, 0, 0, 0, ..., 0, 0, 0]]\n",
      "trkmc.trkmcsim.valid: [[True, True, True, True, True], [...], ..., [True, True, True, True, True]]\n",
      "trkmc.trkmcsim.id: [[4, 2, 1, 0, 5], [4, 2, 1, 0, 5], [4, 2, 1, 0, 5], [4, 2, 1, 0, 5]]\n",
      "trkmc.trkmcsim.nhits: [[47, -1, -1, -1, 1], [47, -1, -1, -1, 1], [47, ...], [47, -1, -1, -1, 1]]\n",
      "trkmc.trkmcsim.nactive: [[47, -1, -1, -1, 1], [35, -1, -1, -1, 1], [47, ...], [34, -1, -1, -1, 1]]\n",
      "trkmc.trkmcsim.rank: [[0, -1, -1, -1, 1], [0, -1, -1, -1, 1], [0, ..., 1], [0, -1, -1, -1, 1]]\n",
      "trkmc.trkmcsim.pdg: [[11, 13, -211, 2212, 11], [11, 13, ..., 11], ..., [11, 13, -211, 2212, 11]]\n",
      "trkmc.trkmcsim.startCode: [[167, 14, 101, 56, 17], [167, 14, ..., 56, 17], ..., [167, 14, 101, 56, 17]]\n",
      "trkmc.trkmcsim.stopCode: [[17, 54, 14, 101, 17], [17, 54, 14, 101, 17], ..., [17, 54, 14, 101, 17]]\n",
      "trkmc.trkmcsim.gen: [[-1, -1, -1, 16, -1], [-1, -1, -1, 16, -1], [...], [-1, -1, -1, 16, -1]]\n",
      "trkmc.trkmcsim.time: [[1.54e+03, 75, 5.1, 5.04, 1.58e+03], ..., [1.54e+03, 75, ..., 5.04, 1.58e+03]]\n",
      "trkmc.trkmcsim.index: [[0, 1, 2, 3, 4], [0, 1, 2, 3, 4], [0, 1, 2, 3, 4], [0, 1, 2, 3, 4]]\n",
      "trkmc.trkmcsim.mom.fCoordinates.fX: [[91.8, 1.56, 24.3, -2.15e+03, -0.616], [...], ..., [91.8, 1.56, ..., -0.616]]\n",
      "trkmc.trkmcsim.mom.fCoordinates.fY: [[45.1, 7.2, 10.7, 0, -0.33], [45.1, ...], ..., [45.1, 7.2, 10.7, 0, -0.33]]\n",
      "trkmc.trkmcsim.mom.fCoordinates.fZ: [[23.6, 37.6, 133, -8.62e+03, -0.263], [...], ..., [23.6, 37.6, ..., -0.263]]\n",
      "trkmc.trkmcsim.pos.fCoordinates.fX: [[8.31, 6.83e+03, 7.83e+03, 7.83e+03, -184], ..., [8.31, 6.83e+03, ..., -184]]\n",
      "trkmc.trkmcsim.pos.fCoordinates.fY: [[54.3, 55, 1.11, 1.08, 588], [54.3, ...], ..., [54.3, 55, 1.11, 1.08, 588]]\n",
      "trkmc.trkmcsim.pos.fCoordinates.fZ: [[-4.41e+03, -1.09e+04, -1.62e+04, -1.62e+04, 449], ..., [-4.41e+03, ..., 449]]\n",
      "trkmc.trkmcsim.endmom.fCoordinates.fX: [[-0, -23.2, -25.2, -2.12e+03, -0], ..., [-0, -23.2, -25.2, -2.12e+03, -0]]\n",
      "trkmc.trkmcsim.endmom.fCoordinates.fY: [[0, 6.38, -10.3, 34.8, -0], [0, ..., -0], ..., [0, 6.38, -10.3, 34.8, -0]]\n",
      "trkmc.trkmcsim.endmom.fCoordinates.fZ: [[0, 21.4, 29.9, -8.6e+03, -0], [0, ...], ..., [0, 21.4, 29.9, -8.6e+03, -0]]\n",
      "trkmc.trkmcsim.endpos.fCoordinates.fX: [[-186, 2.29, 6.83e+03, 7.83e+03, -182], ..., [-186, 2.29, ..., 7.83e+03, -182]]\n",
      "trkmc.trkmcsim.endpos.fCoordinates.fY: [[569, 103, 55, 1.11, 586], [569, ..., 586], ..., [569, 103, 55, 1.11, 586]]\n",
      "trkmc.trkmcsim.endpos.fCoordinates.fZ: [[1.74e+03, -5.98e+03, -1.09e+04, -1.62e+04, 250], ..., [1.74e+03, ..., 250]]\n",
      "trkmc.trkmcsim.prirel._rel: [[0, 2, 5, 5, 1], [0, 2, 5, 5, 1], [0, 2, 5, 5, 1], [0, 2, 5, 5, 1]]\n",
      "trkmc.trkmcsim.prirel._rem: [[0, 1, 2, 3, 1], [0, 1, 2, 3, 1], [0, 1, 2, 3, 1], [0, 1, 2, 3, 1]]\n",
      "trkmc.trkmcsim.trkrel._rel: [[0, 2, 5, 5, 0], [0, 2, 5, 5, 0], [0, 2, 5, 5, 0], [0, 2, 5, 5, 0]]\n",
      "trkmc.trkmcsim.trkrel._rem: [[0, 1, 2, 3, 0], [0, 1, 2, 3, 0], [0, 1, 2, 3, 0], [0, 1, 2, 3, 0]]\n",
      "-------------------------------------------------------------------------------------\n",
      "\n"
     ]
    }
   ],
   "source": [
    "from pyutils.pyprint import Print\n",
    "Print(verbose=False).print_n_events(data)"
   ]
  },
  {
   "cell_type": "code",
   "execution_count": 214,
   "id": "d3d2a06a-808c-426e-b466-70b905a9c16f",
   "metadata": {},
   "outputs": [
    {
     "name": "stdout",
     "output_type": "stream",
     "text": [
      "[pyvector] ⭐️ Initialised Vector with verbosity = 1\n",
      "[pyprint] ⭐️ Initialised Print with verbose = False and precision = 1\n",
      "[pyselect] ✅ Returning mask for e- tracks\n",
      "[pyselect] ✅ Returning mask for trksegs with sid = 0\n",
      "[pyselect] ✅ Returning mask for e- tracks\n",
      "[pyselect] ✅ Returning mask for trksegs with sid = 0\n",
      "[pyvector] ✅ Created 3D 'mom' vector\n",
      "[pyvector] ✅ Got 'mom' magnitude\n",
      "[pyvector] ✅ Created 3D 'mom' vector\n",
      "[pyvector] ✅ Got 'mom' magnitude\n"
     ]
    }
   ],
   "source": [
    "from pyutils.pyselect import Select\n",
    "from pyutils.pyvector import Vector\n",
    "from pyutils.pylogger import Logger\n",
    "from pyutils.pyprint import Print\n",
    "import awkward as ak\n",
    "class Test:\n",
    "    def __init__(self):\n",
    "        \n",
    "        # self.analyse = analyse\n",
    "        # Get attributes from analyse instance\n",
    "        # self.thresholds = analyse.thresholds\n",
    "        self.selector = Select() # selector\n",
    "        self.vector = Vector() # analyse.vector\n",
    "        self.verbosity = 2\n",
    "        self.printer = Print()\n",
    "\n",
    "        # Seperate logger\n",
    "        self.logger = Logger(\n",
    "            print_prefix=\"[Test]\",\n",
    "            verbosity=self.verbosity\n",
    "        )\n",
    "        \n",
    "    def _prepare_track_data(self, data):\n",
    "        \"\"\"\n",
    "        Loose cuts\n",
    "\n",
    "        We have to select \n",
    "        - Electron fits at the tracker entrance\n",
    "        - MC track parents \n",
    "\n",
    "        and everything needs to align! Must ensure that MC truth \n",
    "        \n",
    "        Returns:\n",
    "            tuple: (trk, trkfit, trkmcsim)\n",
    "        \"\"\"\n",
    "        trk = data[\"trk\"]\n",
    "        trkfit = data[\"trkfit\"]\n",
    "        trkmc = data[\"trkmc\"] \n",
    "        \n",
    "        # Select electron tracks\n",
    "        is_reco_electron = self.selector.is_electron(data[\"trk\"])\n",
    "\n",
    "        # Select tracker front\n",
    "        at_trk_front = self.selector.select_surface(trkfit, surface_name=\"TT_Front\")\n",
    "        has_trk_front = ak.any(at_trk_front, axis=-1)\n",
    "\n",
    "        # Apply trksegs-level selection\n",
    "        # This must come first!\n",
    "        trkfit = trkfit[at_trk_front]\n",
    "\n",
    "        # Construct combined trk reco mask \n",
    "        trk_reco_mask = is_reco_electron & has_trk_front \n",
    "\n",
    "        # Apply trk-level selection \n",
    "        trk = trk[trk_reco_mask]\n",
    "        trkfit = trkfit[trk_reco_mask]\n",
    "        trkmc = trkmc[trk_reco_mask]\n",
    "\n",
    "        # MC truth selections\n",
    "        # Truth track parent is electron \n",
    "        # We must do this after the reco cuts, or \n",
    "        # the resulting trkmc array will not align with trksegs\n",
    "        is_truth_electron = trkmc[\"trkmcsim\"][\"pdg\"] == 11\n",
    "        is_trk_parent = trkmc[\"trkmcsim\"][\"nhits\"] == ak.max(trkmc[\"trkmcsim\"][\"nhits\"], axis=-1)\n",
    "        is_trk_parent_electron = is_truth_electron & is_trk_parent \n",
    "\n",
    "        # Apply MC genealogy-level selections\n",
    "        trkmc = trkmc[is_trk_parent_electron]\n",
    "        \n",
    "        return trk, trkfit, trkmc\n",
    "\n",
    "    def _extract_data(self, data, param):\n",
    "        if param == \"mom_res\":\n",
    "            _, trkfit, trkmc = self._prepare_track_data(data)\n",
    "            mom_reco = self.vector.get_mag(trkfit[\"trksegs\"], \"mom\")\n",
    "            mom_truth = self.vector.get_mag(trkmc[\"trkmcsim\"], \"mom\")\n",
    "            mom_reco = ak.flatten(mom_reco,axis=None) \n",
    "            mom_truth = ak.flatten(mom_truth,axis=None)             \n",
    "            mom_res = mom_reco - mom_truth\n",
    "            return mom_res\n",
    "        \n",
    "\n",
    "test = Test()\n",
    "\n",
    "trk, trkfit, trkmc = test._prepare_track_data(data) # , \"mom_res\")\n",
    "\n",
    "results = test._extract_data(data, \"mom_res\")"
   ]
  },
  {
   "cell_type": "code",
   "execution_count": 215,
   "id": "7db5dc92-66c6-4680-981a-7ed3c9dae424",
   "metadata": {},
   "outputs": [
    {
     "name": "stdout",
     "output_type": "stream",
     "text": [
      "[pyprint] ⭐️ Initialised Print with verbose = False and precision = 1\n",
      "[pyprint] ⭐️ Printing 1 event(s)...\n",
      "\n",
      "-------------------------------------------------------------------------------------\n",
      "trk.pdg: [11]\n",
      "-------------------------------------------------------------------------------------\n",
      "\n",
      "[pyprint] ⭐️ Initialised Print with verbose = False and precision = 1\n",
      "[pyprint] ⭐️ Printing 1 event(s)...\n",
      "\n",
      "-------------------------------------------------------------------------------------\n",
      "trksegs.mom.fCoordinates.fX: [[33.6]]\n",
      "trksegs.mom.fCoordinates.fY: [[-79.7]]\n",
      "trksegs.mom.fCoordinates.fZ: [[57.6]]\n",
      "trksegs.pos.fCoordinates.fX: [[-372]]\n",
      "trksegs.pos.fCoordinates.fY: [[206]]\n",
      "trksegs.pos.fCoordinates.fZ: [[-1.63e+03]]\n",
      "trksegs.time: [[1.57e+03]]\n",
      "trksegs.dmom: [[0]]\n",
      "trksegs.momerr: [[0.0638]]\n",
      "trksegs.inbounds: [[True]]\n",
      "trksegs.gap: [[False]]\n",
      "trksegs.early: [[False]]\n",
      "trksegs.late: [[False]]\n",
      "trksegs.sid: [[0]]\n",
      "trksegs.sindex: [[0]]\n",
      "-------------------------------------------------------------------------------------\n",
      "\n",
      "[pyprint] ⭐️ Initialised Print with verbose = False and precision = 1\n",
      "[pyprint] ⭐️ Printing 1 event(s)...\n",
      "\n",
      "-------------------------------------------------------------------------------------\n",
      "trkmcsim.valid: [[True]]\n",
      "trkmcsim.id: [[4]]\n",
      "trkmcsim.nhits: [[47]]\n",
      "trkmcsim.nactive: [[47]]\n",
      "trkmcsim.rank: [[0]]\n",
      "trkmcsim.pdg: [[11]]\n",
      "trkmcsim.startCode: [[167]]\n",
      "trkmcsim.stopCode: [[17]]\n",
      "trkmcsim.gen: [[-1]]\n",
      "trkmcsim.time: [[1.54e+03]]\n",
      "trkmcsim.index: [[0]]\n",
      "trkmcsim.mom.fCoordinates.fX: [[91.8]]\n",
      "trkmcsim.mom.fCoordinates.fY: [[45.1]]\n",
      "trkmcsim.mom.fCoordinates.fZ: [[23.6]]\n",
      "trkmcsim.pos.fCoordinates.fX: [[8.31]]\n",
      "trkmcsim.pos.fCoordinates.fY: [[54.3]]\n",
      "trkmcsim.pos.fCoordinates.fZ: [[-4.41e+03]]\n",
      "trkmcsim.endmom.fCoordinates.fX: [[-0]]\n",
      "trkmcsim.endmom.fCoordinates.fY: [[0]]\n",
      "trkmcsim.endmom.fCoordinates.fZ: [[0]]\n",
      "trkmcsim.endpos.fCoordinates.fX: [[-186]]\n",
      "trkmcsim.endpos.fCoordinates.fY: [[569]]\n",
      "trkmcsim.endpos.fCoordinates.fZ: [[1.74e+03]]\n",
      "trkmcsim.prirel._rel: [[0]]\n",
      "trkmcsim.prirel._rem: [[0]]\n",
      "trkmcsim.trkrel._rel: [[0]]\n",
      "trkmcsim.trkrel._rem: [[0]]\n",
      "-------------------------------------------------------------------------------------\n",
      "\n"
     ]
    }
   ],
   "source": [
    "Print().print_n_events(trk)\n",
    "Print().print_n_events(trkfit)\n",
    "Print().print_n_events(trkmc)"
   ]
  },
  {
   "cell_type": "code",
   "execution_count": 216,
   "id": "410027d0-4a4d-43ec-87a2-576887a5448a",
   "metadata": {},
   "outputs": [
    {
     "name": "stdout",
     "output_type": "stream",
     "text": [
      "1416 * {\"trk.pdg\": var * int32}\n",
      "1416 * {trksegs: var * var * struct[{mom: struct[{fCoordinates: struct[{fX: float32, fY: float32, fZ: float32}, parameters={\"__record__\": \"ROOT::Math::Cartesian3D<float>\"}]}, parameters={\"__record__\": \"ROOT::Math::DisplacementVector3D<ROOT::Math::Cartesian3D<float>,ROOT::Math::DefaultCoordinateSystemTag>\"}], pos: struct[{fCoordinates: struct[{fX: float32, fY: float32, fZ: float32}, parameters={\"__record__\": \"ROOT::Math::Cartesian3D<float>\"}]}, parameters={\"__record__\": \"ROOT::Math::DisplacementVector3D<ROOT::Math::Cartesian3D<float>,ROOT::Math::DefaultCoordinateSystemTag>\"}], time: float64, dmom: float32, momerr: float32, inbounds: bool, gap: bool, early: bool, late: bool, sid: int32, sindex: int32}, parameters={\"__record__\": \"mu2e::TrkSegInfo\"}]}\n",
      "1416 * {trkmcsim: var * option[var * struct[{valid: bool, id: int32, nhits: int32, nactive: int32, rank: int32, pdg: int32, startCode: int32, stopCode: int32, gen: int32, time: float32, index: int32, mom: struct[{fCoordinates: struct[{fX: float32, fY: float32, fZ: float32}, parameters={\"__record__\": \"ROOT::Math::Cartesian3D<float>\"}]}, parameters={\"__record__\": \"ROOT::Math::DisplacementVector3D<ROOT::Math::Cartesian3D<float>,ROOT::Math::DefaultCoordinateSystemTag>\"}], pos: struct[{fCoordinates: struct[{fX: float32, fY: float32, fZ: float32}, parameters={\"__record__\": \"ROOT::Math::Cartesian3D<float>\"}]}, parameters={\"__record__\": \"ROOT::Math::DisplacementVector3D<ROOT::Math::Cartesian3D<float>,ROOT::Math::DefaultCoordinateSystemTag>\"}], endmom: struct[{fCoordinates: struct[{fX: float32, fY: float32, fZ: float32}, parameters={\"__record__\": \"ROOT::Math::Cartesian3D<float>\"}]}, parameters={\"__record__\": \"ROOT::Math::DisplacementVector3D<ROOT::Math::Cartesian3D<float>,ROOT::Math::DefaultCoordinateSystemTag>\"}], endpos: struct[{fCoordinates: struct[{fX: float32, fY: float32, fZ: float32}, parameters={\"__record__\": \"ROOT::Math::Cartesian3D<float>\"}]}, parameters={\"__record__\": \"ROOT::Math::DisplacementVector3D<ROOT::Math::Cartesian3D<float>,ROOT::Math::DefaultCoordinateSystemTag>\"}], prirel: struct[{_rel: int8, _rem: int8}, parameters={\"__record__\": \"mu2e::MCRelationship\"}], trkrel: struct[{_rel: int8, _rem: int8}, parameters={\"__record__\": \"mu2e::MCRelationship\"}]}, parameters={\"__record__\": \"mu2e::SimInfo\"}]]}\n"
     ]
    }
   ],
   "source": [
    "print(ak.type(trk))\n",
    "print(ak.type(trkfit))\n",
    "print(ak.type(trkmc))"
   ]
  },
  {
   "cell_type": "code",
   "execution_count": 248,
   "id": "0dd4f24e-34d4-4053-ba5b-749bad5da3c3",
   "metadata": {},
   "outputs": [
    {
     "name": "stdout",
     "output_type": "stream",
     "text": [
      "[pyplot] ⭐️ Initialised Plot with mu2e.mplstyle and verbosity = 1\n"
     ]
    },
    {
     "data": {
      "image/png": "[encoded data removed]",
      "text/plain": [
       "<Figure size 1280x480 with 2 Axes>"
      ]
     },
     "metadata": {},
     "output_type": "display_data"
    },
    {
     "name": "stdout",
     "output_type": "stream",
     "text": [
      "Wrote ../../output/images/misc/h1_1x2_mom_res_au_single.png\n"
     ]
    }
   ],
   "source": [
    "import matplotlib.pyplot as plt \n",
    "from pyutils.pyplot import Plot\n",
    "plotter = Plot() \n",
    "fig, ax = plt.subplots(1, 2, figsize=(2*6.4, 4.8))\n",
    "plotter.plot_1D(results, nbins=140, xmin=-5, xmax=2, col=\"blue\", log_y=False, xlabel=r\"$\\delta p = p_{\\text{reco}} - p_{\\text{truth}}$ [MeV/c]\", ylabel = \"Tracks / 50 keV/c\", ax=ax[0], show=False)\n",
    "plotter.plot_1D(results, nbins=140, xmin=-5, xmax=2, col=\"blue\", log_y=True, xlabel=r\"$\\delta p = p_{\\text{reco}} - p_{\\text{truth}}$ [MeV/c]\", ax=ax[1], show=False)\n",
    "plt.tight_layout()\n",
    "out_path=\"../../output/images/misc/h1_1x2_mom_res_au_single.png\"\n",
    "plt.savefig(out_path, dpi=300)\n",
    "plt.show()\n",
    "print(f\"Wrote {out_path}\")"
   ]
  },
  {
   "cell_type": "code",
   "execution_count": 247,
   "id": "b0d484b1-3cf7-4187-a8c9-1d6d93b64b84",
   "metadata": {},
   "outputs": [
    {
     "name": "stdout",
     "output_type": "stream",
     "text": [
      "/bin/bash: mamba: line 1: syntax error: unexpected end of file\n",
      "/bin/bash: error importing function definition for `mamba'\n",
      "/bin/bash: conda: line 1: syntax error: unexpected end of file\n",
      "/bin/bash: error importing function definition for `conda'\n",
      "/bin/bash: pip: line 1: syntax error: unexpected end of file\n",
      "/bin/bash: error importing function definition for `pip'\n",
      "/bin/bash: setup_mu2e_python_env: line 1: syntax error: unexpected end of file\n",
      "/bin/bash: error importing function definition for `setup_mu2e_python_env'\n",
      "/bin/bash: python: line 1: syntax error: unexpected end of file\n",
      "/bin/bash: error importing function definition for `python'\n",
      "/bin/bash: jupyter: line 1: syntax error: unexpected end of file\n",
      "/bin/bash: error importing function definition for `jupyter'\n",
      "/bin/bash: smack: line 1: syntax error: unexpected end of file\n",
      "/bin/bash: error importing function definition for `smack'\n",
      "/bin/bash: _spack_shell_wrapper: line 1: syntax error: unexpected end of file\n",
      "/bin/bash: error importing function definition for `_spack_shell_wrapper'\n",
      "/bin/bash: slc: line 1: syntax error: unexpected end of file\n",
      "/bin/bash: error importing function definition for `slc'\n",
      "/bin/bash: unsetup: line 1: syntax error: unexpected end of file\n",
      "/bin/bash: error importing function definition for `unsetup'\n",
      "/bin/bash: muse: line 1: syntax error: unexpected end of file\n",
      "/bin/bash: error importing function definition for `muse'\n",
      "/bin/bash: spack: line 1: syntax error: unexpected end of file\n",
      "/bin/bash: error importing function definition for `spack'\n",
      "/bin/bash: setup: line 1: syntax error: unexpected end of file\n",
      "/bin/bash: error importing function definition for `setup'\n",
      "/bin/bash: spack_load_current: line 1: syntax error: unexpected end of file\n",
      "/bin/bash: error importing function definition for `spack_load_current'\n"
     ]
    }
   ],
   "source": [
    "# !mkdir ../../output/images/dev"
   ]
  },
  {
   "cell_type": "code",
   "execution_count": null,
   "id": "7d3367e0-c809-46a7-a281-141f70e56642",
   "metadata": {},
   "outputs": [],
   "source": []
  }
 ],
 "metadata": {
  "kernelspec": {
   "display_name": "mu2e_env [conda env:.conda-ana_v2.3.0]",
   "language": "python",
   "name": "conda-env-.conda-ana_v2.3.0-ana_v2.3.0"
  },
  "language_info": {
   "codemirror_mode": {
    "name": "ipython",
    "version": 3
   },
   "file_extension": ".py",
   "mimetype": "text/x-python",
   "name": "python",
   "nbconvert_exporter": "python",
   "pygments_lexer": "ipython3",
   "version": "3.12.7"
  }
 },
 "nbformat": 4,
 "nbformat_minor": 5
}

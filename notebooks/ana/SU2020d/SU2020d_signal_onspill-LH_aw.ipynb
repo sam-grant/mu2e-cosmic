{
 "cells": [
  {
   "cell_type": "markdown",
   "id": "4d7e30be-f499-4392-af73-1dc15553bcdf",
   "metadata": {},
   "source": [
    "# Analysis notebook: `SU2020d_signal_onspill-LH_aw`  "
   ]
  },
  {
   "cell_type": "markdown",
   "id": "f32b8f6c-f14c-428d-bd78-a9a7c99db7da",
   "metadata": {},
   "source": [
    "## Define analysis name"
   ]
  },
  {
   "cell_type": "code",
   "execution_count": 1,
   "id": "ce1e28e2-c9db-438d-9b83-02800a604ea7",
   "metadata": {},
   "outputs": [],
   "source": [
    "ana_label = \"SU2020d_signal_onspill-LH_aw\""
   ]
  },
  {
   "cell_type": "markdown",
   "id": "607d7b99-35bd-42a0-a2af-42243eea6aa5",
   "metadata": {},
   "source": [
    "## Preamble"
   ]
  },
  {
   "cell_type": "code",
   "execution_count": 2,
   "id": "66b93a36-f4ba-4d32-98ac-85da9ca78b6f",
   "metadata": {},
   "outputs": [],
   "source": [
    "import sys\n",
    "sys.path.append(\"..\")\n",
    "from preamble import *"
   ]
  },
  {
   "cell_type": "markdown",
   "id": "576d7ab7-8fa7-44f4-9f0c-48bedf1bfded",
   "metadata": {},
   "source": [
    "## Load data"
   ]
  },
  {
   "cell_type": "code",
   "execution_count": 3,
   "id": "134508b5-b548-4544-8e1e-0bebdbecb8aa",
   "metadata": {},
   "outputs": [
    {
     "name": "stdout",
     "output_type": "stream",
     "text": [
      "/bin/bash: -c: line 1: syntax error near unexpected token `newline'\n",
      "/bin/bash: -c: line 1: `ls ../../output/results/<ana_label>'\n"
     ]
    }
   ],
   "source": [
    "!ls ../../../output/results/SU2020d_signal_onspill-LH_aw"
   ]
  },
  {
   "cell_type": "code",
   "execution_count": 4,
   "id": "4b52a2b6-6156-4918-9e7d-775527f51081",
   "metadata": {},
   "outputs": [
    {
     "name": "stdout",
     "output_type": "stream",
     "text": [
      "[Load] ✅ Initialised with out_path=../../output/results/<ana_label>\n"
     ]
    }
   ],
   "source": [
    "loader = Load(\n",
    "    in_path = f\"../../../output/results/{ana_label}\"\n",
    ")"
   ]
  },
  {
   "cell_type": "code",
   "execution_count": 1,
   "id": "db52cb9e-fbd0-464b-8b3f-86428dea04cc",
   "metadata": {},
   "outputs": [],
   "source": [
    "results = loader.load_pkl() \n",
    "results_from_persistent = loader.load_all() # Persistent backup "
   ]
  },
  {
   "cell_type": "markdown",
   "id": "d721427e-c8ab-42b9-bebf-35c79c316a8a",
   "metadata": {},
   "source": [
    "## Analyse results"
   ]
  },
  {
   "cell_type": "markdown",
   "id": "0a6567de-b216-444c-979b-e45ee196155c",
   "metadata": {},
   "source": [
    "### Cut flow"
   ]
  },
  {
   "cell_type": "code",
   "execution_count": null,
   "id": "e6d8627f-bd24-4ba2-8121-d9ab473f08cd",
   "metadata": {},
   "outputs": [],
   "source": [
    "display(results[\"cut_flow\"].round(3))"
   ]
  },
  {
   "cell_type": "markdown",
   "id": "d27ea1f3-b2c5-4742-a428-9a4db4b963fc",
   "metadata": {},
   "source": [
    "### Efficiency & rates"
   ]
  },
  {
   "cell_type": "code",
   "execution_count": null,
   "id": "b1a9e7cb-48c5-4939-9a1d-89e91087bb63",
   "metadata": {},
   "outputs": [],
   "source": [
    "display(results[\"analysis\"].round(3))"
   ]
  },
  {
   "cell_type": "markdown",
   "id": "65945f76-ad4d-42e0-84f5-3371899815c5",
   "metadata": {},
   "source": [
    "### Histograms"
   ]
  },
  {
   "cell_type": "code",
   "execution_count": null,
   "id": "57689f81-26c9-429b-8d61-c099735f1df5",
   "metadata": {},
   "outputs": [],
   "source": [
    "# Setup draw for this cutset\n",
    "on_spill = \"offspill\" not in ana_label\n",
    "draw = Draw(cutset_name=ana_label.split('_')[0], on_spill=on_spill)\n",
    "# Define image directory\n",
    "img_dir = f\"../../../output/images/{ana_label}\"\n",
    "os.makedirs(img_dir, exist_ok=True)"
   ]
  },
  {
   "cell_type": "code",
   "execution_count": null,
   "id": "2162119e-5177-4fb7-8f8c-ba72ab685186",
   "metadata": {},
   "outputs": [],
   "source": [
    "draw.plot_mom_windows(results[\"hists\"], out_path=f\"{img_dir}/h1o_1x3_mom_windows.png\") "
   ]
  },
  {
   "cell_type": "code",
   "execution_count": null,
   "id": "8e48d7f4-4f62-469c-96d0-3bc0c607aaf8",
   "metadata": {},
   "outputs": [],
   "source": [
    "draw.plot_summary(results[\"hists\"], out_path=f\"{img_dir}/h1o_3x3_summary.png\")"
   ]
  },
  {
   "cell_type": "code",
   "execution_count": null,
   "id": "121e021d-8d12-4104-88c7-ac3d6b1682f7",
   "metadata": {},
   "outputs": [],
   "source": [
    "draw.plot_mom_summary(results[\"hists\"], out_path=f\"{img_dir}/h1o_2x2_mom_summary.png\")"
   ]
  },
  {
   "cell_type": "code",
   "execution_count": null,
   "id": "8e25061a-8be0-4374-affa-90a15782590b",
   "metadata": {},
   "outputs": [],
   "source": [
    "draw.plot_crv_z(results[\"hists\"], out_path=f\"{img_dir}/h1o_crv_z.png\") "
   ]
  },
  {
   "cell_type": "markdown",
   "id": "60b8afea-6a8a-4a4e-9e1e-a2cdbf57bec3",
   "metadata": {},
   "source": [
    "### Background event info"
   ]
  },
  {
   "cell_type": "code",
   "execution_count": null,
   "id": "16aff597-ce05-4294-a8a2-16d280d17438",
   "metadata": {},
   "outputs": [],
   "source": [
    "print(results[\"event_info\"])"
   ]
  },
  {
   "cell_type": "code",
   "execution_count": null,
   "id": "81fa59e4-e8a8-4f2e-b66b-823fd8d85223",
   "metadata": {},
   "outputs": [],
   "source": [
    "if results[\"events\"] is not None:\n",
    "    from pyutils.pyprint import Print\n",
    "    printer = Print()\n",
    "    printer.print_n_events(results[\"events\"], n_events = len(results[\"events\"]))"
   ]
  }
 ],
 "metadata": {
  "kernelspec": {
   "display_name": "mu2e_env [conda env:.conda-ana_v2.2.0]",
   "language": "python",
   "name": "conda-env-.conda-ana_v2.2.0-ana_v2.2.0"
  },
  "language_info": {
   "codemirror_mode": {
    "name": "ipython",
    "version": 3
   },
   "file_extension": ".py",
   "mimetype": "text/x-python",
   "name": "python",
   "nbconvert_exporter": "python",
   "pygments_lexer": "ipython3",
   "version": "3.12.7"
  }
 },
 "nbformat": 4,
 "nbformat_minor": 5
}
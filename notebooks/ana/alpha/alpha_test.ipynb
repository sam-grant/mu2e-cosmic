{
 "cells": [
  {
   "cell_type": "markdown",
   "id": "cc15001f-6d76-4f4a-91f5-63c04aa53efc",
   "metadata": {},
   "source": [
    "# Analysis notebook: `alpha_test`  "
   ]
  },
  {
   "cell_type": "markdown",
   "id": "7ed09984-b915-472b-b6d9-0a316e36afde",
   "metadata": {},
   "source": [
    "## Define analysis name"
   ]
  },
  {
   "cell_type": "code",
   "execution_count": 1,
   "id": "b0aea9c8-7c24-4d3f-9a95-609542603b42",
   "metadata": {},
   "outputs": [],
   "source": [
    "ana_label = \"alpha_test\""
   ]
  },
  {
   "cell_type": "markdown",
   "id": "a308f8d8-746d-49c3-b7bc-aac775f762db",
   "metadata": {},
   "source": [
    "## Preamble"
   ]
  },
  {
   "cell_type": "code",
   "execution_count": 2,
   "id": "d7beae51-31e1-4944-907c-500f2c57d9e3",
   "metadata": {},
   "outputs": [],
   "source": [
    "import sys\n",
    "sys.path.append(\"..\")\n",
    "from preamble import *"
   ]
  },
  {
   "cell_type": "markdown",
   "id": "c362586f-8c45-43bd-a5ce-eb5d0abd40e3",
   "metadata": {},
   "source": [
    "## Load data"
   ]
  },
  {
   "cell_type": "code",
   "execution_count": 3,
   "id": "07cabee2-f3e3-4060-ae25-f8437ac4c750",
   "metadata": {},
   "outputs": [
    {
     "name": "stdout",
     "output_type": "stream",
     "text": [
      "/bin/bash: -c: line 1: syntax error near unexpected token `newline'\n",
      "/bin/bash: -c: line 1: `ls ../../output/results/<ana_label>'\n"
     ]
    }
   ],
   "source": [
    "!ls ../../../output/results/alpha_test"
   ]
  },
  {
   "cell_type": "code",
   "execution_count": 4,
   "id": "65ad2cc7-d93e-496f-97c4-8b6981d4c284",
   "metadata": {},
   "outputs": [
    {
     "name": "stdout",
     "output_type": "stream",
     "text": [
      "[Load] ✅ Initialised with out_path=../../output/results/<ana_label>\n"
     ]
    }
   ],
   "source": [
    "loader = Load(\n",
    "    in_path = f\"../../../output/results/{ana_label}\"\n",
    ")"
   ]
  },
  {
   "cell_type": "code",
   "execution_count": 1,
   "id": "3ec06c64-60af-4561-9651-03300b51f319",
   "metadata": {},
   "outputs": [],
   "source": [
    "results = loader.load_pkl() \n",
    "results_from_persistent = loader.load_all() # Persistent backup "
   ]
  },
  {
   "cell_type": "markdown",
   "id": "b282bb33-b684-4c01-8100-045f88648286",
   "metadata": {},
   "source": [
    "## Analyse results"
   ]
  },
  {
   "cell_type": "markdown",
   "id": "5c085526-283a-4db5-8008-3bde0847a500",
   "metadata": {},
   "source": [
    "### Cut flow"
   ]
  },
  {
   "cell_type": "code",
   "execution_count": null,
   "id": "7fd18c52-5d66-4128-ae77-a5a743ae872e",
   "metadata": {},
   "outputs": [],
   "source": [
    "display(results[\"cut_flow\"])"
   ]
  },
  {
   "cell_type": "markdown",
   "id": "3ea295ce-a61e-4501-915d-e706f5af0482",
   "metadata": {},
   "source": [
    "### Efficiency & rates"
   ]
  },
  {
   "cell_type": "code",
   "execution_count": null,
   "id": "aaf7c514-b455-4d76-b492-fde20cc1cf70",
   "metadata": {},
   "outputs": [],
   "source": [
    "display(results[\"analysis\"])"
   ]
  },
  {
   "cell_type": "markdown",
   "id": "0ea207f8-abc4-40df-a113-101bdeb6f9d3",
   "metadata": {},
   "source": [
    "### Histograms"
   ]
  },
  {
   "cell_type": "code",
   "execution_count": null,
   "id": "fe36945a-a546-49f7-b881-6740a05e0a4d",
   "metadata": {},
   "outputs": [],
   "source": [
    "# Setup draw for this cutset\n",
    "draw = Draw(cutset_name=ana_label.split('_')[0])\n",
    "# Define image directory\n",
    "img_dir = f\"../../../output/images/{ana_label}\"\n",
    "os.makedirs(img_dir, exist_ok=True)"
   ]
  },
  {
   "cell_type": "code",
   "execution_count": null,
   "id": "1c1cb08f-8bb7-49fe-b4a6-6f8782efaa4e",
   "metadata": {},
   "outputs": [],
   "source": [
    "draw.plot_mom_windows(results[\"hists\"], out_path=f\"{img_dir}/h1o_1x3_mom_windows.png\") "
   ]
  },
  {
   "cell_type": "code",
   "execution_count": null,
   "id": "a46e7d69-20f1-4bc0-843b-e61ac7a34312",
   "metadata": {},
   "outputs": [],
   "source": [
    "draw.plot_summary(results[\"hists\"], out_path=f\"{img_dir}/h1o_3x3_summary.png\")"
   ]
  },
  {
   "cell_type": "code",
   "execution_count": null,
   "id": "08d3bc51-631c-4400-8977-79c20559d1b5",
   "metadata": {},
   "outputs": [],
   "source": [
    "draw.plot_crv_z(results[\"hists\"], out_path=f\"{img_dir}/h1o_crv_.png\") "
   ]
  },
  {
   "cell_type": "markdown",
   "id": "c1f7cbde-d1d1-4184-b5a0-d9bba501b3d0",
   "metadata": {},
   "source": [
    "### Background event info"
   ]
  },
  {
   "cell_type": "code",
   "execution_count": null,
   "id": "c4bd33a5-f1db-4d8e-aa20-9c26917dcb68",
   "metadata": {},
   "outputs": [],
   "source": [
    "print(results[\"event_info\"])"
   ]
  },
  {
   "cell_type": "code",
   "execution_count": null,
   "id": "b7bfa30e-5919-43ef-ae58-cc3cccf54c2d",
   "metadata": {},
   "outputs": [],
   "source": [
    "if results[\"events\"] is not None:\n",
    "    from pyutils.pyprint import Print\n",
    "    printer = Print()\n",
    "    printer.print_n_events(results[\"events\"], n_events = len(results[\"events\"]))"
   ]
  }
 ],
 "metadata": {
  "kernelspec": {
   "display_name": "mu2e_env [conda env:.conda-ana_v2.2.0]",
   "language": "python",
   "name": "conda-env-.conda-ana_v2.2.0-ana_v2.2.0"
  },
  "language_info": {
   "codemirror_mode": {
    "name": "ipython",
    "version": 3
   },
   "file_extension": ".py",
   "mimetype": "text/x-python",
   "name": "python",
   "nbconvert_exporter": "python",
   "pygments_lexer": "ipython3",
   "version": "3.12.7"
  }
 },
 "nbformat": 4,
 "nbformat_minor": 5
}
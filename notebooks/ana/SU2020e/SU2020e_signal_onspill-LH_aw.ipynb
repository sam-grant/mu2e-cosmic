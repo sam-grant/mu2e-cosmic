{
 "cells": [
  {
   "cell_type": "markdown",
   "id": "605b232d-bf5b-49fb-ab9c-74b4ae8e2c60",
   "metadata": {},
   "source": [
    "# Analysis notebook: `SU2020e_signal_onspill-LH_aw`  "
   ]
  },
  {
   "cell_type": "markdown",
   "id": "4195209a-35f1-4fa7-99a8-aa4aaddfd0f4",
   "metadata": {},
   "source": [
    "## Define analysis name"
   ]
  },
  {
   "cell_type": "code",
   "execution_count": 1,
   "id": "618ef8f9-584c-4fba-bd76-fe84491b4bca",
   "metadata": {},
   "outputs": [],
   "source": [
    "ana_label = \"SU2020e_signal_onspill-LH_aw\""
   ]
  },
  {
   "cell_type": "markdown",
   "id": "e32ec022-d7f3-4686-9380-72b948c838ca",
   "metadata": {},
   "source": [
    "## Preamble"
   ]
  },
  {
   "cell_type": "code",
   "execution_count": 2,
   "id": "1c387eb2-15aa-4b4a-8bef-464a55d1539b",
   "metadata": {},
   "outputs": [],
   "source": [
    "import sys\n",
    "sys.path.append(\"..\")\n",
    "from preamble import *"
   ]
  },
  {
   "cell_type": "markdown",
   "id": "452c4c89-24f4-44e4-b77f-4fa6a5ed9767",
   "metadata": {},
   "source": [
    "## Load data"
   ]
  },
  {
   "cell_type": "code",
   "execution_count": 3,
   "id": "da93259b-0ca7-4aed-8a27-02fd0f62c3d5",
   "metadata": {},
   "outputs": [
    {
     "name": "stdout",
     "output_type": "stream",
     "text": [
      "/bin/bash: -c: line 1: syntax error near unexpected token `newline'\n",
      "/bin/bash: -c: line 1: `ls ../../output/results/<ana_label>'\n"
     ]
    }
   ],
   "source": [
    "!ls ../../../output/results/SU2020e_signal_onspill-LH_aw"
   ]
  },
  {
   "cell_type": "code",
   "execution_count": 4,
   "id": "f22ea54c-42d0-45e5-84bb-9b74c5835462",
   "metadata": {},
   "outputs": [
    {
     "name": "stdout",
     "output_type": "stream",
     "text": [
      "[Load] ✅ Initialised with out_path=../../output/results/<ana_label>\n"
     ]
    }
   ],
   "source": [
    "loader = Load(\n",
    "    in_path = f\"../../../output/results/{ana_label}\"\n",
    ")"
   ]
  },
  {
   "cell_type": "code",
   "execution_count": 1,
   "id": "922e9fd6-131c-426e-a517-a0e241286ef9",
   "metadata": {},
   "outputs": [],
   "source": [
    "results = loader.load_pkl() \n",
    "results_from_persistent = loader.load_all() # Persistent backup "
   ]
  },
  {
   "cell_type": "markdown",
   "id": "16e50156-648f-4839-bbca-ae6c7f8181fd",
   "metadata": {},
   "source": [
    "## Analyse results"
   ]
  },
  {
   "cell_type": "markdown",
   "id": "62f3857f-c29c-4ed5-8a36-ee9aebd8a48f",
   "metadata": {},
   "source": [
    "### Cut flow"
   ]
  },
  {
   "cell_type": "code",
   "execution_count": null,
   "id": "eeac7f57-16ae-471f-a973-8886834a1abd",
   "metadata": {},
   "outputs": [],
   "source": [
    "display(results[\"cut_flow\"].round(3))"
   ]
  },
  {
   "cell_type": "markdown",
   "id": "c9a387a5-eadb-4c5c-98c1-0a873fdfe655",
   "metadata": {},
   "source": [
    "### Efficiency & rates"
   ]
  },
  {
   "cell_type": "code",
   "execution_count": null,
   "id": "823a8f32-0d55-49a4-8975-d1374541b2ab",
   "metadata": {},
   "outputs": [],
   "source": [
    "display(results[\"analysis\"].round(3))"
   ]
  },
  {
   "cell_type": "markdown",
   "id": "09cb3554-0106-44ec-85c7-3c673cb178a6",
   "metadata": {},
   "source": [
    "### Histograms"
   ]
  },
  {
   "cell_type": "code",
   "execution_count": null,
   "id": "2720af4e-3f0a-473c-9d45-e1a390f19247",
   "metadata": {},
   "outputs": [],
   "source": [
    "# Setup draw for this cutset\n",
    "on_spill = \"offspill\" not in ana_label\n",
    "draw = Draw(cutset_name=ana_label.split('_')[0], on_spill=on_spill)\n",
    "# Define image directory\n",
    "img_dir = f\"../../../output/images/{ana_label}\"\n",
    "os.makedirs(img_dir, exist_ok=True)"
   ]
  },
  {
   "cell_type": "code",
   "execution_count": null,
   "id": "24ec3485-8f58-4d41-8dfc-eeb92ac4146b",
   "metadata": {},
   "outputs": [],
   "source": [
    "draw.plot_mom_windows(results[\"hists\"], out_path=f\"{img_dir}/h1o_1x3_mom_windows.png\") "
   ]
  },
  {
   "cell_type": "code",
   "execution_count": null,
   "id": "ae662c27-fdc0-4bba-ada6-9dac589aac5d",
   "metadata": {},
   "outputs": [],
   "source": [
    "draw.plot_summary(results[\"hists\"], out_path=f\"{img_dir}/h1o_3x3_summary.png\")"
   ]
  },
  {
   "cell_type": "code",
   "execution_count": null,
   "id": "bece69fb-835c-4105-ae40-cacf07cc4079",
   "metadata": {},
   "outputs": [],
   "source": [
    "draw.plot_mom_summary(results[\"hists\"], out_path=f\"{img_dir}/h1o_2x2_mom_summary.png\")"
   ]
  },
  {
   "cell_type": "code",
   "execution_count": null,
   "id": "58582229-a7ff-4ec5-b5a9-905cf2bd560b",
   "metadata": {},
   "outputs": [],
   "source": [
    "draw.plot_crv_z(results[\"hists\"], out_path=f\"{img_dir}/h1o_crv_z.png\") "
   ]
  },
  {
   "cell_type": "markdown",
   "id": "0388e63a-4c8b-4a35-b03c-ee046a53ec4f",
   "metadata": {},
   "source": [
    "### Background event info"
   ]
  },
  {
   "cell_type": "code",
   "execution_count": null,
   "id": "56138261-06cb-45b6-8156-e6c00dfc81e9",
   "metadata": {},
   "outputs": [],
   "source": [
    "print(results[\"event_info\"])"
   ]
  },
  {
   "cell_type": "code",
   "execution_count": null,
   "id": "53776271-5782-435a-8b83-1ce1c8137731",
   "metadata": {},
   "outputs": [],
   "source": [
    "if results[\"events\"] is not None:\n",
    "    from pyutils.pyprint import Print\n",
    "    printer = Print()\n",
    "    printer.print_n_events(results[\"events\"], n_events = len(results[\"events\"]))"
   ]
  }
 ],
 "metadata": {
  "kernelspec": {
   "display_name": "mu2e_env [conda env:.conda-ana_v2.3.0]",
   "language": "python",
   "name": "conda-env-.conda-ana_v2.3.0-ana_v2.3.0"
  },
  "language_info": {
   "codemirror_mode": {
    "name": "ipython",
    "version": 3
   },
   "file_extension": ".py",
   "mimetype": "text/x-python",
   "name": "python",
   "nbconvert_exporter": "python",
   "pygments_lexer": "ipython3",
   "version": "3.12.7"
  }
 },
 "nbformat": 4,
 "nbformat_minor": 5
}

{
 "cells": [
  {
   "cell_type": "markdown",
   "id": "df0be5ab-368f-4cba-95de-4e24eda54b7b",
   "metadata": {},
   "source": [
    "# Analysis notebook: `SU2020e_CRY_onspill-LH_aw`  "
   ]
  },
  {
   "cell_type": "markdown",
   "id": "cd5751e7-a56d-4e12-9d56-907fc17bfaad",
   "metadata": {},
   "source": [
    "## Define analysis name"
   ]
  },
  {
   "cell_type": "code",
   "execution_count": 1,
   "id": "95dfb414-0b9f-477b-beb8-1ac7d41d52b7",
   "metadata": {},
   "outputs": [],
   "source": [
    "ana_label = \"SU2020e_CRY_onspill-LH_aw\""
   ]
  },
  {
   "cell_type": "markdown",
   "id": "05b92df1-fbea-470a-b659-c255fcb91d62",
   "metadata": {},
   "source": [
    "## Preamble"
   ]
  },
  {
   "cell_type": "code",
   "execution_count": 2,
   "id": "313b6a6b-af24-4376-969e-1ff4748c93ba",
   "metadata": {},
   "outputs": [],
   "source": [
    "import sys\n",
    "sys.path.append(\"..\")\n",
    "from preamble import *"
   ]
  },
  {
   "cell_type": "markdown",
   "id": "d31a92e0-d9d5-49b0-82c0-8182f2f71772",
   "metadata": {},
   "source": [
    "## Load data"
   ]
  },
  {
   "cell_type": "code",
   "execution_count": 3,
   "id": "f0e439b1-a8cf-4b47-b8e0-4724d0ad5ba5",
   "metadata": {},
   "outputs": [
    {
     "name": "stdout",
     "output_type": "stream",
     "text": [
      "/bin/bash: -c: line 1: syntax error near unexpected token `newline'\n",
      "/bin/bash: -c: line 1: `ls ../../output/results/<ana_label>'\n"
     ]
    }
   ],
   "source": [
    "!ls ../../../output/results/SU2020e_CRY_onspill-LH_aw"
   ]
  },
  {
   "cell_type": "code",
   "execution_count": 4,
   "id": "211779d0-a56b-4180-9420-7a48dfe9986c",
   "metadata": {},
   "outputs": [
    {
     "name": "stdout",
     "output_type": "stream",
     "text": [
      "[Load] ✅ Initialised with out_path=../../output/results/<ana_label>\n"
     ]
    }
   ],
   "source": [
    "loader = Load(\n",
    "    in_path = f\"../../../output/results/{ana_label}\"\n",
    ")"
   ]
  },
  {
   "cell_type": "code",
   "execution_count": 1,
   "id": "002f596b-8885-4bd1-a40e-d1f87a7e1fd2",
   "metadata": {},
   "outputs": [],
   "source": [
    "results = loader.load_pkl() \n",
    "results_from_persistent = loader.load_all() # Persistent backup "
   ]
  },
  {
   "cell_type": "markdown",
   "id": "4092ec9a-e2a2-44c3-b166-959a8a3b95a6",
   "metadata": {},
   "source": [
    "## Analyse results"
   ]
  },
  {
   "cell_type": "markdown",
   "id": "05a4e30d-662f-4dc8-8720-598502d2ce7b",
   "metadata": {},
   "source": [
    "### Cut flow"
   ]
  },
  {
   "cell_type": "code",
   "execution_count": null,
   "id": "dec0e685-e982-457d-a6a7-2fa0a0656258",
   "metadata": {},
   "outputs": [],
   "source": [
    "display(results[\"cut_flow\"].round(3))"
   ]
  },
  {
   "cell_type": "markdown",
   "id": "ccd0816f-fe0e-4127-af3e-54670d6426e0",
   "metadata": {},
   "source": [
    "### Efficiency & rates"
   ]
  },
  {
   "cell_type": "code",
   "execution_count": null,
   "id": "23fbfa20-7808-419b-bb32-a61a11c5bb1a",
   "metadata": {},
   "outputs": [],
   "source": [
    "display(results[\"analysis\"].round(3))"
   ]
  },
  {
   "cell_type": "markdown",
   "id": "4fc8837f-a12b-4d6c-a698-ad34b31daa33",
   "metadata": {},
   "source": [
    "### Histograms"
   ]
  },
  {
   "cell_type": "code",
   "execution_count": null,
   "id": "5d37bd13-45c6-46a1-b050-320970287ef4",
   "metadata": {},
   "outputs": [],
   "source": [
    "# Setup draw for this cutset\n",
    "on_spill = \"offspill\" not in ana_label\n",
    "draw = Draw(cutset_name=ana_label.split('_')[0], on_spill=on_spill)\n",
    "# Define image directory\n",
    "img_dir = f\"../../../output/images/{ana_label}\"\n",
    "os.makedirs(img_dir, exist_ok=True)"
   ]
  },
  {
   "cell_type": "code",
   "execution_count": null,
   "id": "42e93ab6-7900-47ab-80a4-b4ef9b897b96",
   "metadata": {},
   "outputs": [],
   "source": [
    "draw.plot_mom_windows(results[\"hists\"], out_path=f\"{img_dir}/h1o_1x3_mom_windows.png\") "
   ]
  },
  {
   "cell_type": "code",
   "execution_count": null,
   "id": "d9d49b96-c05a-48e2-a92e-e9cd5932a55e",
   "metadata": {},
   "outputs": [],
   "source": [
    "draw.plot_summary(results[\"hists\"], out_path=f\"{img_dir}/h1o_3x3_summary.png\")"
   ]
  },
  {
   "cell_type": "code",
   "execution_count": null,
   "id": "38a289d0-f198-433b-8102-f085dc09cd69",
   "metadata": {},
   "outputs": [],
   "source": [
    "draw.plot_mom_summary(results[\"hists\"], out_path=f\"{img_dir}/h1o_2x2_mom_summary.png\")"
   ]
  },
  {
   "cell_type": "code",
   "execution_count": null,
   "id": "c30b09b0-dd9e-42f9-8c88-57fed761c4dc",
   "metadata": {},
   "outputs": [],
   "source": [
    "draw.plot_crv_z(results[\"hists\"], out_path=f\"{img_dir}/h1o_crv_z.png\") "
   ]
  },
  {
   "cell_type": "markdown",
   "id": "d6041af2-2a4c-4a21-b9d7-0a591b515318",
   "metadata": {},
   "source": [
    "### Background event info"
   ]
  },
  {
   "cell_type": "code",
   "execution_count": null,
   "id": "b9335bc6-870d-4f3e-a8e0-eb15b6fa90c9",
   "metadata": {},
   "outputs": [],
   "source": [
    "print(results[\"event_info\"])"
   ]
  },
  {
   "cell_type": "code",
   "execution_count": null,
   "id": "2cc760fa-1062-4ece-ba1b-959b7b903339",
   "metadata": {},
   "outputs": [],
   "source": [
    "if results[\"events\"] is not None:\n",
    "    from pyutils.pyprint import Print\n",
    "    printer = Print()\n",
    "    printer.print_n_events(results[\"events\"], n_events = len(results[\"events\"]))"
   ]
  }
 ],
 "metadata": {
  "kernelspec": {
   "display_name": "mu2e_env [conda env:.conda-ana_v2.2.0]",
   "language": "python",
   "name": "conda-env-.conda-ana_v2.2.0-ana_v2.2.0"
  },
  "language_info": {
   "codemirror_mode": {
    "name": "ipython",
    "version": 3
   },
   "file_extension": ".py",
   "mimetype": "text/x-python",
   "name": "python",
   "nbconvert_exporter": "python",
   "pygments_lexer": "ipython3",
   "version": "3.12.7"
  }
 },
 "nbformat": 4,
 "nbformat_minor": 5
}
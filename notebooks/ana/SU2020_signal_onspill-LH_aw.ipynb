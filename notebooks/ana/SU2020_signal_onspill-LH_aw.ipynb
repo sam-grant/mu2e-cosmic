{
 "cells": [
  {
   "cell_type": "markdown",
   "id": "8cb5a872-8d4e-4ca4-ad4a-924d9726867a",
   "metadata": {},
   "source": [
    "# Analysis notebook: `SU2020_signal_onspill-LH_aw`  "
   ]
  },
  {
   "cell_type": "markdown",
   "id": "f254f8d1-1a62-4b62-a354-aa40b0967178",
   "metadata": {},
   "source": [
    "## Define analysis name"
   ]
  },
  {
   "cell_type": "code",
   "execution_count": 1,
   "id": "6e246cb1-a425-416e-85dd-ad155812e983",
   "metadata": {},
   "outputs": [],
   "source": [
    "ana_label = \"SU2020_signal_onspill-LH_aw\""
   ]
  },
  {
   "cell_type": "markdown",
   "id": "b23b481b-3d67-4e5c-91e0-11701b174ed9",
   "metadata": {},
   "source": [
    "## Preamble"
   ]
  },
  {
   "cell_type": "code",
   "execution_count": 2,
   "id": "33e1ae6f-dc4d-41aa-9df7-826b80f2bbda",
   "metadata": {},
   "outputs": [],
   "source": [
    "from preamble import *"
   ]
  },
  {
   "cell_type": "markdown",
   "id": "e0e381d9-2495-42db-b748-92107ea06da0",
   "metadata": {},
   "source": [
    "## Load data"
   ]
  },
  {
   "cell_type": "code",
   "execution_count": 3,
   "id": "a8a249ca-e4af-4e0e-bb17-905d740300f0",
   "metadata": {},
   "outputs": [
    {
     "name": "stdout",
     "output_type": "stream",
     "text": [
      "/bin/bash: -c: line 1: syntax error near unexpected token `newline'\n",
      "/bin/bash: -c: line 1: `ls ../../output/results/<ana_label>'\n"
     ]
    }
   ],
   "source": [
    "!ls ../../output/results/SU2020_signal_onspill-LH_aw"
   ]
  },
  {
   "cell_type": "code",
   "execution_count": 4,
   "id": "fdd0084b-8d7a-43d1-b686-3cb33d9c5e55",
   "metadata": {},
   "outputs": [
    {
     "name": "stdout",
     "output_type": "stream",
     "text": [
      "[Load] ✅ Initialised with out_path=../../output/results/<ana_label>\n"
     ]
    }
   ],
   "source": [
    "loader = Load(\n",
    "    in_path = f\"../../output/results/{ana_label}\"\n",
    ")"
   ]
  },
  {
   "cell_type": "code",
   "execution_count": 1,
   "id": "8e00e0e4-7124-407a-80f9-65a6429a64a4",
   "metadata": {},
   "outputs": [],
   "source": [
    "results = loader.load_pkl() \n",
    "results_from_persistent = loader.load_all() # Persistent backup "
   ]
  },
  {
   "cell_type": "markdown",
   "id": "15c2b9fa-bce9-4860-a699-5cb4012c5b6a",
   "metadata": {},
   "source": [
    "## Analyse results"
   ]
  },
  {
   "cell_type": "markdown",
   "id": "e18c2c69-4cd4-4ba6-974d-9b40c2db76a4",
   "metadata": {},
   "source": [
    "### Cut flow"
   ]
  },
  {
   "cell_type": "code",
   "execution_count": null,
   "id": "cb305c06-62f5-4dd3-b60d-245c02feb102",
   "metadata": {},
   "outputs": [],
   "source": [
    "display(results[\"cut_flow\"])"
   ]
  },
  {
   "cell_type": "markdown",
   "id": "618672b0-ff31-4ae9-9ed4-7b0e90cdd585",
   "metadata": {},
   "source": [
    "### Histograms"
   ]
  },
  {
   "cell_type": "code",
   "execution_count": null,
   "id": "e0e190c5-5af4-48e7-bdb4-a3b0aca702d2",
   "metadata": {},
   "outputs": [],
   "source": [
    "draw = Draw()\n",
    "\n",
    "# Define image directory\n",
    "img_dir = f\"../../output/images/{ana_label}\"\n",
    "os.makedirs(img_dir, exist_ok=True)"
   ]
  },
  {
   "cell_type": "code",
   "execution_count": null,
   "id": "95360479-5a6d-4bba-9277-f3ab1513b041",
   "metadata": {},
   "outputs": [],
   "source": [
    "draw.plot_mom_windows(results[\"hists\"], out_path=f\"{img_dir}/h1o_1x3_mom_windows.png\") "
   ]
  },
  {
   "cell_type": "code",
   "execution_count": null,
   "id": "1d6ece9c-b5ee-4ff3-aa8f-91b67b0eb7be",
   "metadata": {},
   "outputs": [],
   "source": [
    "draw.plot_crv_z(results[\"hists\"], out_path=f\"{img_dir}/h1o_crv_zwindows.png\") "
   ]
  },
  {
   "cell_type": "code",
   "execution_count": null,
   "id": "b504abc3-79e4-4185-9a75-81a62d58d184",
   "metadata": {},
   "outputs": [],
   "source": [
    "draw.plot_trk_params(results[\"hists\"])"
   ]
  },
  {
   "cell_type": "code",
   "execution_count": null,
   "id": "f4c87ae5-fd6e-46fe-89d4-78c107654d52",
   "metadata": {},
   "outputs": [],
   "source": [
    "# draw.plot_trkfit_params(results[\"hists\"])\n",
    "draw.plot_trkfit_params_SU2020(results[\"hists\"])"
   ]
  },
  {
   "cell_type": "markdown",
   "id": "47260575-75fc-46d8-882f-8bc4d7150b61",
   "metadata": {},
   "source": [
    "### Efficiency "
   ]
  },
  {
   "cell_type": "code",
   "execution_count": null,
   "id": "e07d2fd8-ac8e-4baa-a64d-19ea96cac25b",
   "metadata": {},
   "outputs": [],
   "source": [
    "display(results[\"efficiency\"])"
   ]
  },
  {
   "cell_type": "markdown",
   "id": "8d1ba6a4-0fe8-43a0-a5ec-03e91dc6d860",
   "metadata": {},
   "source": [
    "### Background event info"
   ]
  },
  {
   "cell_type": "code",
   "execution_count": null,
   "id": "0105977a-ebc3-462d-949a-a1dac438f6e9",
   "metadata": {},
   "outputs": [],
   "source": [
    "print(results[\"event_info\"])"
   ]
  },
  {
   "cell_type": "code",
   "execution_count": null,
   "id": "9a6843b1-ea67-41cb-9fe2-e7f84dececc2",
   "metadata": {},
   "outputs": [],
   "source": [
    "if results[\"events\"] is not None:\n",
    "    from pyutils.pyprint import Print\n",
    "    printer = Print()\n",
    "    printer.print_n_events(results[\"events\"], n_events = len(results[\"events\"]))"
   ]
  },
  {
   "cell_type": "code",
   "execution_count": null,
   "id": "b4642d49-eb2e-4b0f-a018-8507162e1108",
   "metadata": {},
   "outputs": [],
   "source": []
  }
 ],
 "metadata": {
  "kernelspec": {
   "display_name": "mu2e_env [conda env:.conda-ana_v2.2.0]",
   "language": "python",
   "name": "conda-env-.conda-ana_v2.2.0-ana_v2.2.0"
  },
  "language_info": {
   "codemirror_mode": {
    "name": "ipython",
    "version": 3
   },
   "file_extension": ".py",
   "mimetype": "text/x-python",
   "name": "python",
   "nbconvert_exporter": "python",
   "pygments_lexer": "ipython3",
   "version": "3.12.7"
  }
 },
 "nbformat": 4,
 "nbformat_minor": 5
}
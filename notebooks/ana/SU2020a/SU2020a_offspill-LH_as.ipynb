{
 "cells": [
  {
   "cell_type": "markdown",
   "id": "4dfa81f5-1d37-4c85-b1f3-35a1a144b2c8",
   "metadata": {},
   "source": [
    "# Analysis notebook: `SU2020a_offspill-LH_as`  "
   ]
  },
  {
   "cell_type": "markdown",
   "id": "cbfb3a2b-a51b-4223-9918-67c214e4ac8b",
   "metadata": {},
   "source": [
    "## Define analysis name"
   ]
  },
  {
   "cell_type": "code",
   "execution_count": 1,
   "id": "0b20b31f-e080-40d3-9ec3-5a7c1365b8e6",
   "metadata": {},
   "outputs": [],
   "source": [
    "ana_label = \"SU2020a_offspill-LH_as\""
   ]
  },
  {
   "cell_type": "markdown",
   "id": "9a351bdc-eef6-4450-85ff-f6996bbddd5b",
   "metadata": {},
   "source": [
    "## Preamble"
   ]
  },
  {
   "cell_type": "code",
   "execution_count": 2,
   "id": "52538396-dfe3-416f-b46c-3b56b3f0e7bc",
   "metadata": {},
   "outputs": [],
   "source": [
    "import sys\n",
    "sys.path.append(\"..\")\n",
    "from preamble import *"
   ]
  },
  {
   "cell_type": "markdown",
   "id": "76654355-322b-4111-a1fe-66ccf73f928d",
   "metadata": {},
   "source": [
    "## Load data"
   ]
  },
  {
   "cell_type": "code",
   "execution_count": 3,
   "id": "9ff5c2f3-5d09-4b4d-98c6-7fec04191106",
   "metadata": {},
   "outputs": [
    {
     "name": "stdout",
     "output_type": "stream",
     "text": [
      "/bin/bash: -c: line 1: syntax error near unexpected token `newline'\n",
      "/bin/bash: -c: line 1: `ls ../../output/results/<ana_label>'\n"
     ]
    }
   ],
   "source": [
    "!ls ../../../output/results/SU2020a_offspill-LH_as"
   ]
  },
  {
   "cell_type": "code",
   "execution_count": 4,
   "id": "576486e9-3e05-423c-a90f-422200ffbde8",
   "metadata": {},
   "outputs": [
    {
     "name": "stdout",
     "output_type": "stream",
     "text": [
      "[Load] ✅ Initialised with out_path=../../output/results/<ana_label>\n"
     ]
    }
   ],
   "source": [
    "loader = Load(\n",
    "    in_path = f\"../../../output/results/{ana_label}\"\n",
    ")"
   ]
  },
  {
   "cell_type": "code",
   "execution_count": 1,
   "id": "b721f16c-e405-496a-8440-871b8a6b619d",
   "metadata": {},
   "outputs": [],
   "source": [
    "results = loader.load_pkl() \n",
    "results_from_persistent = loader.load_all() # Persistent backup "
   ]
  },
  {
   "cell_type": "markdown",
   "id": "bb6981a4-6d1a-4758-bf41-6d89392c66cf",
   "metadata": {},
   "source": [
    "## Analyse results"
   ]
  },
  {
   "cell_type": "markdown",
   "id": "ed650730-1733-4146-8305-50c019c37028",
   "metadata": {},
   "source": [
    "### Cut flow"
   ]
  },
  {
   "cell_type": "code",
   "execution_count": null,
   "id": "af0d8583-116e-47b6-9197-24270f7d4db7",
   "metadata": {},
   "outputs": [],
   "source": [
    "display(results[\"cut_flow\"].round(3))"
   ]
  },
  {
   "cell_type": "markdown",
   "id": "569dffdf-2482-47b5-bba7-5421eb799140",
   "metadata": {},
   "source": [
    "### Efficiency & rates"
   ]
  },
  {
   "cell_type": "code",
   "execution_count": null,
   "id": "6c125f50-989d-4d7b-828f-a906beff0351",
   "metadata": {},
   "outputs": [],
   "source": [
    "display(results[\"analysis\"].round(3))"
   ]
  },
  {
   "cell_type": "markdown",
   "id": "175eb09e-e95f-43b4-8437-3fbe6237f6be",
   "metadata": {},
   "source": [
    "### Histograms"
   ]
  },
  {
   "cell_type": "code",
   "execution_count": null,
   "id": "692c064c-ec76-429d-bf62-fad2e7be28cb",
   "metadata": {},
   "outputs": [],
   "source": [
    "# Setup draw for this cutset\n",
    "on_spill = \"offspill\" not in ana_label\n",
    "draw = Draw(cutset_name=ana_label.split('_')[0], on_spill=on_spill)\n",
    "# Define image directory\n",
    "img_dir = f\"../../../output/images/{ana_label}\"\n",
    "os.makedirs(img_dir, exist_ok=True)"
   ]
  },
  {
   "cell_type": "code",
   "execution_count": null,
   "id": "9e0bad1e-fffd-49ec-a13a-ad8075e0633f",
   "metadata": {},
   "outputs": [],
   "source": [
    "draw.plot_mom_windows(results[\"hists\"], out_path=f\"{img_dir}/h1o_1x3_mom_windows.png\") "
   ]
  },
  {
   "cell_type": "code",
   "execution_count": null,
   "id": "7b41b4ec-2030-47c4-82db-84bbd519a97a",
   "metadata": {},
   "outputs": [],
   "source": [
    "draw.plot_summary(results[\"hists\"], out_path=f\"{img_dir}/h1o_3x3_summary.png\")"
   ]
  },
  {
   "cell_type": "code",
   "execution_count": null,
   "id": "56d4c5be-5443-4df1-9e96-8276a05bf899",
   "metadata": {},
   "outputs": [],
   "source": [
    "draw.plot_mom_summary(results[\"hists\"], out_path=f\"{img_dir}/h1o_2x2_mom_summary.png\")"
   ]
  },
  {
   "cell_type": "code",
   "execution_count": null,
   "id": "fa52ca9a-6296-4bbb-bb72-42c31ad32d28",
   "metadata": {},
   "outputs": [],
   "source": [
    "draw.plot_crv_z(results[\"hists\"], out_path=f\"{img_dir}/h1o_crv_z.png\") "
   ]
  },
  {
   "cell_type": "markdown",
   "id": "1bddb599-9e4e-43e2-ba66-10a199f00f5b",
   "metadata": {},
   "source": [
    "### Background event info"
   ]
  },
  {
   "cell_type": "code",
   "execution_count": null,
   "id": "95758b70-8ae3-483f-a490-9f5a0219afdc",
   "metadata": {},
   "outputs": [],
   "source": [
    "print(results[\"event_info\"])"
   ]
  },
  {
   "cell_type": "code",
   "execution_count": null,
   "id": "91388112-a127-413c-b72e-3c5118dedee3",
   "metadata": {},
   "outputs": [],
   "source": [
    "if results[\"events\"] is not None:\n",
    "    from pyutils.pyprint import Print\n",
    "    printer = Print()\n",
    "    printer.print_n_events(results[\"events\"], n_events = len(results[\"events\"]))"
   ]
  }
 ],
 "metadata": {
  "kernelspec": {
   "display_name": "mu2e_env [conda env:.conda-ana_v2.2.0]",
   "language": "python",
   "name": "conda-env-.conda-ana_v2.2.0-ana_v2.2.0"
  },
  "language_info": {
   "codemirror_mode": {
    "name": "ipython",
    "version": 3
   },
   "file_extension": ".py",
   "mimetype": "text/x-python",
   "name": "python",
   "nbconvert_exporter": "python",
   "pygments_lexer": "ipython3",
   "version": "3.12.7"
  }
 },
 "nbformat": 4,
 "nbformat_minor": 5
}
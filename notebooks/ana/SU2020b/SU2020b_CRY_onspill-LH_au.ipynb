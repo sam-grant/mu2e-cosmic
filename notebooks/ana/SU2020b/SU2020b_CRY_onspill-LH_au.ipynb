{
 "cells": [
  {
   "cell_type": "markdown",
   "id": "a971443f-6df0-4bbc-8eba-c05503a8b2c9",
   "metadata": {},
   "source": [
    "# Analysis notebook: `SU2020b_CRY_onspill-LH_au`  "
   ]
  },
  {
   "cell_type": "markdown",
   "id": "18c0c934-364b-455f-afb1-be0da2d5b4cf",
   "metadata": {},
   "source": [
    "## Define analysis name"
   ]
  },
  {
   "cell_type": "code",
   "execution_count": 1,
   "id": "0e10acf6-d9ad-403f-992d-a73207da04c3",
   "metadata": {},
   "outputs": [],
   "source": [
    "ana_label = \"SU2020b_CRY_onspill-LH_au\""
   ]
  },
  {
   "cell_type": "markdown",
   "id": "bdf8931a-e5eb-426c-9f28-fc26cf233b1c",
   "metadata": {},
   "source": [
    "## Preamble"
   ]
  },
  {
   "cell_type": "code",
   "execution_count": 2,
   "id": "9ebf58d4-51ad-477b-b6aa-19d8dfff4148",
   "metadata": {},
   "outputs": [],
   "source": [
    "import sys\n",
    "sys.path.append(\"..\")\n",
    "from preamble import *"
   ]
  },
  {
   "cell_type": "markdown",
   "id": "dede9257-0242-4822-a6cd-4fbc5e26803c",
   "metadata": {},
   "source": [
    "## Load data"
   ]
  },
  {
   "cell_type": "code",
   "execution_count": 3,
   "id": "f193ae1d-f358-4d12-b78b-ee53f67fcbba",
   "metadata": {},
   "outputs": [
    {
     "name": "stdout",
     "output_type": "stream",
     "text": [
      "/bin/bash: -c: line 1: syntax error near unexpected token `newline'\n",
      "/bin/bash: -c: line 1: `ls ../../output/results/<ana_label>'\n"
     ]
    }
   ],
   "source": [
    "!ls ../../../output/results/SU2020b_CRY_onspill-LH_au"
   ]
  },
  {
   "cell_type": "code",
   "execution_count": 4,
   "id": "12d19617-1e0d-488a-a55d-d3254e279be1",
   "metadata": {},
   "outputs": [
    {
     "name": "stdout",
     "output_type": "stream",
     "text": [
      "[Load] ✅ Initialised with out_path=../../output/results/<ana_label>\n"
     ]
    }
   ],
   "source": [
    "loader = Load(\n",
    "    in_path = f\"../../../output/results/{ana_label}\"\n",
    ")"
   ]
  },
  {
   "cell_type": "code",
   "execution_count": 1,
   "id": "0723df6a-3eec-4fb4-8d7e-674d7fdd5e46",
   "metadata": {},
   "outputs": [],
   "source": [
    "results = loader.load_pkl() \n",
    "results_from_persistent = loader.load_all() # Persistent backup "
   ]
  },
  {
   "cell_type": "markdown",
   "id": "24fbbc19-fc8a-42c4-8323-0581a8050591",
   "metadata": {},
   "source": [
    "## Analyse results"
   ]
  },
  {
   "cell_type": "markdown",
   "id": "3204cc47-604e-4fc6-a302-007944e2e9ae",
   "metadata": {},
   "source": [
    "### Cut flow"
   ]
  },
  {
   "cell_type": "code",
   "execution_count": null,
   "id": "9a3586c5-29df-4861-88b2-a58732b39e07",
   "metadata": {},
   "outputs": [],
   "source": [
    "display(results[\"cut_flow\"])"
   ]
  },
  {
   "cell_type": "markdown",
   "id": "49f9a9cf-5a33-487b-8445-76741530b1fd",
   "metadata": {},
   "source": [
    "### Efficiency & rates"
   ]
  },
  {
   "cell_type": "code",
   "execution_count": null,
   "id": "f74cae0a-7bc9-4e41-b5a5-bda82d9429fe",
   "metadata": {},
   "outputs": [],
   "source": [
    "display(results[\"analysis\"])"
   ]
  },
  {
   "cell_type": "markdown",
   "id": "b95f08aa-24fa-42f3-84ed-b1e4f3ccc2b1",
   "metadata": {},
   "source": [
    "### Histograms"
   ]
  },
  {
   "cell_type": "code",
   "execution_count": null,
   "id": "609f9b5c-4db7-4f0b-8b73-8f11380f6100",
   "metadata": {},
   "outputs": [],
   "source": [
    "# Setup draw for this cutset\n",
    "draw = Draw(cutset_name=ana_label.split('_')[0])\n",
    "# Define image directory\n",
    "img_dir = f\"../../../output/images/{ana_label}\"\n",
    "os.makedirs(img_dir, exist_ok=True)"
   ]
  },
  {
   "cell_type": "code",
   "execution_count": null,
   "id": "adcb65ba-4e9b-4ec2-8061-32b34a0661b5",
   "metadata": {},
   "outputs": [],
   "source": [
    "draw.plot_mom_windows(results[\"hists\"], out_path=f\"{img_dir}/h1o_1x3_mom_windows.png\") "
   ]
  },
  {
   "cell_type": "code",
   "execution_count": null,
   "id": "0017fd02-64ea-4864-ba75-ad43e0feac7e",
   "metadata": {},
   "outputs": [],
   "source": [
    "draw.plot_summary(results[\"hists\"], out_path=f\"{img_dir}/h1o_3x3_summary.png\")"
   ]
  },
  {
   "cell_type": "code",
   "execution_count": null,
   "id": "76dd6eda-8fd4-4230-ba32-3af5311342ea",
   "metadata": {},
   "outputs": [],
   "source": [
    "draw.plot_crv_z(results[\"hists\"], out_path=f\"{img_dir}/h1o_crv_.png\") "
   ]
  },
  {
   "cell_type": "markdown",
   "id": "9fae3029-610a-4eaa-b5f3-4f0b64d8b56a",
   "metadata": {},
   "source": [
    "### Background event info"
   ]
  },
  {
   "cell_type": "code",
   "execution_count": null,
   "id": "e0bf7ef5-bc7d-4148-8971-33f45063cbdc",
   "metadata": {},
   "outputs": [],
   "source": [
    "print(results[\"event_info\"])"
   ]
  },
  {
   "cell_type": "code",
   "execution_count": null,
   "id": "eeaccfe3-9c43-4bc0-93b4-79591e56334c",
   "metadata": {},
   "outputs": [],
   "source": [
    "if results[\"events\"] is not None:\n",
    "    from pyutils.pyprint import Print\n",
    "    printer = Print()\n",
    "    printer.print_n_events(results[\"events\"], n_events = len(results[\"events\"]))"
   ]
  }
 ],
 "metadata": {
  "kernelspec": {
   "display_name": "mu2e_env [conda env:.conda-ana_v2.2.0]",
   "language": "python",
   "name": "conda-env-.conda-ana_v2.2.0-ana_v2.2.0"
  },
  "language_info": {
   "codemirror_mode": {
    "name": "ipython",
    "version": 3
   },
   "file_extension": ".py",
   "mimetype": "text/x-python",
   "name": "python",
   "nbconvert_exporter": "python",
   "pygments_lexer": "ipython3",
   "version": "3.12.7"
  }
 },
 "nbformat": 4,
 "nbformat_minor": 5
}
{
 "cells": [
  {
   "cell_type": "markdown",
   "id": "151cb1f6-5488-463c-a5ae-666646dfda0f",
   "metadata": {},
   "source": [
    "# Analysis notebook: `SU2020_signal_onspill-LH_aq`  "
   ]
  },
  {
   "cell_type": "markdown",
   "id": "a69069a3-befc-4119-9c8e-a0727126b967",
   "metadata": {},
   "source": [
    "## Define analysis name"
   ]
  },
  {
   "cell_type": "code",
   "execution_count": 1,
   "id": "905c79a4-c2b1-43b6-85c3-8c111bf6a1d9",
   "metadata": {},
   "outputs": [],
   "source": [
    "ana_label = \"SU2020_signal_onspill-LH_aq\""
   ]
  },
  {
   "cell_type": "markdown",
   "id": "8b6a86de-3cb5-4935-9bd9-be7b9b14a568",
   "metadata": {},
   "source": [
    "## Preamble"
   ]
  },
  {
   "cell_type": "code",
   "execution_count": 2,
   "id": "3dd9c9de-b8ae-4053-93bf-344660a46212",
   "metadata": {},
   "outputs": [],
   "source": [
    "from preamble import *"
   ]
  },
  {
   "cell_type": "markdown",
   "id": "7dd9898e-ac62-41d2-9289-76ad9b3c2154",
   "metadata": {},
   "source": [
    "## Load data"
   ]
  },
  {
   "cell_type": "code",
   "execution_count": 3,
   "id": "2c5a0dd2-2f97-4618-8b41-4da97fafb117",
   "metadata": {},
   "outputs": [
    {
     "name": "stdout",
     "output_type": "stream",
     "text": [
      "cut_flow.csv\thists.h5     SU2020_signal_onspill-LH_aq.log\n",
      "efficiency.csv\tresults.pkl  SU2020_signal_onspill-LH_aq.yaml\n"
     ]
    }
   ],
   "source": [
    "!ls ../../output/results/SU2020_signal_onspill-LH_aq"
   ]
  },
  {
   "cell_type": "code",
   "execution_count": 4,
   "id": "7a945560-9d6c-4e03-a14d-84ca49af3c91",
   "metadata": {},
   "outputs": [
    {
     "name": "stdout",
     "output_type": "stream",
     "text": [
      "[Load] ✅ Initialised with out_path=../../output/results/SU2020_signal_onspill-LH_aq\n"
     ]
    }
   ],
   "source": [
    "loader = Load(\n",
    "    in_path = f\"../../output/results/{ana_label}\"\n",
    ")"
   ]
  },
  {
   "cell_type": "code",
   "execution_count": 5,
   "id": "f6f0fe1f-8f20-4ec8-b0c1-d10201a0e3ef",
   "metadata": {},
   "outputs": [
    {
     "name": "stdout",
     "output_type": "stream",
     "text": [
      "[Load] ✅ Successfully loaded results from ../../output/results/SU2020_signal_onspill-LH_aq/results.pkl\n",
      "[Load] ✅ Loaded cut stats from ../../output/results/SU2020_signal_onspill-LH_aq/cut_flow.csv\n",
      "[Load] ✅ Loaded histograms from ../../output/results/SU2020_signal_onspill-LH_aq/hists.h5\n",
      "[Load] ✅ Loaded efficiency info from ../../output/results/SU2020_signal_onspill-LH_aq/efficiency.csv\n",
      "[Load] ⚠️ File not found: ../../output/results/SU2020_signal_onspill-LH_aq/events.parquet\n",
      "[Load] ⚠️ File not found: ../../output/results/SU2020_signal_onspill-LH_aq/info.txt\n"
     ]
    }
   ],
   "source": [
    "results = loader.load_pkl() \n",
    "results_from_persistent = loader.load_all() # Persistent backup "
   ]
  },
  {
   "cell_type": "markdown",
   "id": "9c38950e-34a4-4c2f-8a52-7f91b654cf9f",
   "metadata": {},
   "source": [
    "## Analyse results"
   ]
  },
  {
   "cell_type": "markdown",
   "id": "581c910d-2300-4ab8-9a7b-e21d2c59ae9a",
   "metadata": {},
   "source": [
    "### Cut flow"
   ]
  },
  {
   "cell_type": "code",
   "execution_count": 6,
   "id": "915e7a25-e26f-48f0-a99f-e7bf9b9a31df",
   "metadata": {},
   "outputs": [
    {
     "data": {
      "text/html": [
       "<div>\n",
       "<style scoped>\n",
       "    .dataframe tbody tr th:only-of-type {\n",
       "        vertical-align: middle;\n",
       "    }\n",
       "\n",
       "    .dataframe tbody tr th {\n",
       "        vertical-align: top;\n",
       "    }\n",
       "\n",
       "    .dataframe thead th {\n",
       "        text-align: right;\n",
       "    }\n",
       "</style>\n",
       "<table border=\"1\" class=\"dataframe\">\n",
       "  <thead>\n",
       "    <tr style=\"text-align: right;\">\n",
       "      <th></th>\n",
       "      <th>Cut</th>\n",
       "      <th>Events Passing</th>\n",
       "      <th>Absolute [%]</th>\n",
       "      <th>Relative [%]</th>\n",
       "      <th>Description</th>\n",
       "    </tr>\n",
       "  </thead>\n",
       "  <tbody>\n",
       "    <tr>\n",
       "      <th>0</th>\n",
       "      <td>No cuts</td>\n",
       "      <td>1475237</td>\n",
       "      <td>100.000000</td>\n",
       "      <td>100.000000</td>\n",
       "      <td>No selection applied</td>\n",
       "    </tr>\n",
       "    <tr>\n",
       "      <th>1</th>\n",
       "      <td>is_reco_electron</td>\n",
       "      <td>1473988</td>\n",
       "      <td>99.915336</td>\n",
       "      <td>99.915336</td>\n",
       "      <td>Electron track fits</td>\n",
       "    </tr>\n",
       "    <tr>\n",
       "      <th>2</th>\n",
       "      <td>has_trk_front</td>\n",
       "      <td>1449798</td>\n",
       "      <td>98.275599</td>\n",
       "      <td>98.358874</td>\n",
       "      <td>Tracks intersect tracker entrance</td>\n",
       "    </tr>\n",
       "    <tr>\n",
       "      <th>3</th>\n",
       "      <td>good_trkqual</td>\n",
       "      <td>792767</td>\n",
       "      <td>53.738281</td>\n",
       "      <td>54.681204</td>\n",
       "      <td>Track fit quality &gt; 0.8</td>\n",
       "    </tr>\n",
       "    <tr>\n",
       "      <th>4</th>\n",
       "      <td>within_t0</td>\n",
       "      <td>573169</td>\n",
       "      <td>38.852672</td>\n",
       "      <td>72.299806</td>\n",
       "      <td>t0 at tracker entrance (640 &lt; t_0 &lt; 1650 ns)</td>\n",
       "    </tr>\n",
       "    <tr>\n",
       "      <th>5</th>\n",
       "      <td>is_downstream</td>\n",
       "      <td>573165</td>\n",
       "      <td>38.852401</td>\n",
       "      <td>99.999302</td>\n",
       "      <td>Downstream tracks (p_z &gt; 0 at tracker entrance)</td>\n",
       "    </tr>\n",
       "    <tr>\n",
       "      <th>6</th>\n",
       "      <td>has_hits</td>\n",
       "      <td>568876</td>\n",
       "      <td>38.561668</td>\n",
       "      <td>99.251699</td>\n",
       "      <td>&gt;20 active tracker hits</td>\n",
       "    </tr>\n",
       "    <tr>\n",
       "      <th>7</th>\n",
       "      <td>within_t0err</td>\n",
       "      <td>324769</td>\n",
       "      <td>22.014700</td>\n",
       "      <td>57.089594</td>\n",
       "      <td>Track fit t0 uncertainty (t0err &lt; 0.9 ns)</td>\n",
       "    </tr>\n",
       "    <tr>\n",
       "      <th>8</th>\n",
       "      <td>within_d0</td>\n",
       "      <td>321287</td>\n",
       "      <td>21.778670</td>\n",
       "      <td>98.927853</td>\n",
       "      <td>Distance of closest approach (d_0 &lt; 100 mm)</td>\n",
       "    </tr>\n",
       "    <tr>\n",
       "      <th>9</th>\n",
       "      <td>within_pitch_angle</td>\n",
       "      <td>289686</td>\n",
       "      <td>19.636574</td>\n",
       "      <td>90.164246</td>\n",
       "      <td>Extrapolated pitch angle (0.5 &lt; tan(theta_Dip)...</td>\n",
       "    </tr>\n",
       "    <tr>\n",
       "      <th>10</th>\n",
       "      <td>within_lhr_max_hi</td>\n",
       "      <td>289622</td>\n",
       "      <td>19.632235</td>\n",
       "      <td>99.977907</td>\n",
       "      <td>Loop helix maximum radius (R_max &lt; 680 mm)</td>\n",
       "    </tr>\n",
       "    <tr>\n",
       "      <th>11</th>\n",
       "      <td>is_truth_electron</td>\n",
       "      <td>289622</td>\n",
       "      <td>19.632235</td>\n",
       "      <td>100.000000</td>\n",
       "      <td>Track parents are electrons (truth PID)</td>\n",
       "    </tr>\n",
       "    <tr>\n",
       "      <th>12</th>\n",
       "      <td>one_reco_electron</td>\n",
       "      <td>288489</td>\n",
       "      <td>19.555434</td>\n",
       "      <td>99.608800</td>\n",
       "      <td>One reco electron / event</td>\n",
       "    </tr>\n",
       "    <tr>\n",
       "      <th>13</th>\n",
       "      <td>within_ext_win</td>\n",
       "      <td>276371</td>\n",
       "      <td>18.734007</td>\n",
       "      <td>95.799493</td>\n",
       "      <td>Extended window (100 &lt; p &lt; 110 MeV/c)</td>\n",
       "    </tr>\n",
       "    <tr>\n",
       "      <th>14</th>\n",
       "      <td>within_sig_win</td>\n",
       "      <td>214562</td>\n",
       "      <td>14.544239</td>\n",
       "      <td>77.635497</td>\n",
       "      <td>Signal window (103.6 &lt; p &lt; 104.9 MeV/c)</td>\n",
       "    </tr>\n",
       "  </tbody>\n",
       "</table>\n",
       "</div>"
      ],
      "text/plain": [
       "                   Cut  Events Passing  Absolute [%]  Relative [%]  \\\n",
       "0              No cuts         1475237    100.000000    100.000000   \n",
       "1     is_reco_electron         1473988     99.915336     99.915336   \n",
       "2        has_trk_front         1449798     98.275599     98.358874   \n",
       "3         good_trkqual          792767     53.738281     54.681204   \n",
       "4            within_t0          573169     38.852672     72.299806   \n",
       "5        is_downstream          573165     38.852401     99.999302   \n",
       "6             has_hits          568876     38.561668     99.251699   \n",
       "7         within_t0err          324769     22.014700     57.089594   \n",
       "8            within_d0          321287     21.778670     98.927853   \n",
       "9   within_pitch_angle          289686     19.636574     90.164246   \n",
       "10   within_lhr_max_hi          289622     19.632235     99.977907   \n",
       "11   is_truth_electron          289622     19.632235    100.000000   \n",
       "12   one_reco_electron          288489     19.555434     99.608800   \n",
       "13      within_ext_win          276371     18.734007     95.799493   \n",
       "14      within_sig_win          214562     14.544239     77.635497   \n",
       "\n",
       "                                          Description  \n",
       "0                                No selection applied  \n",
       "1                                 Electron track fits  \n",
       "2                   Tracks intersect tracker entrance  \n",
       "3                             Track fit quality > 0.8  \n",
       "4        t0 at tracker entrance (640 < t_0 < 1650 ns)  \n",
       "5     Downstream tracks (p_z > 0 at tracker entrance)  \n",
       "6                             >20 active tracker hits  \n",
       "7           Track fit t0 uncertainty (t0err < 0.9 ns)  \n",
       "8         Distance of closest approach (d_0 < 100 mm)  \n",
       "9   Extrapolated pitch angle (0.5 < tan(theta_Dip)...  \n",
       "10         Loop helix maximum radius (R_max < 680 mm)  \n",
       "11            Track parents are electrons (truth PID)  \n",
       "12                          One reco electron / event  \n",
       "13              Extended window (100 < p < 110 MeV/c)  \n",
       "14            Signal window (103.6 < p < 104.9 MeV/c)  "
      ]
     },
     "metadata": {},
     "output_type": "display_data"
    }
   ],
   "source": [
    "display(results[\"cut_flow\"])"
   ]
  },
  {
   "cell_type": "markdown",
   "id": "6a64751c-a1e6-44f8-bfd5-a262e49276b9",
   "metadata": {},
   "source": [
    "### Histograms"
   ]
  },
  {
   "cell_type": "code",
   "execution_count": 7,
   "id": "706c4abc-55ed-424f-88e8-c362514ea84b",
   "metadata": {},
   "outputs": [
    {
     "name": "stdout",
     "output_type": "stream",
     "text": [
      "[Plot] ⭐️ Initialised\n"
     ]
    }
   ],
   "source": [
    "draw = Draw()\n",
    "\n",
    "# Define image directory\n",
    "img_dir = f\"../../output/images/{ana_label}\"\n",
    "os.makedirs(img_dir, exist_ok=True)"
   ]
  },
  {
   "cell_type": "code",
   "execution_count": null,
   "id": "a070a7a8-d3e7-4430-b87f-bcba6088e7d5",
   "metadata": {},
   "outputs": [],
   "source": [
    "draw.plot_mom_windows(results[\"hists\"], out_path=f\"{img_dir}/h1o_1x3_mom_windows.png\") "
   ]
  },
  {
   "cell_type": "code",
   "execution_count": null,
   "id": "ea977002-740e-4565-b29c-036bbe884d0a",
   "metadata": {},
   "outputs": [],
   "source": [
    "draw.plot_crv_z(results[\"hists\"], out_path=f\"{img_dir}/h1o_crv_zwindows.png\") "
   ]
  },
  {
   "cell_type": "code",
   "execution_count": null,
   "id": "f664add6-38dc-40f3-afdd-48652f899dcb",
   "metadata": {},
   "outputs": [],
   "source": [
    "draw.plot_trk_params(results[\"hists\"])"
   ]
  },
  {
   "cell_type": "code",
   "execution_count": null,
   "id": "75259c8c-ab08-46f6-9aa1-32d71afbba11",
   "metadata": {},
   "outputs": [],
   "source": [
    "# draw.plot_trkfit_params(results[\"hists\"])\n",
    "draw.plot_trkfit_params_SU2020(results[\"hists\"])"
   ]
  },
  {
   "cell_type": "markdown",
   "id": "e8ae04f1-6f84-45fc-ba31-9a71a4e18a6f",
   "metadata": {},
   "source": [
    "### Efficiency "
   ]
  },
  {
   "cell_type": "code",
   "execution_count": null,
   "id": "5def0a51-1445-40b8-8dcf-77c4c63c6f66",
   "metadata": {},
   "outputs": [],
   "source": [
    "display(results[\"efficiency\"])"
   ]
  },
  {
   "cell_type": "markdown",
   "id": "894fdca4-ce4d-4d75-8d05-5f2c89b1b7a7",
   "metadata": {},
   "source": [
    "### Background event info"
   ]
  },
  {
   "cell_type": "code",
   "execution_count": null,
   "id": "e0ee4cb6-bd7f-46cb-aaa7-2922b90796e9",
   "metadata": {},
   "outputs": [],
   "source": [
    "print(results[\"event_info\"])"
   ]
  },
  {
   "cell_type": "code",
   "execution_count": null,
   "id": "600adbd0-a501-4205-9fee-084aeeee5b0c",
   "metadata": {},
   "outputs": [],
   "source": [
    "if results[\"events\"] is not None:\n",
    "    from pyutils.pyprint import Print\n",
    "    printer = Print()\n",
    "    printer.print_n_events(results[\"events\"], n_events = len(results[\"events\"]))"
   ]
  },
  {
   "cell_type": "code",
   "execution_count": null,
   "id": "5d4e9d88-e807-4af5-ab9c-ad56bb190d6e",
   "metadata": {},
   "outputs": [],
   "source": []
  }
 ],
 "metadata": {
  "kernelspec": {
   "display_name": "mu2e_env [conda env:.conda-ana_v2.2.0]",
   "language": "python",
   "name": "conda-env-.conda-ana_v2.2.0-ana_v2.2.0"
  },
  "language_info": {
   "codemirror_mode": {
    "name": "ipython",
    "version": 3
   },
   "file_extension": ".py",
   "mimetype": "text/x-python",
   "name": "python",
   "nbconvert_exporter": "python",
   "pygments_lexer": "ipython3",
   "version": "3.12.7"
  }
 },
 "nbformat": 4,
 "nbformat_minor": 5
}

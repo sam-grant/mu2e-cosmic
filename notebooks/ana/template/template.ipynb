{
 "cells": [
  {
   "cell_type": "markdown",
   "id": "c0bfed21-138a-4709-b85c-368465774a6e",
   "metadata": {},
   "source": [
    "# Analysis notebook: `<ana_label>`  "
   ]
  },
  {
   "cell_type": "markdown",
   "id": "b4d395e9-c713-41cc-a028-b17bb36fb6b7",
   "metadata": {},
   "source": [
    "## Define analysis name"
   ]
  },
  {
   "cell_type": "code",
   "execution_count": 1,
   "id": "c5c84c02-a974-419a-a4fa-1ce9c87fcccf",
   "metadata": {},
   "outputs": [],
   "source": [
    "ana_label = \"<ana_label>\""
   ]
  },
  {
   "cell_type": "markdown",
   "id": "aef41626-540c-40c6-be00-5d96cdb104a4",
   "metadata": {},
   "source": [
    "## Preamble"
   ]
  },
  {
   "cell_type": "code",
   "execution_count": 2,
   "id": "8cdc5d74-b992-4d20-b7b4-6337c2b8d289",
   "metadata": {},
   "outputs": [],
   "source": [
    "import sys\n",
    "sys.path.append(\"..\")\n",
    "from preamble import *"
   ]
  },
  {
   "cell_type": "markdown",
   "id": "63ddd2e9-d025-49b0-a0cc-48577cddc7b3",
   "metadata": {},
   "source": [
    "## Load data"
   ]
  },
  {
   "cell_type": "code",
   "execution_count": 3,
   "id": "1865a6ce-31b7-45a8-b17b-8cab9d53bee1",
   "metadata": {},
   "outputs": [
    {
     "name": "stdout",
     "output_type": "stream",
     "text": [
      "/bin/bash: -c: line 1: syntax error near unexpected token `newline'\n",
      "/bin/bash: -c: line 1: `ls ../../output/results/<ana_label>'\n"
     ]
    }
   ],
   "source": [
    "!ls ../../../output/results/<ana_label>"
   ]
  },
  {
   "cell_type": "code",
   "execution_count": 4,
   "id": "d03613c4-b57d-4de5-ab2b-3583ce6cd5b1",
   "metadata": {},
   "outputs": [
    {
     "name": "stdout",
     "output_type": "stream",
     "text": [
      "[Load] ✅ Initialised with out_path=../../output/results/<ana_label>\n"
     ]
    }
   ],
   "source": [
    "loader = Load(\n",
    "    in_path = f\"../../../output/results/{ana_label}\"\n",
    ")"
   ]
  },
  {
   "cell_type": "code",
   "execution_count": 1,
   "id": "5d83141d-eaf0-4d28-af29-af3074a3aad1",
   "metadata": {},
   "outputs": [],
   "source": [
    "results = loader.load_pkl() \n",
    "results_from_persistent = loader.load_all() # Persistent backup "
   ]
  },
  {
   "cell_type": "markdown",
   "id": "5be3df45-47c2-4a54-a7e9-e6459030c8c1",
   "metadata": {},
   "source": [
    "## Analyse results"
   ]
  },
  {
   "cell_type": "markdown",
   "id": "938d8d88-1bd3-4923-adeb-cfef3a51fc7d",
   "metadata": {},
   "source": [
    "### Cut flow"
   ]
  },
  {
   "cell_type": "code",
   "execution_count": null,
   "id": "0ae309b6-abfe-4f47-b70a-3e4972e7d081",
   "metadata": {},
   "outputs": [],
   "source": [
    "display(results[\"cut_flow\"].round(3))"
   ]
  },
  {
   "cell_type": "markdown",
   "id": "62d1ba5c-8af0-4246-86e6-cb90c2a37142",
   "metadata": {},
   "source": [
    "### Efficiency & rates"
   ]
  },
  {
   "cell_type": "code",
   "execution_count": null,
   "id": "ae3a0a35-8bd3-4607-bd03-ba240e610a1d",
   "metadata": {},
   "outputs": [],
   "source": [
    "display(results[\"analysis\"].T.round(3))"
   ]
  },
  {
   "cell_type": "markdown",
   "id": "48313714-9cb6-4fe5-aeaf-addc01868fed",
   "metadata": {},
   "source": [
    "### Histograms"
   ]
  },
  {
   "cell_type": "code",
   "execution_count": null,
   "id": "26f33538-df4b-4170-a44f-b0e08a126dcb",
   "metadata": {},
   "outputs": [],
   "source": [
    "# Setup draw for this cutset\n",
    "on_spill = \"offspill\" not in ana_label\n",
    "draw = Draw(cutset_name=ana_label.split('_')[0], on_spill=on_spill)\n",
    "# Define image directory\n",
    "img_dir = f\"../../../output/images/{ana_label}\"\n",
    "os.makedirs(img_dir, exist_ok=True)"
   ]
  },
  {
   "cell_type": "code",
   "execution_count": null,
   "id": "25ed5cd3-c05f-4dff-8434-b2b1f74592cd",
   "metadata": {},
   "outputs": [],
   "source": [
    "draw.plot_mom_windows(results[\"hists\"], out_path=f\"{img_dir}/h1o_1x3_mom_windows.png\") "
   ]
  },
  {
   "cell_type": "code",
   "execution_count": null,
   "id": "06289ba3-80ea-4a15-9256-687a0fef6b7e",
   "metadata": {},
   "outputs": [],
   "source": [
    "draw.plot_summary(results[\"hists\"], out_path=f\"{img_dir}/h1o_3x3_summary.png\")"
   ]
  },
  {
   "cell_type": "code",
   "execution_count": null,
   "id": "d9b80033-8069-4e44-b996-09eed0b9185f",
   "metadata": {},
   "outputs": [],
   "source": [
    "draw.plot_crv_z(results[\"hists\"], out_path=f\"{img_dir}/h1o_crv_z.png\") "
   ]
  },
  {
   "cell_type": "markdown",
   "id": "dde80a37-f196-4a46-8db3-da2fe9649017",
   "metadata": {},
   "source": [
    "### Background event info"
   ]
  },
  {
   "cell_type": "code",
   "execution_count": null,
   "id": "74714745-ebac-45e2-8742-bcaf9ae0450b",
   "metadata": {},
   "outputs": [],
   "source": [
    "print(results[\"event_info\"])"
   ]
  },
  {
   "cell_type": "code",
   "execution_count": null,
   "id": "caf4165c-edac-4e6f-860f-206c5dccb30f",
   "metadata": {},
   "outputs": [],
   "source": [
    "if results[\"events\"] is not None:\n",
    "    from pyutils.pyprint import Print\n",
    "    printer = Print()\n",
    "    printer.print_n_events(results[\"events\"], n_events = len(results[\"events\"]))"
   ]
  }
 ],
 "metadata": {
  "kernelspec": {
   "display_name": "mu2e_env [conda env:.conda-ana_v2.2.0]",
   "language": "python",
   "name": "conda-env-.conda-ana_v2.2.0-ana_v2.2.0"
  },
  "language_info": {
   "codemirror_mode": {
    "name": "ipython",
    "version": 3
   },
   "file_extension": ".py",
   "mimetype": "text/x-python",
   "name": "python",
   "nbconvert_exporter": "python",
   "pygments_lexer": "ipython3",
   "version": "3.12.7"
  }
 },
 "nbformat": 4,
 "nbformat_minor": 5
}

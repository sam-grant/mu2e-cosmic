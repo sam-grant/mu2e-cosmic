{
 "cells": [
  {
   "cell_type": "code",
   "execution_count": 5,
   "id": "4cd943b7-0a27-4941-8a5a-f06a96703631",
   "metadata": {},
   "outputs": [],
   "source": [
    "sys.path.append(\"../common\")"
   ]
  },
  {
   "cell_type": "code",
   "execution_count": 12,
   "id": "c1af63b4-a4aa-4c73-a4a3-cbceab592129",
   "metadata": {},
   "outputs": [
    {
     "name": "stdout",
     "output_type": "stream",
     "text": [
      "[Skeleton] ⭐️ Skeleton init\n",
      "[CosmicProcessor] ✅ Initialised with:\n",
      "        \tdefname         = None\n",
      "        \tfile_list_path  = /exp/mu2e/data/users/sgrant/mu2e_cosmic_ana/nts.mu2e.CosmicCRYSignalAllOffSpillTriggered-LH.MDC2020as_best_v1_3_v06_03_00.0_99.txt\n",
      "        \tfile_name       = None\n",
      "        \tcutset_name     = alpha\n",
      "        \ton_spill        = False\n",
      "        \tcuts_to_toggle  = {'has_hits': False, 'within_lhr_max': False, 'within_d0': False, 'within_pitch_angle': False, 'good_trkqual': False, 'unvetoed': False, 'within_ext_win': False, 'within_sig_win': False}\n",
      "        \tbranches        = ['evt', 'crv', 'trk', 'trkfit', 'trkmc']\n",
      "        \tuse_remote      = True\n",
      "        \tlocation        = disk\n",
      "        \tmax_workers     = 50\n",
      "        \tverbosity       = 2\n",
      "        \tuse_processes   = True\n",
      "[CosmicProcessor] ⭐️ Starting analysis\n",
      "[pyprocess] ⭐️ Initialised Processor:\n",
      "\tpath = 'EventNtuple/ntuple'\n",
      "\tuse_remote = True\n",
      "\tlocation = disk\n",
      "\tschema = root\n",
      "\tverbosity=2\n",
      "[pyprocess] ⭐️ Loading file list from /exp/mu2e/data/users/sgrant/mu2e_cosmic_ana/nts.mu2e.CosmicCRYSignalAllOffSpillTriggered-LH.MDC2020as_best_v1_3_v06_03_00.0_99.txt\n",
      "[pyprocess] ✅ Successfully loaded file list\n",
      "\tPath: None\n",
      "\tCount: 100 files\n",
      "[pyprocess] ⭐️ Starting processing on 100 files with 50 processes\n"
     ]
    },
    {
     "name": "stderr",
     "output_type": "stream",
     "text": [
      "Processing: 100%|\u001b[32m██████████████████████████████\u001b[0m| 100/100 [01:02<00:00,  1.59file/s, successful=100, failed=0]\u001b[0m"
     ]
    },
    {
     "name": "stdout",
     "output_type": "stream",
     "text": [
      "[pyprocess] ⭐️ Returning 100 results\n",
      "[CosmicProcessor] ✅ Analysis complete\n"
     ]
    },
    {
     "name": "stderr",
     "output_type": "stream",
     "text": [
      "\n"
     ]
    }
   ],
   "source": [
    "from process import CosmicProcessor \n",
    "cosmic_processor = CosmicProcessor(\n",
    "    # defname = \"nts.mu2e.CosmicCRYSignalAllOffSpillTriggered-LH.MDC2020as_best_v1_3_v06_03_00.root\",\n",
    "    # file_name = \"/exp/mu2e/data/users/sgrant/mu2e_cosmic_ana/data/nts.mu2e.CosmicCRYSignalAllOffSpillTriggered-LH.MDC2020as_best_v1_3_v06_03_00.001202_00050440.root\",\n",
    "    file_list_path = \"/exp/mu2e/data/users/sgrant/mu2e_cosmic_ana/nts.mu2e.CosmicCRYSignalAllOffSpillTriggered-LH.MDC2020as_best_v1_3_v06_03_00.0_99.txt\",\n",
    "    use_remote = True, \n",
    "    cuts_to_toggle = {\n",
    "        # Single parameter OFF\n",
    "        \"has_hits\": False,\n",
    "        \"within_lhr_max\": False, \n",
    "        \"within_d0\": False,  \n",
    "        \"within_pitch_angle\": False,  \n",
    "        # Two parameters OFF\n",
    "        \"good_trkqual\": False,\n",
    "        \"unvetoed\" : False,\n",
    "        \"within_ext_win\" : False,\n",
    "        \"within_sig_win\" : False\n",
    "        \n",
    "    } \n",
    ")\n",
    "results = cosmic_processor.execute()"
   ]
  },
  {
   "cell_type": "code",
   "execution_count": 13,
   "id": "9ac8eee6-de72-494b-8fa5-dc156e418563",
   "metadata": {},
   "outputs": [
    {
     "name": "stdout",
     "output_type": "stream",
     "text": [
      "[PostProcess] ⭐️ Initialised\n",
      "[PostProcess] ✅ Combined arrays, result contains 104277 events\n",
      "[PostProcess] ✅ Combined 4 histograms over 100 results\n",
      "[PostProcess] ✅ Combined cut statistics\n",
      "[PostProcess] ✅ Retrieved background event info\n",
      "[PostProcess] ✅ Postprocessing complete:\n",
      "\treturning tuple of combined arrays, combined histograms, and combined cut stats\n"
     ]
    }
   ],
   "source": [
    "from postprocess import PostProcess \n",
    "postprocessor = PostProcess(info=True)\n",
    "data, hists, stats, info = postprocessor.execute(results)"
   ]
  },
  {
   "cell_type": "code",
   "execution_count": 53,
   "id": "0163e0e7-cc62-4e17-adc9-2990645c903a",
   "metadata": {},
   "outputs": [
    {
     "name": "stdout",
     "output_type": "stream",
     "text": [
      "Help on method plot_1D in module pyutils.pyplot:\n",
      "\n",
      "plot_1D(array, nbins=100, xmin=-1.0, xmax=1.0, weights=None, title=None, xlabel=None, ylabel=None, col='black', leg_pos='best', out_path=None, dpi=300, log_x=False, log_y=False, norm_by_area=False, under_over=False, stat_box=True, stat_box_errors=False, error_bars=False, ax=None, show=True) method of pyutils.pyplot.Plot instance\n",
      "    Create a 1D histogram from an array of values.\n",
      "\n",
      "    Args:\n",
      "      array (np.ndarray): Input data array\n",
      "      weights (np.ndarray, optional): Weights for each value\n",
      "      nbins (int, optional): Number of bins. Defaults to 100\n",
      "      xmin (float, optional): Minimum x-axis value. Defaults to -1.0\n",
      "      xmax (float, optional): Maximum x-axis value. Defaults to 1.0\n",
      "      title (str, optional): Plot title\n",
      "      xlabel (str, optional): X-axis label\n",
      "      ylabel (str, optional): Y-axis label\n",
      "      col (str, optional): Histogram color. Defaults to \"black\"\n",
      "      leg_pos (str, optional): Legend position. Defaults to \"best\"\n",
      "      out_path (str, optional): Path to save the plot\n",
      "      dpi (int, optional): DPI for saved plot. Defaults to 300\n",
      "      log_x (bool, optional): Use log scale for x-axis. Defaults to False\n",
      "      log_y (bool, optional): Use log scale for y-axis. Defaults to False\n",
      "      norm_by_area (bool, optional): Normalise the curve so that the integral is one\n",
      "      under_over (bool, optional): Show overflow/underflow stats. Defaults to False\n",
      "      stat_box (bool, optional): Show statistics box. Defaults to True\n",
      "      stat_box_errors (bool, optional): Show errors in stats box. Defaults to False\n",
      "      error_bars (bool, optional): Show error bars on bins. Defaults to False\n",
      "      ax (plt.Axes, optional): External custom axes\n",
      "      show (bool, optional): Display the plot, defaults to True\n",
      "\n",
      "    Raises:\n",
      "      ValueError: If array is empty or None\n",
      "\n"
     ]
    }
   ],
   "source": [
    "help(plotter.plot_1D)"
   ]
  },
  {
   "cell_type": "code",
   "execution_count": 85,
   "id": "629f5746-0c0b-411d-be7e-ada398b677f6",
   "metadata": {},
   "outputs": [
    {
     "name": "stdout",
     "output_type": "stream",
     "text": [
      "[pyplot] ⭐️ Initialised Plot with mu2e.mplstyle and verbosity = 1\n",
      "[pyplot] ✅ Wrote:\n",
      "\t../../img/comp/h1_offspill_CRY_as_trkqual.png\n"
     ]
    },
    {
     "data": {
      "image/png": "[encoded data removed]",
      "text/plain": [
       "<Figure size 640x480 with 1 Axes>"
      ]
     },
     "metadata": {},
     "output_type": "display_data"
    }
   ],
   "source": [
    "from pyutils.pyplot import Plot\n",
    "\n",
    "plotter = Plot()\n",
    "\n",
    "plotter.plot_1D(\n",
    "    ak.flatten(data[\"trk\"][\"trkqual.result\"], axis=None),\n",
    "    nbins = 102,\n",
    "    xmin = -0.01, \n",
    "    xmax = 1.01,\n",
    "    col = \"red\",\n",
    "    norm_by_area = True,\n",
    "    xlabel = \"Track quality\",\n",
    "    ylabel = \"Normalised tracks\",\n",
    "    out_path = \"../../img/comp/h1_offspill_CRY_as_trkqual.png\"\n",
    ")"
   ]
  },
  {
   "cell_type": "code",
   "execution_count": 84,
   "id": "60bb0317-935f-452d-94b7-d2b0cc8dac6d",
   "metadata": {},
   "outputs": [
    {
     "name": "stdout",
     "output_type": "stream",
     "text": [
      "[pyplot] ⭐️ Initialised Plot with mu2e.mplstyle and verbosity = 1\n",
      "[pyplot] ✅ Wrote:\n",
      "\t../../img/comp/h1_offspill_CRY_as_t0err.png\n"
     ]
    },
    {
     "data": {
      "image/png": "[encoded data removed]",
      "text/plain": [
       "<Figure size 640x480 with 1 Axes>"
      ]
     },
     "metadata": {},
     "output_type": "display_data"
    }
   ],
   "source": [
    "from pyutils.pyplot import Plot\n",
    "\n",
    "plotter = Plot()\n",
    "\n",
    "plotter.plot_1D(\n",
    "    ak.flatten(data[\"trkfit\"][\"trksegpars_lh\"][\"t0err\"], axis=None),\n",
    "    nbins = 510,\n",
    "    xmin = -0.1, \n",
    "    xmax = 5,\n",
    "    col = \"red\",\n",
    "    xlabel = r\"$\\sigma_{t_{0}}$ [ns]\",\n",
    "    ylabel = \"Normalised tracks\",\n",
    "    norm_by_area = True,\n",
    "    log_y = True,\n",
    "    out_path = \"../../img/comp/h1_offspill_CRY_as_t0err.png\"\n",
    ")"
   ]
  },
  {
   "cell_type": "code",
   "execution_count": 78,
   "id": "83ab0179-229a-4b50-8e1b-ee67ba74a57b",
   "metadata": {},
   "outputs": [
    {
     "data": {
      "text/plain": [
       "[{'name': 'No cuts',\n",
       "  'active': 'N/A',\n",
       "  'description': 'No selection applied',\n",
       "  'events_passing': 705770,\n",
       "  'absolute_frac': 100.0,\n",
       "  'relative_frac': 100.0},\n",
       " {'name': 'is_reco_electron',\n",
       "  'description': 'Electron track fits',\n",
       "  'events_passing': 656602,\n",
       "  'absolute_frac': 93.03342448673081,\n",
       "  'relative_frac': 93.03342448673081},\n",
       " {'name': 'has_trk_front',\n",
       "  'description': 'Tracks intersect tracker entrance',\n",
       "  'events_passing': 643746,\n",
       "  'absolute_frac': 91.21186788897234,\n",
       "  'relative_frac': 98.04204068827083},\n",
       " {'name': 'is_downstream',\n",
       "  'description': 'Downstream tracks (p_z > 0 at tracker entrance)',\n",
       "  'events_passing': 399663,\n",
       "  'absolute_frac': 56.62793828017626,\n",
       "  'relative_frac': 62.083958579936805},\n",
       " {'name': 'is_truth_electron',\n",
       "  'description': 'Track parents are electrons (truth PID)',\n",
       "  'events_passing': 173904,\n",
       "  'absolute_frac': 24.64032191790527,\n",
       "  'relative_frac': 43.51265941555761},\n",
       " {'name': 'one_reco_electron',\n",
       "  'description': 'One reco electron / event',\n",
       "  'events_passing': 104277,\n",
       "  'absolute_frac': 14.774926675829237,\n",
       "  'relative_frac': 59.962393044438315}]"
      ]
     },
     "execution_count": 78,
     "metadata": {},
     "output_type": "execute_result"
    }
   ],
   "source": [
    "stats"
   ]
  },
  {
   "cell_type": "code",
   "execution_count": 83,
   "id": "11b0e1e2-1b71-4095-9805-1611b03366e5",
   "metadata": {},
   "outputs": [
    {
     "name": "stdout",
     "output_type": "stream",
     "text": [
      "{'is_reco_electron': True, 'has_trk_front': True, 'good_trkqual': True, 'within_t0': True, 'is_downstream': True, 'has_hits': True, 'within_d0': True, 'within_pitch_angle': True, 'within_lhr_max': True, 'is_truth_electron': True, 'one_reco_electron': True, 'unvetoed': True, 'within_ext_win': True, 'within_sig_win': True}\n"
     ]
    },
    {
     "data": {
      "text/html": [
       "<div>\n",
       "<style scoped>\n",
       "    .dataframe tbody tr th:only-of-type {\n",
       "        vertical-align: middle;\n",
       "    }\n",
       "\n",
       "    .dataframe tbody tr th {\n",
       "        vertical-align: top;\n",
       "    }\n",
       "\n",
       "    .dataframe thead th {\n",
       "        text-align: right;\n",
       "    }\n",
       "</style>\n",
       "<table border=\"1\" class=\"dataframe\">\n",
       "  <thead>\n",
       "    <tr style=\"text-align: right;\">\n",
       "      <th></th>\n",
       "      <th>name</th>\n",
       "      <th>active</th>\n",
       "      <th>description</th>\n",
       "      <th>events_passing</th>\n",
       "      <th>absolute_frac</th>\n",
       "      <th>relative_frac</th>\n",
       "    </tr>\n",
       "  </thead>\n",
       "  <tbody>\n",
       "    <tr>\n",
       "      <th>0</th>\n",
       "      <td>No cuts</td>\n",
       "      <td>N/A</td>\n",
       "      <td>No selection applied</td>\n",
       "      <td>705770</td>\n",
       "      <td>100.000</td>\n",
       "      <td>100.000</td>\n",
       "    </tr>\n",
       "    <tr>\n",
       "      <th>1</th>\n",
       "      <td>is_reco_electron</td>\n",
       "      <td>NaN</td>\n",
       "      <td>Electron track fits</td>\n",
       "      <td>656602</td>\n",
       "      <td>93.033</td>\n",
       "      <td>93.033</td>\n",
       "    </tr>\n",
       "    <tr>\n",
       "      <th>2</th>\n",
       "      <td>has_trk_front</td>\n",
       "      <td>NaN</td>\n",
       "      <td>Tracks intersect tracker entrance</td>\n",
       "      <td>643746</td>\n",
       "      <td>91.212</td>\n",
       "      <td>98.042</td>\n",
       "    </tr>\n",
       "    <tr>\n",
       "      <th>3</th>\n",
       "      <td>is_downstream</td>\n",
       "      <td>NaN</td>\n",
       "      <td>Downstream tracks (p_z &gt; 0 at tracker entrance)</td>\n",
       "      <td>399663</td>\n",
       "      <td>56.628</td>\n",
       "      <td>62.084</td>\n",
       "    </tr>\n",
       "    <tr>\n",
       "      <th>4</th>\n",
       "      <td>is_truth_electron</td>\n",
       "      <td>NaN</td>\n",
       "      <td>Track parents are electrons (truth PID)</td>\n",
       "      <td>173904</td>\n",
       "      <td>24.640</td>\n",
       "      <td>43.513</td>\n",
       "    </tr>\n",
       "    <tr>\n",
       "      <th>5</th>\n",
       "      <td>one_reco_electron</td>\n",
       "      <td>NaN</td>\n",
       "      <td>One reco electron / event</td>\n",
       "      <td>104277</td>\n",
       "      <td>14.775</td>\n",
       "      <td>59.962</td>\n",
       "    </tr>\n",
       "  </tbody>\n",
       "</table>\n",
       "</div>"
      ],
      "text/plain": [
       "                name active                                      description  \\\n",
       "0            No cuts    N/A                             No selection applied   \n",
       "1   is_reco_electron    NaN                              Electron track fits   \n",
       "2      has_trk_front    NaN                Tracks intersect tracker entrance   \n",
       "3      is_downstream    NaN  Downstream tracks (p_z > 0 at tracker entrance)   \n",
       "4  is_truth_electron    NaN          Track parents are electrons (truth PID)   \n",
       "5  one_reco_electron    NaN                        One reco electron / event   \n",
       "\n",
       "   events_passing  absolute_frac  relative_frac  \n",
       "0          705770        100.000        100.000  \n",
       "1          656602         93.033         93.033  \n",
       "2          643746         91.212         98.042  \n",
       "3          399663         56.628         62.084  \n",
       "4          173904         24.640         43.513  \n",
       "5          104277         14.775         59.962  "
      ]
     },
     "metadata": {},
     "output_type": "display_data"
    }
   ],
   "source": [
    "print(cosmic_processor.analyse.active_cuts)\n",
    "\n",
    "# import pandas as pd\n",
    "\n",
    "# # cuts_dict = {'is_reco_electron': True, 'has_trk_front': True, ./..}\n",
    "\n",
    "# # Single row with cuts as columns\n",
    "df = pd.DataFrame(stats)\n",
    "display(df.round(3))\n",
    "# # Or cuts as rows (more readable)\n",
    "# df = pd.DataFrame.from_dict(cosmic_processor.analyse.active_cuts, orient='index', columns=['Active'])"
   ]
  },
  {
   "cell_type": "code",
   "execution_count": 40,
   "id": "b85e7cf4-9524-4898-89c9-ce2eafce92f6",
   "metadata": {},
   "outputs": [
    {
     "data": {
      "text/plain": [
       "[{'name': 'No cuts',\n",
       "  'active': 'N/A',\n",
       "  'description': 'No selection applied',\n",
       "  'events_passing': 705770,\n",
       "  'absolute_frac': 100.0,\n",
       "  'relative_frac': 100.0},\n",
       " {'name': 'is_reco_electron',\n",
       "  'description': 'Electron track fits',\n",
       "  'events_passing': 656602,\n",
       "  'absolute_frac': 93.03342448673081,\n",
       "  'relative_frac': 93.03342448673081},\n",
       " {'name': 'has_trk_front',\n",
       "  'description': 'Tracks intersect tracker entrance',\n",
       "  'events_passing': 643746,\n",
       "  'absolute_frac': 91.21186788897234,\n",
       "  'relative_frac': 98.04204068827083},\n",
       " {'name': 'is_downstream',\n",
       "  'description': 'Downstream tracks (p_z > 0 at tracker entrance)',\n",
       "  'events_passing': 399663,\n",
       "  'absolute_frac': 56.62793828017626,\n",
       "  'relative_frac': 62.083958579936805},\n",
       " {'name': 'is_truth_electron',\n",
       "  'description': 'Track parents are electrons (truth PID)',\n",
       "  'events_passing': 173904,\n",
       "  'absolute_frac': 24.64032191790527,\n",
       "  'relative_frac': 43.51265941555761},\n",
       " {'name': 'one_reco_electron',\n",
       "  'description': 'One reco electron / event',\n",
       "  'events_passing': 104277,\n",
       "  'absolute_frac': 14.774926675829237,\n",
       "  'relative_frac': 59.962393044438315}]"
      ]
     },
     "execution_count": 40,
     "metadata": {},
     "output_type": "execute_result"
    }
   ],
   "source": []
  },
  {
   "cell_type": "code",
   "execution_count": null,
   "id": "164550c1-b9c9-41c5-b748-d37b570fbac8",
   "metadata": {},
   "outputs": [],
   "source": []
  }
 ],
 "metadata": {
  "kernelspec": {
   "display_name": "mu2e_env [conda env:.conda-ana_v2.1.0]",
   "language": "python",
   "name": "conda-env-.conda-ana_v2.1.0-ana_v2.1.0"
  },
  "language_info": {
   "codemirror_mode": {
    "name": "ipython",
    "version": 3
   },
   "file_extension": ".py",
   "mimetype": "text/x-python",
   "name": "python",
   "nbconvert_exporter": "python",
   "pygments_lexer": "ipython3",
   "version": "3.12.7"
  }
 },
 "nbformat": 4,
 "nbformat_minor": 5
}

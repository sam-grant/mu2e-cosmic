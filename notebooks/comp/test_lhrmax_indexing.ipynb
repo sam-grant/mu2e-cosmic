{
 "cells": [
  {
   "cell_type": "code",
   "execution_count": 12,
   "id": "6a6190ec-85a5-4fad-86a8-6fd79baad228",
   "metadata": {},
   "outputs": [],
   "source": [
    "import awkward as ak\n",
    "import numpy as np\n",
    "from pyutils.pyprocess import Processor\n",
    "from pyutils.pyselect import Select"
   ]
  },
  {
   "cell_type": "code",
   "execution_count": 3,
   "id": "e3d31bba-d885-4af8-ad53-685630e6c002",
   "metadata": {},
   "outputs": [
    {
     "name": "stdout",
     "output_type": "stream",
     "text": [
      "[pyprocess] ⭐️ Initialised Processor:\n",
      "\tpath = 'EventNtuple/ntuple'\n",
      "\tuse_remote = False\n",
      "\tverbosity=1\n",
      "[pyread] ✅ Opened /exp/mu2e/data/users/sgrant/mu2e_cosmic_ana/data/nts.mu2e.CosmicCRYSignalAllOnSpillTriggered.MDC2020au_best_v1_3_v06_03_00.001202_00012335.root\n",
      "[pyimport] ✅ Imported branches\n",
      "[pyprocess] ✅ Returning result from process on /exp/mu2e/data/users/sgrant/mu2e_cosmic_ana/data/nts.mu2e.CosmicCRYSignalAllOnSpillTriggered.MDC2020au_best_v1_3_v06_03_00.001202_00012335.root\n"
     ]
    }
   ],
   "source": [
    "branches = [\"trksegs\", \"trksegpars_lh\"]\n",
    "\n",
    "processor = Processor()\n",
    "data = processor.process_data(\n",
    "    file_name = \"/exp/mu2e/data/users/sgrant/mu2e_cosmic_ana/data/nts.mu2e.CosmicCRYSignalAllOnSpillTriggered.MDC2020au_best_v1_3_v06_03_00.001202_00012335.root\",\n",
    "    branches = branches\n",
    ")"
   ]
  },
  {
   "cell_type": "code",
   "execution_count": 4,
   "id": "5a8efb2c-d02b-4aed-94ed-5b196e4bbbb2",
   "metadata": {},
   "outputs": [
    {
     "name": "stdout",
     "output_type": "stream",
     "text": [
      "Tracks where segment counts differ: 0\n",
      "If this is >0, then C++ indexing assumption is definitely wrong\n",
      "Entrance segment positions: [[2, 2, 2, 2], ..., [2, 2, 9, 4, 3, 2, 3, 0, 3, ..., 0, 2, 2, 2, 2, 2, 2, 2, 1]]\n",
      "If these aren't mostly 0, then first-position assumption is wrong\n"
     ]
    }
   ],
   "source": [
    "# Check if C++ assumption of positional correspondence is valid\n",
    "seg_counts = ak.num(data[\"trksegs\"], axis=-1)\n",
    "lh_counts = ak.num(data[\"trksegpars_lh\"], axis=-1)\n",
    "\n",
    "print(f\"Tracks where segment counts differ: {ak.sum(seg_counts != lh_counts)}\")\n",
    "print(f\"If this is >0, then C++ indexing assumption is definitely wrong\")\n",
    "\n",
    "# Also check if positions of entrance segments vary\n",
    "entrance_positions = ak.argmax(data[\"trksegs\"][\"sid\"] == 0, axis=-1)\n",
    "print(f\"Entrance segment positions: {entrance_positions[:20]}\")\n",
    "print(f\"If these aren't mostly 0, then first-position assumption is wrong\")"
   ]
  },
  {
   "cell_type": "code",
   "execution_count": 9,
   "id": "c1462e40-85c3-4dc8-817f-cedf1e50a702",
   "metadata": {},
   "outputs": [
    {
     "name": "stdout",
     "output_type": "stream",
     "text": [
      "[pyselect] ✅ Returning mask for trksegs with sid = 0 and sindex = 0\n",
      "Entrance positions: [[2, 2, 2, 2], [14, 12, 2, 1, 9, 15, 2, 1], ..., [2, 2, ..., 1], [3, 2, 3, 1]]\n",
      "at_trk_front positions: [[[2], [2], [2], [2]], [[14], [12], ..., [...], [1]], ..., [[3], [2], [3], [1]]]\n"
     ]
    }
   ],
   "source": [
    "selector = Select()\n",
    "\n",
    "at_trk_front = selector.select_surface(data, sid=0)\n",
    "\n",
    "# Check what at_trk_front actually contains\n",
    "entrance_positions = ak.argmax(data[\"trksegs\"][\"sid\"] == 0, axis=-1)\n",
    "print(\"Entrance positions:\", entrance_positions[:10])\n",
    "\n",
    "# Check at_trk_front \n",
    "at_trk_front_positions = ak.local_index(data[\"trksegs\"], axis=-1)[at_trk_front]\n",
    "print(\"at_trk_front positions:\", at_trk_front_positions[:10])\n",
    "\n",
    "# These should match!"
   ]
  },
  {
   "cell_type": "code",
   "execution_count": 13,
   "id": "28930b56-04e9-4170-b813-d0e1f2018a25",
   "metadata": {},
   "outputs": [
    {
     "name": "stdout",
     "output_type": "stream",
     "text": [
      "Tracks with maxr exactly 450: 0\n",
      "Tracks with maxr exactly 680: 0\n",
      "Tracks within 0.001 of 450: 0\n",
      "Tracks within 0.001 of 680: 0\n"
     ]
    }
   ],
   "source": [
    "# Check for tracks exactly at boundaries\n",
    "maxr_at_entrance = data[\"trksegpars_lh\"][\"maxr\"][at_trk_front]\n",
    "first_maxr = ak.firsts(maxr_at_entrance, axis=-1)\n",
    "maxr_flat = ak.flatten(first_maxr, axis=None)\n",
    "\n",
    "exactly_450 = np.sum(maxr_flat == 450.0)\n",
    "exactly_680 = np.sum(maxr_flat == 680.0)\n",
    "print(f\"Tracks with maxr exactly 450: {exactly_450}\")\n",
    "print(f\"Tracks with maxr exactly 680: {exactly_680}\")\n",
    "\n",
    "# Check near-boundary values\n",
    "near_450 = np.sum(np.abs(maxr_flat - 450.0) < 0.001)\n",
    "near_680 = np.sum(np.abs(maxr_flat - 680.0) < 0.001)\n",
    "print(f\"Tracks within 0.001 of 450: {near_450}\")\n",
    "print(f\"Tracks within 0.001 of 680: {near_680}\")"
   ]
  },
  {
   "cell_type": "code",
   "execution_count": 20,
   "id": "e5a30acf-4247-4dd9-8326-a00cbc690d72",
   "metadata": {},
   "outputs": [
    {
     "name": "stdout",
     "output_type": "stream",
     "text": [
      "Array length comparison:\n",
      "Same length events: 2653\n",
      "Different length events: 0\n",
      "Total events: 2653\n",
      "\n",
      "Events where lh is shorter: 0\n",
      "Events where lh is longer: 0\n",
      "\n",
      "Typical trksegs lengths: [4, 8, 8, 4, 4, 4, 4, 4, 4, 4, 4, 4, 3, 4, 4, 4, 4, 2, 4, 39]\n",
      "Typical lh lengths: [4, 8, 8, 4, 4, 4, 4, 4, 4, 4, 4, 4, 3, 4, 4, 4, 4, 2, 4, 39]\n",
      "\n",
      "First few events - trksegs sid values:\n",
      "Event 0: [[96, 101, 0, 1, 2], [2, 1, 0, 101, 96], [96, ..., 2], [2, 1, 0, 101, 96]]\n",
      "Event 1: [[103, 104, 104, 103, 104, 103, 104, 103, ..., 104, 104, 90, 90, 0, 1, 2], ...]\n",
      "Event 2: [[101, 90, 0, 1, 2], [101, 90, ..., 1, 2], ..., [1, 0, 90, 90, 101, 90, 90, 0]]\n",
      "Event 3: [[96, 101, 0, 1, 2], [2, 1, 0, 101, 96], [96, ..., 2], [2, 1, 0, 101, 96]]\n",
      "Event 4: [[96, 103, 104, 104, 104, 104, 103, 101, 90, 90, 0, 1, 2], ..., [2, 1, ..., 96]]\n",
      "\n",
      "Percentage of events with matching lengths: 100.0%\n"
     ]
    }
   ],
   "source": [
    "# Check array lengths per track\n",
    "trksegs_len = ak.num(data[\"trksegs\"][\"sid\"])\n",
    "lh_len = ak.num(data[\"trksegpars_lh\"][\"maxr\"])\n",
    "\n",
    "print(\"Array length comparison:\")\n",
    "print(f\"Same length events: {ak.sum(trksegs_len == lh_len)}\")\n",
    "print(f\"Different length events: {ak.sum(trksegs_len != lh_len)}\")\n",
    "print(f\"Total events: {len(trksegs_len)}\")\n",
    "\n",
    "# Look at some examples where they differ\n",
    "mismatched = trksegs_len != lh_len\n",
    "if ak.any(mismatched):\n",
    "    print(\"\\nExamples of length mismatches:\")\n",
    "    print(f\"trksegs lengths: {trksegs_len[mismatched][:10]}\")\n",
    "    print(f\"lh lengths: {lh_len[mismatched][:10]}\")\n",
    "\n",
    "# Check if lh arrays are consistently shorter/longer\n",
    "print(f\"\\nEvents where lh is shorter: {ak.sum(lh_len < trksegs_len)}\")\n",
    "print(f\"Events where lh is longer: {ak.sum(lh_len > trksegs_len)}\")\n",
    "\n",
    "# Check typical lengths (no flattening needed)\n",
    "print(f\"\\nTypical trksegs lengths: {trksegs_len[:20]}\")\n",
    "print(f\"Typical lh lengths: {lh_len[:20]}\")\n",
    "\n",
    "# Check if first element alignment makes sense\n",
    "# Get sid values for first few events\n",
    "print(f\"\\nFirst few events - trksegs sid values:\")\n",
    "for i in range(min(5, len(data))):\n",
    "    if len(data[\"trksegs\"][\"sid\"][i]) > 0:  # Use len() instead\n",
    "        print(f\"Event {i}: {data['trksegs']['sid'][i]}\")\n",
    "\n",
    "# Also check percentage alignment\n",
    "matching_percent = 100 * ak.sum(trksegs_len == lh_len) / len(trksegs_len)\n",
    "print(f\"\\nPercentage of events with matching lengths: {matching_percent:.1f}%\")"
   ]
  },
  {
   "cell_type": "code",
   "execution_count": null,
   "id": "ad7ff2c5-7222-49d9-b6d5-05098c3c4eba",
   "metadata": {},
   "outputs": [],
   "source": []
  }
 ],
 "metadata": {
  "kernelspec": {
   "display_name": "mu2e_env [conda env:.conda-ana_v2.1.0]",
   "language": "python",
   "name": "conda-env-.conda-ana_v2.1.0-ana_v2.1.0"
  },
  "language_info": {
   "codemirror_mode": {
    "name": "ipython",
    "version": 3
   },
   "file_extension": ".py",
   "mimetype": "text/x-python",
   "name": "python",
   "nbconvert_exporter": "python",
   "pygments_lexer": "ipython3",
   "version": "3.12.7"
  }
 },
 "nbformat": 4,
 "nbformat_minor": 5
}

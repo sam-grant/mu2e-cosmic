{
 "cells": [
  {
   "cell_type": "markdown",
   "id": "9c3f9129-03e7-454d-b579-409796461fe9",
   "metadata": {},
   "source": [
    "# Understanding trkqual cut"
   ]
  },
  {
   "cell_type": "markdown",
   "id": "ac514c9f-c3b2-443c-877c-cd28866caab6",
   "metadata": {},
   "source": [
    "## Imports"
   ]
  },
  {
   "cell_type": "code",
   "execution_count": 1,
   "id": "9ae7a091-d544-49bf-b43e-c12489025eb8",
   "metadata": {},
   "outputs": [],
   "source": [
    "import sys\n",
    "sys.path.append(\"/home/sgrant/pyutils-dev/EventNtuple/utils/pyutils\")\n",
    "import uproot\n",
    "import awkward as ak\n",
    "import matplotlib.pyplot as plt\n",
    "from pyimport import Importer\n",
    "from pyplot import Plot\n",
    "from pyprint import Print\n",
    "from pyselect import Select\n",
    "from pyvector import Vector\n",
    "from cut_manager import CutManager "
   ]
  },
  {
   "cell_type": "markdown",
   "id": "0f6a93d4-9902-4eb2-a952-48fc2994a929",
   "metadata": {},
   "source": [
    "# Import data"
   ]
  },
  {
   "cell_type": "code",
   "execution_count": 2,
   "id": "8932e85a-784d-4d61-b032-9929139edafa",
   "metadata": {},
   "outputs": [
    {
     "name": "stdout",
     "output_type": "stream",
     "text": [
      "[pyimport] Initialised Importer with path 'EventNtuple/ntuple' and verbosity=1\n",
      "[pyimport] ✅ Imported branches\n"
     ]
    }
   ],
   "source": [
    "importer = Importer( \n",
    "    use_remote = True,\n",
    "    location = \"disk\",\n",
    "    verbosity = 1\n",
    ")\n",
    "\n",
    "branches = { \n",
    "    \"evt\" : [\n",
    "        \"run\",\n",
    "        \"subrun\",\n",
    "        \"event\",\n",
    "    ],\n",
    "    \"trk\" : [\n",
    "        \"trk.nactive\", \n",
    "        \"trk.pdg\", \n",
    "        \"trkqual.valid\",\n",
    "        \"trkqual.result\"\n",
    "    ],\n",
    "    \"trkfit\" : [\n",
    "        \"trksegs\",\n",
    "        \"trksegpars_lh\"\n",
    "    ],\n",
    "    \"trkmc\" : [\n",
    "        \"trkmcsim\"\n",
    "    ]\n",
    "}\n",
    "\n",
    "# Single file\n",
    "data = importer.import_file(\n",
    "    file_name = \"nts.mu2e.CosmicCRYSignalAllOffSpillTriggered-LH.MDC2020as_best_v1_3_v06_03_00.001202_00050440.root\",\n",
    "    # branches = \"*\"\n",
    "    branches = branches\n",
    ")"
   ]
  },
  {
   "cell_type": "code",
   "execution_count": 3,
   "id": "65bcf047-2f8f-4b56-9df6-301a6336e639",
   "metadata": {},
   "outputs": [],
   "source": [
    "# data.type.show()"
   ]
  },
  {
   "cell_type": "markdown",
   "id": "e1100c9d-4d6c-403c-8548-f35c048b8dde",
   "metadata": {},
   "source": [
    "## trkqual cut \n"
   ]
  },
  {
   "cell_type": "code",
   "execution_count": 12,
   "id": "43b06c1d-d545-44c2-97a1-d499bc947273",
   "metadata": {},
   "outputs": [
    {
     "name": "stdout",
     "output_type": "stream",
     "text": [
      "[pyselect] Initialised Select with verbosity = 2\n",
      "\n",
      "[pyselect] Cut Info:\n",
      "----------------------------------------------------------------------------------------------------\n",
      "Cut                  Events Passing       Absolute Frac. [%]   Relative Frac. [%]   Description                   \n",
      "----------------------------------------------------------------------------------------------------\n",
      "No cuts              6932                 100.00               100.00               No selection applied          \n",
      "----------------------------------------------------------------------------------------------------\n"
     ]
    }
   ],
   "source": [
    "selector = Select(\n",
    "    verbosity = 2\n",
    ")\n",
    "\n",
    "\n",
    "cut_manager = CutManager(\n",
    "    verbosity = 2\n",
    ")\n",
    "\n",
    "# Get cuts object\n",
    "cuts = cut_manager.cuts\n",
    "\n",
    "# good_trkqual = selector.select_trkqual(data[\"trk\"], quality=0.8)\n",
    "\n",
    "# cut_manager.add_cut(\n",
    "#     name=\"good_trkqual\",\n",
    "#     description=\"Track quality (quality > 0.8)\",\n",
    "#     mask=good_trkqual\n",
    "# )\n",
    "\n",
    "cut_manager.print_cut_stats(data)\n"
   ]
  },
  {
   "cell_type": "markdown",
   "id": "927f49be-709e-4753-901c-74e3d61c34f4",
   "metadata": {},
   "source": [
    "## Seems to be less severe than before. Maybe it's the order? "
   ]
  },
  {
   "cell_type": "code",
   "execution_count": 5,
   "id": "362f025e-a0e9-4855-9050-ab7d3ba66a30",
   "metadata": {},
   "outputs": [
    {
     "name": "stdout",
     "output_type": "stream",
     "text": [
      "[pyprint] Initialised Print with verbose = False and precision = 1\n",
      "\n",
      "[pyprint] ---> Printing 1 event(s)...\n",
      "\n",
      "-------------------------------------------------------------------------------------\n",
      "evt.event: 15289\n",
      "evt.run: 1202\n",
      "evt.subrun: 50440\n",
      "trk.trk.pdg: [-11, 11, 13]\n",
      "trk.trk.nactive: [62, 76, 63]\n",
      "trk.trkqual.valid: [True, True, True]\n",
      "trk.trkqual.result: [0.0451, 0.337, 0.0252]\n",
      "trkfit.trksegs.mom.fCoordinates.fX: [[-5.16, -15.9, 20.1, -8.59, -19], [20.1, ...], [8.93, 14.6, -10, -25.8]]\n",
      "trkfit.trksegs.mom.fCoordinates.fY: [[-43.7, 34.3, 26, -30.7, 22.9], [-24.2, ...], [29.3, -21.7, -29.3, -24.5]]\n",
      "trkfit.trksegs.mom.fCoordinates.fZ: [[14.5, 26.7, 32.6, 32.8, 33.8], [-33.8, ...], [-32.3, -28, -22.6, -14.3]]\n",
      "trkfit.trksegs.pos.fCoordinates.fX: [[385, 274, 329, 518, 342], [335, 516, ..., 364], [517, 355, 297, 273]]\n",
      "trkfit.trksegs.pos.fCoordinates.fY: [[174, 177, 310, 217, 188], [182, 216, ..., 134], [216, 214, 253, 240]]\n",
      "trkfit.trksegs.pos.fCoordinates.fZ: [[-5.97e+03, -3.9e+03, -1.63e+03, 10.1, 1.64e+03], ..., [10.1, ..., -5.97e+03]]\n",
      "trkfit.trksegs.time: [[4.37e+04, 4.37e+04, 4.37e+04, 4.37e+04, 4.37e+04], ..., [4.37e+04, ...]]\n",
      "trkfit.trksegs.dmom: [[0, 0, 0, 0, 0], [0, 0, 0, 0, 0], [0, 0, 0, 0]]\n",
      "trkfit.trksegs.momerr: [[0.0956, 0.0956, 0.0952, 0.0906, 0.0892], ..., [0.222, 0.276, ..., 0.276]]\n",
      "trkfit.trksegs.inbounds: [[True, False, True, True, True], [True, ...], [True, True, False, True]]\n",
      "trkfit.trksegs.gap: [[False, False, False, False, False], [...], [False, False, False, False]]\n",
      "trkfit.trksegs.early: [[True, False, False, False, False], [...], [True, False, False, False]]\n",
      "trkfit.trksegs.late: [[False, False, False, False, True], [...], [False, False, False, True]]\n",
      "trkfit.trksegs.sid: [[96, 101, 0, 1, 2], [2, 1, 0, 101, 96], [1, 0, 101, 96]]\n",
      "trkfit.trksegs.sindex: [[0, 0, 0, 0, 0], [0, 0, 0, 0, 0], [0, 0, 0, 0]]\n",
      "trkfit.trksegpars_lh.maxr: [[591, 589, 588, 499, 616], [589, 588, ..., 619], [588, 588, 517, 633]]\n",
      "trkfit.trksegpars_lh.d0: [[380, 379, 388, 342, 434], [386, 381, ..., 444], [419, 386, 391, 487]]\n",
      "trkfit.trksegpars_lh.tanDip: [[1, 1.03, 1.14, 0.316, 0.733], [...], [-1.08, -1.05, -0.409, -0.744]]\n",
      "trkfit.trksegpars_lh.rad: [[-106, -105, -99.8, -78.5, -90.9], [102, ...], [84.2, 101, 62.7, 73.1]]\n",
      "trkfit.trksegpars_lh.lam: [[-105, -108, -114, -25.3, -64.7], [...], [-90.2, -106, -26.2, -56.6]]\n",
      "trkfit.trksegpars_lh.cx: [[417, 417, 418, 363, 447], [418, 417, ..., 460], [429, 420, 376, 464]]\n",
      "trkfit.trksegpars_lh.cy: [[249, 245, 251, 213, 276], [251, 246, ..., 266], [263, 246, 254, 314]]\n",
      "trkfit.trksegpars_lh.phi0: [[-1.99, -1.75, -2.15, 1.48, -1.52], [...], [-0.198, 1.37, 2.98, -1.46]]\n",
      "trkfit.trksegpars_lh.t0: [[4.37e+04, 4.37e+04, 4.37e+04, 4.37e+04, 4.37e+04], ..., [4.37e+04, ...]]\n",
      "trkfit.trksegpars_lh.raderr: [[1.23, 0.552, 0.73, 0.336, 0.838], [...], [1.89, 0.603, 0.699, 1.25]]\n",
      "trkfit.trksegpars_lh.lamerr: [[1.15, 0.444, 0.632, 0.857, 1.08], [0.694, ...], [1.72, 0.59, 1.22, 1.46]]\n",
      "trkfit.trksegpars_lh.cxerr: [[1.75, 0.583, 1.16, 1.78, 1.8], [0.608, ...], [2.97, 0.68, 3.45, 2.95]]\n",
      "trkfit.trksegpars_lh.cyerr: [[1.79, 0.656, 0.636, 1.79, 1.81], [0.572, ...], [2.39, 0.525, 2.45, 2.67]]\n",
      "trkfit.trksegpars_lh.phi0err: [[0.132, 0.00715, 0.0777, 5.75, 0.471], ..., [0.226, 0.00511, 5.72, 0.742]]\n",
      "trkfit.trksegpars_lh.t0err: [[0.417, 0.412, 0.414, 1.68, 0.383], [...], [0.773, 0.721, 3.88, 0.902]]\n",
      "trkmc.trkmcsim.valid: [[True, True, True], [True, True, True], [True, True, True]]\n",
      "trkmc.trkmcsim.id: [[28, 0, 0], [28, 0, 0], [28, 0, 0]]\n",
      "trkmc.trkmcsim.nhits: [[74, -1, -1], [77, -1, -1], [77, -1, -1]]\n",
      "trkmc.trkmcsim.nactive: [[62, -1, -1], [76, -1, -1], [63, -1, -1]]\n",
      "trkmc.trkmcsim.rank: [[0, -1, -1], [0, -1, -1], [0, -1, -1]]\n",
      "trkmc.trkmcsim.pdg: [[11, 13, 13], [11, 13, 13], [11, 13, 13]]\n",
      "trkmc.trkmcsim.startCode: [[31, 56, 56], [31, 56, 56], [31, 56, 56]]\n",
      "trkmc.trkmcsim.stopCode: [[17, 54, 54], [17, 54, 54], [17, 54, 54]]\n",
      "trkmc.trkmcsim.gen: [[-1, 38, 38], [-1, 38, 38], [-1, 38, 38]]\n",
      "trkmc.trkmcsim.time: [[4.37e+04, 4.36e+04, 4.36e+04], [...], [4.37e+04, 4.36e+04, 4.36e+04]]\n",
      "trkmc.trkmcsim.index: [[0, 1, 2], [0, 1, 2], [0, 1, 2]]\n",
      "trkmc.trkmcsim.mom.fCoordinates.fX: [[7.84, 549, 549], [7.84, 549, 549], [7.84, 549, 549]]\n",
      "trkmc.trkmcsim.mom.fCoordinates.fY: [[-61.5, -2.06e+03, -2.06e+03], [...], [-61.5, -2.06e+03, -2.06e+03]]\n",
      "trkmc.trkmcsim.mom.fCoordinates.fZ: [[-86.1, -3.83e+03, -3.83e+03], [...], [-86.1, -3.83e+03, -3.83e+03]]\n",
      "trkmc.trkmcsim.pos.fCoordinates.fX: [[318, -3.33e+03, -3.33e+03], [318, ...], [318, -3.33e+03, -3.33e+03]]\n",
      "trkmc.trkmcsim.pos.fCoordinates.fY: [[240, 1.54e+04, 1.54e+04], [240, ...], [240, 1.54e+04, 1.54e+04]]\n",
      "trkmc.trkmcsim.pos.fCoordinates.fZ: [[1.71e+03, 2.96e+04, 2.96e+04], [...], [1.71e+03, 2.96e+04, 2.96e+04]]\n",
      "trkmc.trkmcsim.endmom.fCoordinates.fX: [[-0, 58.6, 58.6], [-0, 58.6, 58.6], [-0, 58.6, 58.6]]\n",
      "trkmc.trkmcsim.endmom.fCoordinates.fY: [[0, -1.12e+03, -1.12e+03], [0, ..., -1.12e+03], [0, -1.12e+03, -1.12e+03]]\n",
      "trkmc.trkmcsim.endmom.fCoordinates.fZ: [[-0, -2.02e+03, -2.02e+03], [-0, ...], [-0, -2.02e+03, -2.02e+03]]\n",
      "trkmc.trkmcsim.endpos.fCoordinates.fX: [[334, 233, 233], [334, 233, 233], [334, 233, 233]]\n",
      "trkmc.trkmcsim.endpos.fCoordinates.fY: [[233, 1.29e+03, 1.29e+03], [233, ...], [233, 1.29e+03, 1.29e+03]]\n",
      "trkmc.trkmcsim.endpos.fCoordinates.fZ: [[-5.97e+03, 3.53e+03, 3.53e+03], [...], [-5.97e+03, 3.53e+03, 3.53e+03]]\n",
      "trkmc.trkmcsim.prirel._rel: [[-1, -1, 0], [-1, -1, 0], [-1, -1, 0]]\n",
      "trkmc.trkmcsim.prirel._rem: [[-1, -1, 0], [-1, -1, 0], [-1, -1, 0]]\n",
      "trkmc.trkmcsim.trkrel._rel: [[0, 2, -1], [0, 2, -1], [0, 2, -1]]\n",
      "trkmc.trkmcsim.trkrel._rem: [[0, 1, -1], [0, 1, -1], [0, 1, -1]]\n",
      "-------------------------------------------------------------------------------------\n",
      "\n"
     ]
    }
   ],
   "source": [
    "printer = Print()\n",
    "\n",
    "printer.print_n_events(data)"
   ]
  },
  {
   "cell_type": "code",
   "execution_count": 6,
   "id": "83a90ff0-8469-440d-b563-8876d2721f45",
   "metadata": {},
   "outputs": [
    {
     "name": "stdout",
     "output_type": "stream",
     "text": [
      "[pyplot] Initialised Plot with mu2e.mplstyle and verbosity = 1\n"
     ]
    },
    {
     "data": {
      "image/png": "[encoded data removed]",
      "text/plain": [
       "<Figure size 640x480 with 1 Axes>"
      ]
     },
     "metadata": {},
     "output_type": "display_data"
    },
    {
     "data": {
      "text/plain": [
       "<Figure size 640x480 with 0 Axes>"
      ]
     },
     "metadata": {},
     "output_type": "display_data"
    }
   ],
   "source": [
    "plotter = Plot()\n",
    "\n",
    "fig, ax = plt.subplots()\n",
    "\n",
    "ax.axvline(0.8, color='red', linestyle='--', label='Cut')\n",
    "\n",
    "plotter.plot_1D(\n",
    "    ak.flatten(data[\"trk\"][\"trkqual.result\"], axis=None),\n",
    "    nbins=100, xmin=0, xmax=1,\n",
    "    xlabel=\"Track quality\", #title=\"Quality\",\n",
    "    stat_box=False,\n",
    "    show=True,\n",
    "    log_y=True,\n",
    "    ax=ax\n",
    ")\n",
    "\n",
    "plt.tight_layout()\n",
    "plt.show()"
   ]
  },
  {
   "cell_type": "markdown",
   "id": "20f4571a-c2a6-4ceb-b2a0-2a6f00775b76",
   "metadata": {},
   "source": [
    "## In order"
   ]
  },
  {
   "cell_type": "code",
   "execution_count": 35,
   "id": "3b4e4824-fbd4-4730-8e03-4f3b46140f0f",
   "metadata": {},
   "outputs": [
    {
     "name": "stdout",
     "output_type": "stream",
     "text": [
      "[pyselect] Returning mask for trksegs with sid = 0 and sindex = 0\n",
      "[pyselect] Returning mask for trksegs with sid = 1 and sindex = 0\n",
      "[pyselect] Returning mask for trksegs with sid = 2 and sindex = 0\n",
      "[pyselect] Added cut within_t0 with index 0\n",
      "[pyselect] Returning mask for trkqual > 0.8\n",
      "[pyselect] Added cut good_trkqual with index 1\n",
      "\n",
      "[pyselect] Cut Info:\n",
      "----------------------------------------------------------------------------------------------------\n",
      "Cut                  Events Passing       Absolute Frac. [%]   Relative Frac. [%]   Description                   \n",
      "----------------------------------------------------------------------------------------------------\n",
      "No cuts              6932                 100.00               100.00               No selection applied          \n",
      "within_t0            1562                 22.53                22.53                t0 at tracker entrance (640 < t_0 < 1650 ns)\n",
      "good_trkqual         27                   0.39                 1.73                 Track quality (quality > 0.8) \n",
      "----------------------------------------------------------------------------------------------------\n",
      "[pyselect] Summary: 27/6932 events remaining (0.39%)\n"
     ]
    }
   ],
   "source": [
    "def define_cuts(data):\n",
    "    \"\"\" Returns a dict of defined cuts.\"\"\"\n",
    "\n",
    "    # Tracker surfaces\n",
    "    trk_front = selector.select_surface(data[\"trkfit\"], sid=0)\n",
    "    trk_mid = selector.select_surface(data[\"trkfit\"], sid=1)\n",
    "    trk_back = selector.select_surface(data[\"trkfit\"], sid=2)\n",
    "    in_trk = (trk_front | trk_mid | trk_back)\n",
    "    data[\"in_trk\"] = trk_front # useful for plotting\n",
    "    data[\"at_trk_front\"] = trk_front # useful for plotting\n",
    "    \n",
    "    # # 1. Electrons in tracker\n",
    "    # is_electron = mask = (data[\"trkmcsim.pdg.pdg\"] == self.particles[\"e-\"]) #. selector.is_electron(data[\"trk\"])\n",
    "    # is_electron = selector.is_electron(data[\"trk\"])\n",
    "    # is_electron = ak.all(~in_trk | is_electron, axis=-1)\n",
    "    # data[\"is_electron\"] = is_electron # append\n",
    "    # cut_manager.add_cut(\n",
    "    #     name=\"is_electron\",\n",
    "    #     description=\"Electrons at tracker entrance according to track PDG\",\n",
    "    #     mask=is_electron\n",
    "    # )\n",
    "\n",
    "    # # 1. Truth track parent is electron \n",
    "    # is_electron = data[\"trkmc\"][\"trkmcsim\"][\"pdg\"] == 11\n",
    "    # is_trk_parent = data[\"trkmc\"][\"trkmcsim\"][\"nhits\"] == ak.max(data[\"trkmc\"][\"trkmcsim\"][\"nhits\"], axis=-1)\n",
    "    # is_trk_parent_electron = is_electron & is_trk_parent \n",
    "    # has_trk_parent_electron = ak.any(is_trk_parent_electron, axis=-1) # Any tracks with electron parents?\n",
    "\n",
    "    # # trkmcsim-level definition, useful for plotting\n",
    "    # data[\"is_trk_parent\"] = is_trk_parent\n",
    "    # data[\"is_trk_parent_electron\"] = is_trk_parent_electron \n",
    "    # data[\"is_electron\"] = has_trk_parent_electron \n",
    "\n",
    "    # # trk-level definition (the actual cut)\n",
    "    # cut_manager.add_cut(\n",
    "    #     name=\"is_electron\", # call it \"is_electron\" for brevity\n",
    "    #     description=\"Track parents are electrons (truth PID)\", \n",
    "    #     mask=has_trk_parent_electron\n",
    "    # )\n",
    "\n",
    "    # # 2. Downstream tracks only through tracker\n",
    "    # is_downstream = selector.is_downstream(data[\"trkfit\"])\n",
    "\n",
    "    #  # trkseg-level definition, useful for plotting\n",
    "    # data[\"is_downstream_in_trk\"] = is_downstream & trk_front \n",
    "\n",
    "    # # trk-level definition (the actual cut)\n",
    "    # is_downstream = ak.all(~in_trk | is_downstream, axis=-1)\n",
    "    # cut_manager.add_cut(\n",
    "    #     name=\"is_downstream\",\n",
    "    #     description=\"Downstream tracks only (p_z > 0 through tracker)\",\n",
    "    #     mask=is_downstream\n",
    "    # )\n",
    "    \n",
    "    # # 3. Minimum hits\n",
    "    # has_hits = selector.has_n_hits(data[\"trk\"], nhits=20)\n",
    "    # cut_manager.add_cut(\n",
    "    #     name=\"has_hits\",\n",
    "    #     description=\"Minimum of 20 active hits in the tracker\",\n",
    "    #     mask=has_hits\n",
    "    # )\n",
    "\n",
    "    # 4. Time at tracker entrance (trk level)\n",
    "    within_t0 = ((640 < data[\"trkfit\"][\"trksegs\"][\"time\"]) & \n",
    "                 (data[\"trkfit\"][\"trksegs\"][\"time\"] < 1650))\n",
    "    \n",
    "    # trkseg-level definition, useful for plotting\n",
    "    data[\"within_t0_at_trkent\"] = within_t0 & trk_front \n",
    "\n",
    "    # trk-level definition (the actual cut)\n",
    "    within_t0 = ak.all(~trk_front | within_t0, axis=-1)\n",
    "    cut_manager.add_cut( # trk-level\n",
    "        name=\"within_t0\",\n",
    "        description=\"t0 at tracker entrance (640 < t_0 < 1650 ns)\",\n",
    "        mask=within_t0\n",
    "    )\n",
    "\n",
    "    # 5. Track quality\n",
    "    good_trkqual = selector.select_trkqual(data[\"trk\"], quality=0.8)\n",
    "    cut_manager.add_cut(\n",
    "        name=\"good_trkqual\",\n",
    "        description=\"Track quality (quality > 0.8)\",\n",
    "        mask=good_trkqual\n",
    "    )\n",
    "    \n",
    "\n",
    "cut_manager = CutManager(\n",
    "    verbosity = 2\n",
    ")\n",
    "cuts = cut_manager.cuts\n",
    "define_cuts(data)\n",
    "cut_manager.print_cut_stats(data)\n",
    "\n"
   ]
  },
  {
   "cell_type": "code",
   "execution_count": 39,
   "id": "09f2da54-68a8-48d9-a632-b119748782d5",
   "metadata": {},
   "outputs": [],
   "source": [
    "# Make a copy\n",
    "data_cut = ak.copy(data)\n",
    "\n",
    "# Combine cuts\n",
    "combined = cut_manager.combine_cuts() \n",
    "# data_cut[\"combined\"] = combined\n",
    "\n",
    "combined = cuts[\"within_t0\"][\"mask\"]\n",
    "# # Select tracks\n",
    "data_cut[\"trk\"] = data_cut[\"trk\"][combined]\n",
    "data_cut[\"trkfit\"] = data_cut[\"trkfit\"][combined]\n",
    "data_cut[\"trkmc\"] = data_cut[\"trkmc\"][combined]\n",
    "\n",
    "# Then clean up events with no tracks after cuts\n",
    "combined = ak.any(combined, axis=-1)\n",
    "\n",
    "data_cut = data_cut[combined] "
   ]
  },
  {
   "cell_type": "code",
   "execution_count": 40,
   "id": "b4af7459-5a08-4e4f-93f9-e5376d69dfe0",
   "metadata": {},
   "outputs": [
    {
     "name": "stdout",
     "output_type": "stream",
     "text": [
      "[pyplot] Initialised Plot with mu2e.mplstyle and verbosity = 1\n"
     ]
    },
    {
     "data": {
      "image/png": "[encoded data removed]",
      "text/plain": [
       "<Figure size 640x480 with 1 Axes>"
      ]
     },
     "metadata": {},
     "output_type": "display_data"
    },
    {
     "data": {
      "text/plain": [
       "<Figure size 640x480 with 0 Axes>"
      ]
     },
     "metadata": {},
     "output_type": "display_data"
    }
   ],
   "source": [
    "plotter = Plot()\n",
    "\n",
    "fig, ax = plt.subplots()\n",
    "\n",
    "ax.axvline(0.8, color='green', linestyle='--', label='trkqual$=0.8$')\n",
    "\n",
    "plotter.plot_1D_overlay(\n",
    "    {\n",
    "        \"All\" : ak.flatten(data[\"trk\"][\"trkqual.result\"], axis=None),\n",
    "        \"$t_{0}$ cut\" : ak.flatten(data_cut[\"trk\"][\"trkqual.result\"], axis=None),\n",
    "    },\n",
    "    nbins=100, xmin=0, xmax=1,\n",
    "    xlabel=\"Track quality\", #title=\"Quality\",\n",
    "    log_y=True,\n",
    "    ax=ax\n",
    ")\n",
    "\n",
    "plt.tight_layout()\n",
    "plt.show()"
   ]
  },
  {
   "cell_type": "markdown",
   "id": "02ad0fbf-e044-4557-9667-44879b301855",
   "metadata": {},
   "source": [
    "## trkqual is not too harsh by itself, but it is quite harsh on the subset that pass t0"
   ]
  },
  {
   "cell_type": "code",
   "execution_count": null,
   "id": "2ea4a5dc-e010-4004-a170-0be02129469e",
   "metadata": {},
   "outputs": [],
   "source": []
  }
 ],
 "metadata": {
  "kernelspec": {
   "display_name": "Python [conda env:.conda-test_coffea]",
   "language": "python",
   "name": "conda-env-.conda-test_coffea-py"
  },
  "language_info": {
   "codemirror_mode": {
    "name": "ipython",
    "version": 3
   },
   "file_extension": ".py",
   "mimetype": "text/x-python",
   "name": "python",
   "nbconvert_exporter": "python",
   "pygments_lexer": "ipython3",
   "version": "3.12.7"
  }
 },
 "nbformat": 4,
 "nbformat_minor": 5
}

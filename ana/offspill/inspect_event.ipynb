{
 "cells": [
  {
   "cell_type": "markdown",
   "id": "9c3f9129-03e7-454d-b579-409796461fe9",
   "metadata": {},
   "source": [
    "# Pick an event and inspect it\n",
    "\n",
    "Useful for debugging"
   ]
  },
  {
   "cell_type": "markdown",
   "id": "e1df0dfd-2e19-4a52-bcfe-2c34089f3e9c",
   "metadata": {},
   "source": [
    "## Globals"
   ]
  },
  {
   "cell_type": "code",
   "execution_count": 12,
   "id": "66c6a541-f1b5-49ef-bf70-082456004ac6",
   "metadata": {},
   "outputs": [],
   "source": [
    "file_name = \"nts.mu2e.CosmicCRYSignalAllOffSpillTriggered-LH.MDC2020as_best_v1_3_v06_03_00.001202_00060008.root\" # \"nts.mu2e.CosmicCRYSignalAllOffSpillTriggered-LH.MDC2020as_best_v1_3_v06_03_00.001202_00075127.root\"\n",
    "event = 38729 # 217055\n",
    "subrun = 63475 # 63475"
   ]
  },
  {
   "cell_type": "markdown",
   "id": "ac514c9f-c3b2-443c-877c-cd28866caab6",
   "metadata": {},
   "source": [
    "## Imports"
   ]
  },
  {
   "cell_type": "code",
   "execution_count": 13,
   "id": "9ae7a091-d544-49bf-b43e-c12489025eb8",
   "metadata": {},
   "outputs": [],
   "source": [
    "import uproot\n",
    "import awkward as ak\n",
    "import matplotlib.pyplot as plt\n",
    "from pyutils.pyprocess import Processor\n",
    "from pyutils.pyplot import Plot\n",
    "from pyutils.pyprint import Print\n",
    "from pyutils.pyselect import Select\n",
    "from pyutils.pyvector import Vector"
   ]
  },
  {
   "cell_type": "markdown",
   "id": "0f6a93d4-9902-4eb2-a952-48fc2994a929",
   "metadata": {},
   "source": [
    "# Import data"
   ]
  },
  {
   "cell_type": "code",
   "execution_count": 17,
   "id": "d29ee9c5-c9da-4311-97a1-c65a6dadd893",
   "metadata": {},
   "outputs": [
    {
     "name": "stdout",
     "output_type": "stream",
     "text": [
      "Help on method process_data in module pyutils.pyprocess:\n",
      "\n",
      "process_data(file_name=None, file_list_path=None, defname=None, branches=None, max_workers=None, custom_process_func=None, use_processes=False) method of pyutils.pyprocess.Processor instance\n",
      "    Process the data\n",
      "\n",
      "    Args:\n",
      "        file_name: File name\n",
      "        defname: SAM definition name\n",
      "        file_list_path: Path to file list\n",
      "        branches: Flat list or grouped dict of branches to import\n",
      "        max_workers: Maximum number of parallel workers\n",
      "        custom_process_func: Optional custom processing function for each file\n",
      "        use_processes: Whether to use processes rather than threads\n",
      "\n",
      "    Returns:\n",
      "        - If custom_process_func is None: a concatenated awkward array with imported data from all files\n",
      "        - If custom_process_func is not None: a list of outputs from the custom process\n",
      "\n"
     ]
    }
   ],
   "source": [
    "help(processor.process_data)"
   ]
  },
  {
   "cell_type": "code",
   "execution_count": 22,
   "id": "8932e85a-784d-4d61-b032-9929139edafa",
   "metadata": {},
   "outputs": [
    {
     "name": "stdout",
     "output_type": "stream",
     "text": [
      "[pyprocess] ⭐️ Initialised Processor:\n",
      "\tpath = 'EventNtuple/ntuple'\n",
      "\tuse_remote = True\n",
      "\tlocation = disk\n",
      "\tschema = root\n",
      "\tverbosity=1\n",
      "[pyprocess] ⭐️ Loading file list from /exp/mu2e/data/users/sgrant/mu2e_cosmic_ana/background_files.txt\n",
      "[pyprocess] ✅ Successfully loaded file list\n",
      "\tPath: None\n",
      "\tCount: 9 files\n",
      "[pyprocess] ⭐️ Starting processing on 9 files with 9 threads\n"
     ]
    },
    {
     "name": "stderr",
     "output_type": "stream",
     "text": [
      "Processing: 100%|\u001b[32m██████████████████████████████\u001b[0m| 9/9 [00:10<00:00,  1.16s/file, successful=9, failed=0]\u001b[0m\n"
     ]
    },
    {
     "name": "stdout",
     "output_type": "stream",
     "text": [
      "[pyprocess] ✅ Returning concatenated array containing 63368 events\n"
     ]
    }
   ],
   "source": [
    "processor = Processor( \n",
    "    use_remote = True,\n",
    "    location = \"disk\",\n",
    "    verbosity = 1\n",
    ")\n",
    "\n",
    "branches = { \n",
    "    \"evt\" : [\n",
    "        \"run\",\n",
    "        \"subrun\",\n",
    "        \"event\",\n",
    "    ],\n",
    "    \"crv\" : [\n",
    "        \"crvcoincs.time\",\n",
    "        \"crvcoincs.nHits\"\n",
    "    ],\n",
    "    \"trk\" : [\n",
    "        \"trk.nactive\", \n",
    "        \"trk.pdg\", \n",
    "        \"trkqual.valid\",\n",
    "        \"trkqual.result\"\n",
    "    ],\n",
    "    \"trkfit\" : [\n",
    "        \"trksegs\",\n",
    "        \"trksegpars_lh\"\n",
    "    ],\n",
    "    \"trkmc\" : [\n",
    "        \"trkmcsim\"\n",
    "    ]\n",
    "}\n",
    "\n",
    "# Single file\n",
    "data = processor.process_data(\n",
    "    # file_name = file_name,\n",
    "    file_list_path = \"/exp/mu2e/data/users/sgrant/mu2e_cosmic_ana/background_files.txt\",\n",
    "    # branches = \"*\"\n",
    "    branches = branches\n",
    ")"
   ]
  },
  {
   "cell_type": "code",
   "execution_count": 32,
   "id": "65bcf047-2f8f-4b56-9df6-301a6336e639",
   "metadata": {},
   "outputs": [
    {
     "name": "stdout",
     "output_type": "stream",
     "text": [
      "63368\n",
      "10\n"
     ]
    }
   ],
   "source": [
    "# data.type.show()\n",
    "\n",
    "# select event \n",
    "\n",
    "data_cut = ak.copy(data) \n",
    "\n",
    "event_condition = (\n",
    "    (data_cut[\"evt\"][\"event\"] == 157431) & (data_cut[\"evt\"][\"subrun\"] == 4457) | \n",
    "    (data_cut[\"evt\"][\"event\"] == 283585) & (data_cut[\"evt\"][\"subrun\"] == 4846) | \n",
    "    (data_cut[\"evt\"][\"event\"] == 465577) & (data_cut[\"evt\"][\"subrun\"] == 1445) | \n",
    "    (data_cut[\"evt\"][\"event\"] == 216096) & (data_cut[\"evt\"][\"subrun\"] == 14080) | \n",
    "    (data_cut[\"evt\"][\"event\"] == 359830) & (data_cut[\"evt\"][\"subrun\"] == 19742) | \n",
    "    (data_cut[\"evt\"][\"event\"] == 439475) & (data_cut[\"evt\"][\"subrun\"] == 40152) | \n",
    "    (data_cut[\"evt\"][\"event\"] == 377360) & (data_cut[\"evt\"][\"subrun\"] == 48098) |\n",
    "    (data_cut[\"evt\"][\"event\"] == 38729) & (data_cut[\"evt\"][\"subrun\"] == 63475) | \n",
    "    (data_cut[\"evt\"][\"event\"] == 161916) & (data_cut[\"evt\"][\"subrun\"] == 78889) | \n",
    "    (data_cut[\"evt\"][\"event\"] == 217055) & (data_cut[\"evt\"][\"subrun\"] == 78301)\n",
    ")\n",
    "# print(len(event_condition))\n",
    "data_cut = data_cut[event_condition]\n",
    "\n",
    "print(len(data_cut[\"evt\"][\"event\"]))"
   ]
  },
  {
   "cell_type": "code",
   "execution_count": 34,
   "id": "15902610-0126-4458-8cb1-13ab6f6569d7",
   "metadata": {},
   "outputs": [
    {
     "name": "stdout",
     "output_type": "stream",
     "text": [
      "[pyprint] ⭐️ Initialised Print with verbose = True and precision = 1\n",
      "Wrote ../../txt/offspill/background_events_verbose_background_events_CM.txt\n"
     ]
    }
   ],
   "source": [
    "printer = Print(verbose=True)\n",
    "\n",
    "\n",
    "fout = \"../../txt/offspill/background_events_verbose_background_events_CM.txt\"\n",
    "\n",
    "import sys \n",
    "# Redirect stdout to file\n",
    "with open(fout, \"w\") as f:\n",
    "    old_stdout = sys.stdout\n",
    "    sys.stdout = f\n",
    "    \n",
    "    printer.print_n_events(data_cut, n_events=len(data_cut))\n",
    "    \n",
    "    # Restore stdout\n",
    "    sys.stdout = old_stdout\n",
    "\n",
    "    print(f\"Wrote {fout}\")\n",
    "\n",
    "    "
   ]
  }
 ],
 "metadata": {
  "kernelspec": {
   "display_name": "mu2e_env [conda env:.conda-ana_v2.0.0]",
   "language": "python",
   "name": "conda-env-.conda-ana_v2.0.0-ana_v2.0.0"
  },
  "language_info": {
   "codemirror_mode": {
    "name": "ipython",
    "version": 3
   },
   "file_extension": ".py",
   "mimetype": "text/x-python",
   "name": "python",
   "nbconvert_exporter": "python",
   "pygments_lexer": "ipython3",
   "version": "3.12.7"
  }
 },
 "nbformat": 4,
 "nbformat_minor": 5
}

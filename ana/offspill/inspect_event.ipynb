{
 "cells": [
  {
   "cell_type": "markdown",
   "id": "9c3f9129-03e7-454d-b579-409796461fe9",
   "metadata": {},
   "source": [
    "# Pick an event and inspect it\n",
    "\n",
    "Useful for debugging"
   ]
  },
  {
   "cell_type": "markdown",
   "id": "e1df0dfd-2e19-4a52-bcfe-2c34089f3e9c",
   "metadata": {},
   "source": [
    "## Globals"
   ]
  },
  {
   "cell_type": "code",
   "execution_count": 8,
   "id": "66c6a541-f1b5-49ef-bf70-082456004ac6",
   "metadata": {},
   "outputs": [],
   "source": [
    "# file_name = \"nts.mu2e.CosmicCRYSignalAllOffSpillTriggered-LH.MDC2020as_best_v1_3_v06_03_00.001202_00060008.root\" # \"nts.mu2e.CosmicCRYSignalAllOffSpillTriggered-LH.MDC2020as_best_v1_3_v06_03_00.001202_00075127.root\"\n",
    "# event = 38729 # 217055\n",
    "# subrun = 63475 # 63475\n",
    "\n",
    "# file_name = \"nts.mu2e.CosmicCRYSignalAllOnSpillTriggered.MDC2020au_best_v1_3_v06_03_00.001202_00024906.root\"\n",
    "\n",
    "# file_name = \"nts.mu2e.CosmicCRYSignalAllOnSpillTriggered.MDC2020au_best_v1_3_v06_03_00.001202_00024906.root\" # \"nts.mu2e.CosmicCRYSignalAllOffSpillTriggered-LH.MDC2020as_best_v1_3_v06_03_00.001202_00075127.root\"\n",
    "event = 93561 # 217055\n",
    "subrun = 25833 # 63475\n",
    "\n",
    "offspill_file_name = \"nts.mu2e.CosmicCRYSignalAllOffSpillTriggered-LH.MDC2020as_best_v1_3_v06_03_00.001202_00024906.root\"\n",
    "onspill_file_name = \"nts.mu2e.CosmicCRYSignalAllOnSpillTriggered.MDC2020au_best_v1_3_v06_03_00.001202_00024906.root\"\n",
    "\n"
   ]
  },
  {
   "cell_type": "markdown",
   "id": "ac514c9f-c3b2-443c-877c-cd28866caab6",
   "metadata": {},
   "source": [
    "## Imports"
   ]
  },
  {
   "cell_type": "code",
   "execution_count": 9,
   "id": "9ae7a091-d544-49bf-b43e-c12489025eb8",
   "metadata": {},
   "outputs": [],
   "source": [
    "import uproot\n",
    "import awkward as ak\n",
    "import matplotlib.pyplot as plt\n",
    "from pyutils.pyprocess import Processor\n",
    "from pyutils.pyplot import Plot\n",
    "from pyutils.pyprint import Print\n",
    "from pyutils.pyselect import Select\n",
    "from pyutils.pyvector import Vector"
   ]
  },
  {
   "cell_type": "markdown",
   "id": "0f6a93d4-9902-4eb2-a952-48fc2994a929",
   "metadata": {},
   "source": [
    "# Import data"
   ]
  },
  {
   "cell_type": "code",
   "execution_count": 4,
   "id": "d29ee9c5-c9da-4311-97a1-c65a6dadd893",
   "metadata": {},
   "outputs": [],
   "source": [
    "# help(processor.process_data)"
   ]
  },
  {
   "cell_type": "code",
   "execution_count": 5,
   "id": "8932e85a-784d-4d61-b032-9929139edafa",
   "metadata": {},
   "outputs": [
    {
     "name": "stdout",
     "output_type": "stream",
     "text": [
      "[pyutils] ⭐️ Setting up...\n",
      "[pyutils] ✅ Ready\n",
      "[pyprocess] ⭐️ Initialised Processor:\n",
      "\tpath = 'EventNtuple/ntuple'\n",
      "\tuse_remote = True\n",
      "\tlocation = disk\n",
      "\tschema = root\n",
      "\tverbosity=1\n",
      "[pyread] ⭐️ Opening remote file: nts.mu2e.CosmicCRYSignalAllOffSpillTriggered-LH.MDC2020as_best_v1_3_v06_03_00.001202_00024906.root\n",
      "[pyread] ⭐️ Created file path: root://fndcadoor.fnal.gov:1094/mu2e/persistent/datasets/phy-nts/nts/mu2e/CosmicCRYSignalAllOffSpillTriggered-LH/MDC2020as_best_v1_3_v06_03_00/root/b8/7c/nts.mu2e.CosmicCRYSignalAllOffSpillTriggered-LH.MDC2020as_best_v1_3_v06_03_00.001202_00024906.root\n",
      "[pyread] ✅ Opened root://fndcadoor.fnal.gov:1094/mu2e/persistent/datasets/phy-nts/nts/mu2e/CosmicCRYSignalAllOffSpillTriggered-LH/MDC2020as_best_v1_3_v06_03_00/root/b8/7c/nts.mu2e.CosmicCRYSignalAllOffSpillTriggered-LH.MDC2020as_best_v1_3_v06_03_00.001202_00024906.root\n",
      "[pyimport] ✅ Imported branches\n",
      "[pyprocess] ✅ Returning result from process on nts.mu2e.CosmicCRYSignalAllOffSpillTriggered-LH.MDC2020as_best_v1_3_v06_03_00.001202_00024906.root\n"
     ]
    }
   ],
   "source": [
    "processor = Processor( \n",
    "    use_remote = True,\n",
    "    location = \"disk\",\n",
    "    verbosity = 1\n",
    ")\n",
    "\n",
    "branches = { \n",
    "    \"evt\" : [\n",
    "        \"subrun\",\n",
    "        \"event\",\n",
    "    ],\n",
    "    \"crv\" : [\n",
    "        \"crvcoincs.time\",\n",
    "        \"crvcoincs.nHits\"\n",
    "    ],\n",
    "    \"trk\" : [\n",
    "        \"trk.nactive\", \n",
    "        \"trk.pdg\", \n",
    "        \"trkqual.valid\",\n",
    "        \"trkqual.result\"\n",
    "    ],\n",
    "    \"trkfit\" : [\n",
    "        \"trksegs\",\n",
    "        \"trksegpars_lh\"\n",
    "    ],\n",
    "    \"trkmc\" : [\n",
    "        \"trkmcsim\"\n",
    "    ]\n",
    "}\n",
    "\n",
    "# Single file\n",
    "data = processor.process_data(\n",
    "    file_name = file_name,\n",
    "    # file_list_path = \"/exp/mu2e/data/users/sgrant/mu2e_cosmic_ana/background_files.txt\",\n",
    "    # branches = \"*\"\n",
    "    branches = branches\n",
    ")"
   ]
  },
  {
   "cell_type": "code",
   "execution_count": null,
   "id": "07818570-3bfc-4f36-8ef0-ea7cd5360e46",
   "metadata": {},
   "outputs": [],
   "source": [
    "# events = data[\"evt\"][\"event\"]\n",
    "# events = list(events)\n",
    "# len(events)\n",
    "# events\n",
    "\n"
   ]
  },
  {
   "cell_type": "code",
   "execution_count": 6,
   "id": "65bcf047-2f8f-4b56-9df6-301a6336e639",
   "metadata": {},
   "outputs": [
    {
     "name": "stdout",
     "output_type": "stream",
     "text": [
      "1\n"
     ]
    }
   ],
   "source": [
    "# data.type.show()\n",
    "\n",
    "# select event \n",
    "\n",
    "data_cut = ak.copy(data) \n",
    "\n",
    "# event_condition = (\n",
    "#     (data_cut[\"evt\"][\"event\"] == 157431) & (data_cut[\"evt\"][\"subrun\"] == 4457) | \n",
    "#     (data_cut[\"evt\"][\"event\"] == 283585) & (data_cut[\"evt\"][\"subrun\"] == 4846) | \n",
    "#     (data_cut[\"evt\"][\"event\"] == 465577) & (data_cut[\"evt\"][\"subrun\"] == 1445) | \n",
    "#     (data_cut[\"evt\"][\"event\"] == 216096) & (data_cut[\"evt\"][\"subrun\"] == 14080) | \n",
    "#     (data_cut[\"evt\"][\"event\"] == 359830) & (data_cut[\"evt\"][\"subrun\"] == 19742) | \n",
    "#     (data_cut[\"evt\"][\"event\"] == 439475) & (data_cut[\"evt\"][\"subrun\"] == 40152) | \n",
    "#     (data_cut[\"evt\"][\"event\"] == 377360) & (data_cut[\"evt\"][\"subrun\"] == 48098) |\n",
    "#     (data_cut[\"evt\"][\"event\"] == 38729) & (data_cut[\"evt\"][\"subrun\"] == 63475) | \n",
    "#     (data_cut[\"evt\"][\"event\"] == 161916) & (data_cut[\"evt\"][\"subrun\"] == 78889) | \n",
    "#     (data_cut[\"evt\"][\"event\"] == 217055) & (data_cut[\"evt\"][\"subrun\"] == 78301)\n",
    "# )\n",
    "\n",
    "\n",
    "event_condition = ((data_cut[\"evt\"][\"event\"] == event) & (data_cut[\"evt\"][\"subrun\"] == subrun))\n",
    "# print(len(event_condition))\n",
    "data_cut = data_cut[event_condition]\n",
    "\n",
    "print(len(data_cut[\"evt\"][\"event\"]))"
   ]
  },
  {
   "cell_type": "code",
   "execution_count": 7,
   "id": "15902610-0126-4458-8cb1-13ab6f6569d7",
   "metadata": {},
   "outputs": [
    {
     "name": "stdout",
     "output_type": "stream",
     "text": [
      "[pyprint] ⭐️ Initialised Print with verbose = False and precision = 1\n",
      "[pyprint] ⭐️ Printing 1 event(s)...\n",
      "\n",
      "-------------------------------------------------------------------------------------\n",
      "evt.event: 93561\n",
      "evt.run: 1202\n",
      "evt.subrun: 25833\n",
      "crv.crvcoincs.time: []\n",
      "crv.crvcoincs.nHits: []\n",
      "trk.trk.pdg: [11, -11, 13, -13]\n",
      "trk.trk.nactive: [29, 26, 29, 27]\n",
      "trk.trkqual.valid: [True, True, True, True]\n",
      "trk.trkqual.result: [0.363, 0.0804, 0.782, 0.0584]\n",
      "trkfit.trksegs.mom.fCoordinates.fX: [[87.2, 88.2, 93.1, 93.9, 90.4, 89.1, ..., 94.1, 11.4, -35.1, 64, 70.4], ...]\n",
      "trkfit.trksegs.mom.fCoordinates.fY: [[-35.5, -33, -13.9, 6, 25.7, 29.6, ..., -32.5, 9.91, -83, -73, -48, 36.6], ...]\n",
      "trkfit.trksegs.mom.fCoordinates.fZ: [[-45.7, -45.7, -45.7, -45.6, -45.5, ..., 43.4, 61.7, 65.2, 66, 66.4], ...]\n",
      "trkfit.trksegs.pos.fCoordinates.fX: [[-74.8, -69, -24.7, 21, 66.1, 75, ..., 36.9, -228, -229, -155, 124], ...]\n",
      "trkfit.trksegs.pos.fCoordinates.fY: [[5.47, 3.19, -8.24, -10.2, -2.4, 0.344, ..., -10.2, 195, 360, 38.5, 13.4], ...]\n",
      "trkfit.trksegs.pos.fCoordinates.fZ: [[-4.12e+03, -4.12e+03, -4.14e+03, ..., -1.63e+03, 10.1, 1.64e+03], ..., [...]]\n",
      "trkfit.trksegs.time: [[9.3e+04, 9.3e+04, 9.3e+04, 9.3e+04, ..., 9.3e+04, 9.3e+04, 9.3e+04], ...]\n",
      "trkfit.trksegs.dmom: [[0, -0.0811, -0.0812, -0.0813, -0.0813, 0, ..., -0.0852, -0.129, 0, 0, 0], ...]\n",
      "trkfit.trksegs.momerr: [[0.398, 0.398, 0.397, 0.397, 0.397, ..., 0.133, 0.132, 0.131, 0.129], ...]\n",
      "trkfit.trksegs.inbounds: [[True, True, True, True, True, True, ..., True, True, True, True, True], ...]\n",
      "trkfit.trksegs.gap: [[False, False, False, False, False, ..., False, False, False, False], ...]\n",
      "trkfit.trksegs.early: [[True, False, False, False, False, ..., False, False, False, False], ...]\n",
      "trkfit.trksegs.late: [[False, False, False, False, False, ..., False, False, False, True], ...]\n",
      "trkfit.trksegs.sid: [[103, 104, 104, 104, 104, 103, 104, 104, 104, 90, 0, 1, 2], ..., [1, ..., 0]]\n",
      "trkfit.trksegs.sindex: [[0, 26, 25, 24, 23, 0, 0, 18, 20, 0, 0, 0, 0], ..., [0, 0, 0, ..., 32, 0, 0]]\n",
      "trkfit.trksegpars_lh.maxr: [[509, 413, 414, 398, 421, 417, 419, 424, 512, 514, 517, 427, 422], ..., [...]]\n",
      "trkfit.trksegpars_lh.d0: [[22.9, 14.7, 12.5, 14.3, 10.6, 15.1, ..., 9.15, 14.1, 15.8, 8.24, 8.25], ...]\n",
      "trkfit.trksegpars_lh.tanDip: [[0.691, 0.459, 0.458, -0.356, -0.472, ..., 0.826, 0.837, -0.489, -0.469], ...]\n",
      "trkfit.trksegpars_lh.rad: [[243, 214, 213, 206, 216, 216, 217, 217, 261, 264, 267, 218, 215], ..., [...]]\n",
      "trkfit.trksegpars_lh.lam: [[174, 98.8, 96.3, -73, -103, -104, ..., -107, 210, 217, 223, -108, -103], ...]\n",
      "trkfit.trksegpars_lh.cx: [[-30, 27.3, -9.08, -5.03, 30.3, ..., 0.633, 3.56, 1.83, -23.8, 35.2], ...]\n",
      "trkfit.trksegpars_lh.cy: [[264, 197, 200, 192, 203, 200, 202, 206, 252, 250, 251, 208, 204], ..., [...]]\n",
      "trkfit.trksegpars_lh.phi0: [[1.82, -0.827, 0.309, -1.65, -2.67, ..., -0.691, -0.588, -0.975, -2.85], ...]\n",
      "trkfit.trksegpars_lh.t0: [[9.3e+04, 9.3e+04, 9.3e+04, 9.29e+04, ..., 9.3e+04, 9.29e+04, 9.29e+04], ...]\n",
      "trkfit.trksegpars_lh.raderr: [[3.01, 2.43, 2.43, 1.9, 2.79, 2.89, ..., 0.983, 0.656, 0.871, 3.09, 2.72], ...]\n",
      "trkfit.trksegpars_lh.lamerr: [[4.15, 5.18, 5.31, 4.96, 5.67, 5.82, ..., 1.02, 0.226, 0.977, 6.1, 5.53], ...]\n",
      "trkfit.trksegpars_lh.cxerr: [[14.6, 10.7, 13.6, 12.2, 10.7, 11.3, ..., 2.33, 0.219, 1.31, 12.9, 10.4], ...]\n",
      "trkfit.trksegpars_lh.cyerr: [[4.19, 12, 11.6, 6.08, 4.98, 5.12, ..., 1.23, 0.985, 1.69, 4.9, 4.87], ...]\n",
      "trkfit.trksegpars_lh.phi0err: [[0.13, 1.01, 1.22, 9.29, 6.08, ..., 0.0265, 0.0017, 0.0247, 5.82, 6.1], ...]\n",
      "trkfit.trksegpars_lh.t0err: [[0.704, 0.489, 0.686, 6.3, 4.31, ..., 0.96, 0.958, 0.952, 4.16, 4.31], ...]\n",
      "trkmc.trkmcsim.valid: [[True, True, True, True, True, True, True], ..., [True, True, ..., True, True]]\n",
      "trkmc.trkmcsim.id: [[40, 39, 20, 10, 3, 1, 0], [40, 39, ..., 1, 0], ..., [40, 39, 20, 10, 3, 1, 0]]\n",
      "trkmc.trkmcsim.nhits: [[29, -1, -1, -1, -1, -1, -1], [29, ..., -1], ..., [29, -1, -1, -1, -1, -1, -1]]\n",
      "trkmc.trkmcsim.nactive: [[29, -1, -1, -1, -1, -1, -1], [26, ..., -1], ..., [27, -1, -1, -1, -1, -1, -1]]\n",
      "trkmc.trkmcsim.rank: [[0, -1, -1, -1, -1, -1, -1], [0, ..., -1], ..., [0, -1, -1, -1, -1, -1, -1]]\n",
      "trkmc.trkmcsim.pdg: [[11, 22, 111, 2112, 2212, 2112, 2112], ..., [11, 22, 111, ..., 2112, 2112]]\n",
      "trkmc.trkmcsim.startCode: [[13, 14, 97, 101, 97, 97, 56], [13, ...], ..., [13, 14, 97, 101, 97, 97, 56]]\n",
      "trkmc.trkmcsim.stopCode: [[17, 13, 14, 97, 54, 54, 54], [17, ..., 54], ..., [17, 13, 14, 97, 54, 54, 54]]\n",
      "trkmc.trkmcsim.gen: [[-1, -1, -1, -1, -1, -1, 38], [-1, ..., 38], ..., [-1, -1, -1, -1, -1, -1, 38]]\n",
      "trkmc.trkmcsim.time: [[9.3e+04, 9.3e+04, 9.3e+04, 9.3e+04, 9.3e+04, 9.3e+04, 9.29e+04], ..., [...]]\n",
      "trkmc.trkmcsim.index: [[0, 1, 2, 3, 4, 5, 6], [0, 1, 2, 3, 4, 5, 6], ..., [0, 1, 2, 3, 4, 5, 6]]\n",
      "trkmc.trkmcsim.mom.fCoordinates.fX: [[42.3, 43.8, -33.1, -1.55e+03, -2.37e+03, -2.86e+03, -3.22e+03], ..., [...]]\n",
      "trkmc.trkmcsim.mom.fCoordinates.fY: [[-286, -291, -449, -8.74e+03, -1.86e+04, -1.88e+04, -1.98e+04], ..., [...]]\n",
      "trkmc.trkmcsim.mom.fCoordinates.fZ: [[-146, -149, -232, -2.64e+03, -6.54e+03, -7.01e+03, -7.38e+03], ..., [...]]\n",
      "trkmc.trkmcsim.pos.fCoordinates.fX: [[-751, -753, -753, -752, -563, -216, 1.57e+03], ..., [-751, ..., 1.57e+03]]\n",
      "trkmc.trkmcsim.pos.fCoordinates.fY: [[585, 599, 599, 602, 2.09e+03, 4.38e+03, 1.54e+04], ..., [585, ..., 1.54e+04]]\n",
      "trkmc.trkmcsim.pos.fCoordinates.fZ: [[-3.66e+03, -3.65e+03, -3.65e+03, ..., -3.13e+03, -2.28e+03, 1.81e+03], ...]\n",
      "trkmc.trkmcsim.endmom.fCoordinates.fX: [[0, 43.8, -33.1, -1.55e+03, -2.33e+03, -2.77e+03, -3.22e+03], ..., [0, ...]]\n",
      "trkmc.trkmcsim.endmom.fCoordinates.fY: [[0, -291, -449, -8.74e+03, -1.83e+04, -1.89e+04, -1.98e+04], ..., [0, ...]]\n",
      "trkmc.trkmcsim.endmom.fCoordinates.fZ: [[-0, -149, -232, -2.64e+03, -6.46e+03, -6.87e+03, -7.38e+03], ..., [-0, ...]]\n",
      "trkmc.trkmcsim.endpos.fCoordinates.fX: [[225, -751, -753, -753, -686, -563, -216], ..., [225, -751, ..., -563, -216]]\n",
      "trkmc.trkmcsim.endpos.fCoordinates.fY: [[384, 585, 599, 599, 1.12e+03, 2.09e+03, 4.38e+03], ..., [384, ..., 4.38e+03]]\n",
      "trkmc.trkmcsim.endpos.fCoordinates.fZ: [[3.09e+03, -3.66e+03, -3.65e+03, ..., -3.47e+03, -3.13e+03, -2.28e+03], ...]\n",
      "trkmc.trkmcsim.prirel._rel: [[4, 4, 4, 4, 4, 1, 0], [4, 4, 4, 4, 4, 1, 0], ..., [4, 4, 4, 4, 4, 1, 0]]\n",
      "trkmc.trkmcsim.prirel._rem: [[6, 5, 4, 3, 2, 1, 0], [6, 5, 4, 3, 2, 1, 0], ..., [6, 5, 4, 3, 2, 1, 0]]\n",
      "trkmc.trkmcsim.trkrel._rel: [[0, 2, 5, 5, 5, 5, 5], [0, 2, 5, 5, 5, 5, 5], ..., [0, 2, 5, 5, 5, 5, 5]]\n",
      "trkmc.trkmcsim.trkrel._rem: [[0, 1, 2, 3, 4, 5, 6], [0, 1, 2, 3, 4, 5, 6], ..., [0, 1, 2, 3, 4, 5, 6]]\n",
      "-------------------------------------------------------------------------------------\n",
      "\n"
     ]
    },
    {
     "data": {
      "text/plain": [
       "92973.8658479098"
      ]
     },
     "execution_count": 7,
     "metadata": {},
     "output_type": "execute_result"
    }
   ],
   "source": [
    "printer = Print(verbose=False)\n",
    "printer.print_n_events(data_cut, n_events=len(data_cut))\n",
    "\n",
    "data_cut[\"trkfit\"][\"trksegs\"][\"time\"][0][0][0]\n",
    "\n",
    "\n",
    "# fout = \"../../txt/offspill/background_events_verbose_background_events_CM.txt\"\n",
    "\n",
    "# import sys \n",
    "# # Redirect stdout to file\n",
    "# with open(fout, \"w\") as f:\n",
    "#     old_stdout = sys.stdout\n",
    "#     sys.stdout = f\n",
    "    \n",
    "#     printer.print_n_events(data_cut, n_events=len(data_cut))\n",
    "    \n",
    "#     # Restore stdout\n",
    "#     sys.stdout = old_stdout\n",
    "\n",
    "#     print(f\"Wrote {fout}\")\n",
    "\n",
    "    "
   ]
  },
  {
   "cell_type": "code",
   "execution_count": null,
   "id": "a139cfb0-4506-4d9c-924d-08b7206f0f14",
   "metadata": {},
   "outputs": [],
   "source": []
  },
  {
   "cell_type": "code",
   "execution_count": null,
   "id": "10b70fe6-a427-4754-bdb7-c20e78c32e83",
   "metadata": {},
   "outputs": [],
   "source": []
  }
 ],
 "metadata": {
  "kernelspec": {
   "display_name": "mu2e_env [conda env:.conda-ana_v2.0.0]",
   "language": "python",
   "name": "conda-env-.conda-ana_v2.0.0-ana_v2.0.0"
  },
  "language_info": {
   "codemirror_mode": {
    "name": "ipython",
    "version": 3
   },
   "file_extension": ".py",
   "mimetype": "text/x-python",
   "name": "python",
   "nbconvert_exporter": "python",
   "pygments_lexer": "ipython3",
   "version": "3.12.7"
  }
 },
 "nbformat": 4,
 "nbformat_minor": 5
}

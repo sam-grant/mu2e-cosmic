{
 "cells": [
  {
   "cell_type": "markdown",
   "id": "9c3f9129-03e7-454d-b579-409796461fe9",
   "metadata": {},
   "source": [
    "## CE-like background in offspill \n",
    "\n",
    "SAM definition: `nts.mu2e.CosmicCRYSignalAllOffSpillTriggered-LH.MDC2020as_best_v1_3_v06_03_00.root` \n",
    "\n",
    "First file: `nts.mu2e.CosmicCRYSignalAllOffSpillTriggered-LH.MDC2020as_best_v1_3_v06_03_00.001202_00050440.root`\n",
    "\n",
    "File lists: `/exp/mu2e/data/users/sgrant/mu2e_cosmic_ana/nts.mu2e.CosmicCRYSignalAllOffSpillTriggered-LH.MDC2020as_best_v1_3_v06_03_00.*.txt`"
   ]
  },
  {
   "cell_type": "markdown",
   "id": "ac514c9f-c3b2-443c-877c-cd28866caab6",
   "metadata": {},
   "source": [
    "## Imports\n",
    "\n",
    "Switched to using installed pyutils package"
   ]
  },
  {
   "cell_type": "code",
   "execution_count": 1,
   "id": "9ae7a091-d544-49bf-b43e-c12489025eb8",
   "metadata": {},
   "outputs": [],
   "source": [
    "import uproot\n",
    "import awkward as ak\n",
    "import matplotlib.pyplot as plt\n",
    "import numpy as np\n",
    "import hist\n",
    "import gc\n",
    "import sys\n",
    "\n",
    "# sys.path.append(\"../../../EventNtuple/utils/pyutils\")\n",
    "from pyutils.pyprocess import Processor, Skeleton\n",
    "from pyutils.pyplot import Plot\n",
    "from pyutils.pyprint import Print\n",
    "from pyutils.pyselect import Select\n",
    "from pyutils.pyvector import Vector\n",
    "\n",
    "sys.path.append(\"../common\")\n",
    "from cut_manager import CutManager\n",
    "from analyse import Analyse"
   ]
  },
  {
   "cell_type": "markdown",
   "id": "0f6a93d4-9902-4eb2-a952-48fc2994a929",
   "metadata": {},
   "source": [
    "# Create Processor "
   ]
  },
  {
   "cell_type": "code",
   "execution_count": 13,
   "id": "43b06c1d-d545-44c2-97a1-d499bc947273",
   "metadata": {},
   "outputs": [],
   "source": [
    "# Create your custom processor class\n",
    "# We inherit from Skeleton - this gives us many pre-built methods without writing extra code\n",
    "class CosmicProcessor(Skeleton):\n",
    "    \"\"\"Your custom file processor \n",
    "    \n",
    "    This class inherits from the Skeleton base class, which provides the \n",
    "    basic structure and methods withing the Processor framework \n",
    "    \"\"\"\n",
    "    def __init__(self):\n",
    "        \"\"\"Initialise your processor with specific configuration\n",
    "        \n",
    "        This method sets up all the parameters needed for this specific analysis.\n",
    "        \"\"\"\n",
    "        # Call the parent class's __init__ method first\n",
    "        # This ensures we have all the base functionality properly set up\n",
    "        super().__init__()\n",
    "\n",
    "        # Now override parameters from the Skeleton with the ones we need\n",
    "        # Data selection configuration \n",
    "        self.defname = \"nts.mu2e.CosmicCRYSignalAllOffSpillTriggered-LH.MDC2020as_best_v1_3_v06_03_00.root\"\n",
    "        # self.file_list_path = \"//exp/mu2e/data/users/sgrant/mu2e_cosmic_ana/nts.mu2e.CosmicCRYSignalAllOffSpillTriggered-LH.MDC2020as_best_v1_3_v06_03_00.0_24.txt\"\n",
    "        # self.file_list_path = \"/exp/mu2e/data/users/sgrant/mu2e_cosmic_ana/nts.mu2e.CosmicCRYSignalAllOffSpillTriggered-LH.MDC2020as_best_v1_3_v06_03_00.0_99.txt\"\n",
    "        # self.file_list_path = \"/exp/mu2e/data/users/sgrant/mu2e_cosmic_ana/nts.mu2e.CosmicCRYSignalAllOffSpillTriggered-LH.MDC2020as_best_v1_3_v06_03_00.0.txt\"\n",
    "        # self.file_list_path = \"/exp/mu2e/data/users/sgrant/EventNtuple/TestFileLists/local_file_list.txt\"\n",
    "    \n",
    "        self.branches = { \n",
    "            \"evt\" : [\n",
    "                \"run\",\n",
    "                \"subrun\",\n",
    "                \"event\",\n",
    "            ],\n",
    "            \"crv\" : [\n",
    "                \"crvcoincs.time\",\n",
    "                \"crvcoincs.nHits\"\n",
    "            ],\n",
    "            \"trk\" : [\n",
    "                \"trk.nactive\", \n",
    "                \"trk.pdg\", \n",
    "                \"trkqual.valid\",\n",
    "                \"trkqual.result\"\n",
    "            ],\n",
    "            \"trkfit\" : [\n",
    "                \"trksegs\",\n",
    "                \"trksegpars_lh\"\n",
    "            ],\n",
    "            \"trkmc\" : [\n",
    "                \"trkmcsim\"\n",
    "            ]\n",
    "        }\n",
    "        self.use_remote = True     # Use remote file via mdh\n",
    "        self.location = \"disk\"     # File location\n",
    "        self.max_workers = 50      # Limit the number of workers\n",
    "        self.verbosity = 2         # Set verbosity \n",
    "        self.use_processes = True  # Use processes rather than threads\n",
    "        \n",
    "        # Now add your own analysis-specific parameters \n",
    "\n",
    "        # Init analysis methods\n",
    "        # Would be good to load an analysis config here \n",
    "        self.analyse = Analyse(verbosity=0)\n",
    "            \n",
    "        # Custom prefix for log messages from this processor\n",
    "        self.print_prefix = \"[CosmicProcessor] \"\n",
    "        print(f\"{self.print_prefix}Initialised\")\n",
    "    \n",
    "    # ==========================================\n",
    "    # Define the core processing logic\n",
    "    # ==========================================\n",
    "    # This method overrides the parent class's process_file method\n",
    "    # It will be called automatically for each file by the execute method\n",
    "    def process_file(self, file_name): \n",
    "        \"\"\"Process a single ROOT file\n",
    "        \n",
    "        This method will be called for each file in our list.\n",
    "        It extracts data, processes it, and returns a result.\n",
    "        \n",
    "        Args:\n",
    "            file_name: Path to the ROOT file to process\n",
    "            \n",
    "        Returns:\n",
    "            A tuple containing the histogram (counts and bin edges)\n",
    "        \"\"\"\n",
    "        try:\n",
    "            # Create a local pyprocess Processor to extract data from this file\n",
    "            # This uses the configuration parameters from our class\n",
    "            this_processor = Processor(\n",
    "                use_remote=self.use_remote,     # Use remote file via mdh\n",
    "                location=self.location,         # File location\n",
    "                verbosity=0 # self.verbosity        # Reduce output in worker threads\n",
    "            )\n",
    "            \n",
    "            # Extract the data \n",
    "            this_data = this_processor.process_data(\n",
    "                file_name = file_name, \n",
    "                branches = self.branches\n",
    "            )\n",
    "            \n",
    "            # ---- Analysis ----            \n",
    "            results = self.analyse.execute(this_data, file_name)\n",
    "\n",
    "            # Clean up\n",
    "            gc.collect()\n",
    "\n",
    "            return results \n",
    "        \n",
    "        except Exception as e:\n",
    "            # Handle any errors that occur during processing\n",
    "            print(f\"{self.print_prefix}Error processing {file_name}: {e}\")\n",
    "            return None\n",
    "\n",
    "    ## Need postprocessing and failure handling!    "
   ]
  },
  {
   "cell_type": "code",
   "execution_count": 3,
   "id": "1977a528-9828-4e2b-8b9b-97b2cb617081",
   "metadata": {},
   "outputs": [],
   "source": [
    "# test_processor = Processor(\n",
    "#     use_remote=True,     # Use remote file via mdh\n",
    "#     location=\"disk\",         # File location\n",
    "#     verbosity=2 # self.verbosity        # Reduce output in worker threads\n",
    "# )\n",
    "# test_list = test_processor.get_file_list(\n",
    "#     defname=\"nts.mu2e.CosmicCRYSignalAllOffSpillTriggered-LH.MDC2020as_best_v1_3_v06_03_00.root\"\n",
    "#     # file_list_path=\"/exp/mu2e/data/users/sgrant/mu2e_cosmic_ana/nts.mu2e.CosmicCRYSignalAllOffSpillTriggered-LH.MDC2020as_best_v1_3_v06_03_00.0_24.txt\"\n",
    "# )"
   ]
  },
  {
   "cell_type": "code",
   "execution_count": 4,
   "id": "557a696b-2a84-4e17-bd4b-08f8c592e8a8",
   "metadata": {},
   "outputs": [],
   "source": [
    "# print(test_list)"
   ]
  },
  {
   "cell_type": "code",
   "execution_count": 14,
   "id": "d230eb27-5418-450d-9784-9f1b152b97f1",
   "metadata": {},
   "outputs": [
    {
     "name": "stdout",
     "output_type": "stream",
     "text": [
      "[Skeleton] ⭐️ Skeleton init\n",
      "[CosmicProcessor] Initialised\n",
      "[Skeleton] ⭐️ Starting analysis\n",
      "[pyprocess] ⭐️ Initialised Processor:\n",
      "\tpath = 'EventNtuple/ntuple'\n",
      "\tuse_remote = True\n",
      "\tlocation = disk\n",
      "\tschema = root\n",
      "\tverbosity=2\n",
      "[pyprocess] 👀 Loading file list for SAM definition: nts.mu2e.CosmicCRYSignalAllOffSpillTriggered-LH.MDC2020as_best_v1_3_v06_03_00.root\n",
      "[pyprocess] ✅ Successfully loaded file list\n",
      "\tSAM definition: nts.mu2e.CosmicCRYSignalAllOffSpillTriggered-LH.MDC2020as_best_v1_3_v06_03_00.root\n",
      "\tCount: 817 files\n",
      "[pyprocess] ⭐️ Starting processing on 817 files with 50 processes\n"
     ]
    },
    {
     "name": "stderr",
     "output_type": "stream",
     "text": [
      "Processing: 100%|\u001b[32m██████████████████████████████\u001b[0m| 817/817 [05:42<00:00,  2.38file/s, successful=817, failed=0]\u001b[0m"
     ]
    },
    {
     "name": "stdout",
     "output_type": "stream",
     "text": [
      "[pyprocess] ⭐️ Returning 817 results\n",
      "[Skeleton] ✅ Analysis complete\n"
     ]
    },
    {
     "name": "stderr",
     "output_type": "stream",
     "text": [
      "\n"
     ]
    }
   ],
   "source": [
    "# ==========================================\n",
    "# Create and run the processor\n",
    "# ==========================================\n",
    "# Create an instance of our custom processor\n",
    "cosmic_processor = CosmicProcessor()\n",
    "\n",
    "# Run the processor on all files\n",
    "# The execute method comes from the Skeleton parent class\n",
    "# This starts a parent Processor and submits the process function to the threads\n",
    "\n",
    "# import tracemalloc\n",
    "# import os\n",
    "# import psutil\n",
    "\n",
    "# # Start memory tracking\n",
    "# tracemalloc.start()\n",
    "\n",
    "# # Take a baseline snapshot\n",
    "# print(\"Starting memory tracking\")\n",
    "# baseline = tracemalloc.take_snapshot()\n",
    "\n",
    "# # Print initial memory usage\n",
    "# process = psutil.Process(os.getpid())\n",
    "# memory_before = process.memory_info().rss / (1024 * 1024)\n",
    "# print(f\"Initial memory usage: {memory_before:.2f} MB\")\n",
    "\n",
    "# Execute your processor\n",
    "results = cosmic_processor.execute()\n",
    "\n",
    "# # Take final snapshot and measure memory increase\n",
    "# snapshot = tracemalloc.take_snapshot()\n",
    "# memory_after = process.memory_info().rss / (1024 * 1024)\n",
    "# memory_diff = memory_after - memory_before\n",
    "\n",
    "# # Compare snapshots and show top differences\n",
    "# print(f\"\\nTOP 10 MEMORY DIFFERENCES:\")\n",
    "# top_stats = snapshot.compare_to(baseline, 'lineno')\n",
    "# for stat in top_stats[:10]:\n",
    "#     print(stat)\n",
    "\n",
    "# # Print overall memory change\n",
    "# print(f\"\\nTotal memory change: {memory_diff:.2f} MB ({memory_before:.2f} MB → {memory_after:.2f} MB)\")"
   ]
  },
  {
   "cell_type": "code",
   "execution_count": 16,
   "id": "e2ea16aa-6746-4a5b-bcd6-779158a69851",
   "metadata": {},
   "outputs": [
    {
     "data": {
      "text/plain": [
       "{'file_id': 'nts.mu2e.CosmicCRYSignalAllOffSpillTriggered-LH.MDC2020as_best_v1_3_v06_03_00.001202_00000029.root',\n",
       " 'cut_stats': [{'name': 'No cuts',\n",
       "   'active': 'N/A',\n",
       "   'description': 'No selection applied',\n",
       "   'events_passing': 7035,\n",
       "   'absolute_frac': 100.0,\n",
       "   'relative_frac': 100.0},\n",
       "  {'name': 'is_truth_electron',\n",
       "   'active': True,\n",
       "   'description': 'Track parents are electrons (truth PID)',\n",
       "   'mask': <Array [[False, False, False, False], ..., [...]] type='7035 * var * ?bool'>,\n",
       "   'events_passing': 2816,\n",
       "   'absolute_frac': 40.02842928216063,\n",
       "   'relative_frac': 40.02842928216063},\n",
       "  {'name': 'is_reco_electron',\n",
       "   'active': True,\n",
       "   'description': 'Tracks are assumed to be electrons (trk)',\n",
       "   'mask': <Array [[False, False, False, False], ..., [...]] type='7035 * var * ?bool'>,\n",
       "   'events_passing': 2602,\n",
       "   'absolute_frac': 36.9864960909737,\n",
       "   'relative_frac': 92.40056818181817},\n",
       "  {'name': 'is_downstream',\n",
       "   'active': True,\n",
       "   'description': 'Downstream tracks only (p_z > 0 through tracker)',\n",
       "   'mask': <Array [[False, False, False, False], ..., [...]] type='7035 * var * ?bool'>,\n",
       "   'events_passing': 1828,\n",
       "   'absolute_frac': 25.984363894811658,\n",
       "   'relative_frac': 70.25365103766333},\n",
       "  {'name': 'has_hits',\n",
       "   'active': True,\n",
       "   'description': 'Minimum of 20 active hits in the tracker',\n",
       "   'mask': <Array [[False, False, False, False], ..., [...]] type='7035 * var * ?bool'>,\n",
       "   'events_passing': 1574,\n",
       "   'absolute_frac': 22.373845060412226,\n",
       "   'relative_frac': 86.10503282275711},\n",
       "  {'name': 'good_trkqual',\n",
       "   'active': True,\n",
       "   'description': 'Track quality (quality > 0.8)',\n",
       "   'mask': <Array [[False, False, False, False], ..., [...]] type='7035 * var * ?bool'>,\n",
       "   'events_passing': 643,\n",
       "   'absolute_frac': 9.14001421464108,\n",
       "   'relative_frac': 40.85133418043202},\n",
       "  {'name': 'within_lhr_max',\n",
       "   'active': True,\n",
       "   'description': 'Loop helix maximum radius (450 < R_max < 680 mm)',\n",
       "   'mask': <Array [[False, False, False, False], ..., [...]] type='7035 * var * ?bool'>,\n",
       "   'events_passing': 526,\n",
       "   'absolute_frac': 7.476901208244493,\n",
       "   'relative_frac': 81.80404354587868},\n",
       "  {'name': 'within_d0',\n",
       "   'active': True,\n",
       "   'description': 'Extrapolated position (d_0 < 100 mm)',\n",
       "   'mask': <Array [[False, False, False, False], ..., [...]] type='7035 * var * ?bool'>,\n",
       "   'events_passing': 80,\n",
       "   'absolute_frac': 1.1371712864250179,\n",
       "   'relative_frac': 15.209125475285171},\n",
       "  {'name': 'within_pitch_angle',\n",
       "   'active': True,\n",
       "   'description': 'Extrapolated pitch angle (0.5577350 < tan(theta_Dip) < 1.0)',\n",
       "   'mask': <Array [[False, False, False, False], ..., [...]] type='7035 * var * ?bool'>,\n",
       "   'events_passing': 45,\n",
       "   'absolute_frac': 0.6396588486140725,\n",
       "   'relative_frac': 56.25},\n",
       "  {'name': 'unvetoed',\n",
       "   'active': True,\n",
       "   'description': 'No veto: |dt| >= 150 ns',\n",
       "   'mask': <Array [[False, False, False, False], ..., [...]] type='7035 * var * ?bool'>,\n",
       "   'events_passing': 0,\n",
       "   'absolute_frac': 0.0,\n",
       "   'relative_frac': 0.0}],\n",
       " 'filtered_data': {'trk': <Array [] type='0 * {\"trk.pdg\": var * ?int32, \"trk.nactive\": var * ?int32, ...'>,\n",
       "  'trkfit': <Array [] type='0 * {trksegs: var * option[var * struct[{mom: struct[{fCoor...'>,\n",
       "  'trkmc': <Array [] type='0 * {trkmcsim: var * option[var * struct[{valid: bool, id: ...'>},\n",
       " 'histograms': {'Wide range': Hist(\n",
       "    Regular(1000, 0, 1000, name='momentum', label='Momentum [MeV/c]'),\n",
       "    StrCategory(['All tracks', 'Unvetoed CE-like tracks'], name='selection', label='Selection'),\n",
       "    storage=Double()) # Sum: 39394.0 (39420.0 with flow),\n",
       "  'Signal region': Hist(\n",
       "    Regular(13, 103.6, 104.9, name='momentum', label='Momentum [MeV/c]'),\n",
       "    StrCategory(['All tracks', 'Unvetoed CE-like tracks'], name='selection', label='Selection'),\n",
       "    storage=Double()) # Sum: 302.0}}"
      ]
     },
     "execution_count": 16,
     "metadata": {},
     "output_type": "execute_result"
    }
   ],
   "source": [
    "results[0]"
   ]
  },
  {
   "cell_type": "code",
   "execution_count": 17,
   "id": "65bcf047-2f8f-4b56-9df6-301a6336e639",
   "metadata": {},
   "outputs": [
    {
     "name": "stdout",
     "output_type": "stream",
     "text": [
      "[CutManager] ⭐️ Cut statistics\n",
      "--------------------------------------------------------------------------------------------------------------\n",
      "Cut                  Active     Events Passing       Absolute Frac. [%]   Relative Frac. [%]   Description                   \n",
      "--------------------------------------------------------------------------------------------------------------\n",
      "No cuts              N/A        5754129              100.00               100.00               No selection applied          \n",
      "is_truth_electron    1          2319356              40.31                40.31                Track parents are electrons (truth PID)\n",
      "is_reco_electron     1          2136407              37.13                92.11                Tracks are assumed to be electrons (trk)\n",
      "is_downstream        1          1524458              26.49                71.36                Downstream tracks only (p_z > 0 through tracker)\n",
      "has_hits             1          1293380              22.48                84.84                Minimum of 20 active hits in the tracker\n",
      "good_trkqual         1          534631               9.29                 41.34                Track quality (quality > 0.8) \n",
      "within_lhr_max       1          440397               7.65                 82.37                Loop helix maximum radius (450 < R_max < 680 mm)\n",
      "within_d0            1          68383                1.19                 15.53                Extrapolated position (d_0 < 100 mm)\n",
      "within_pitch_angle   1          31868                0.55                 46.60                Extrapolated pitch angle (0.5577350 < tan(theta_Dip) < 1.0)\n",
      "unvetoed             1          13                   0.00                 0.04                 No veto: |dt| >= 150 ns       \n",
      "--------------------------------------------------------------------------------------------------------------\n",
      "[CutManager] ⭐️ Summary: 13/5754129 events remaining (0.00%)\n",
      "[CutManager] ✅ Cut statistics written to ../../txt/cut_stats_ana_2.csv\n"
     ]
    }
   ],
   "source": [
    "# Helper to convert the cut stats into a list \n",
    "def get_stats_list(results):\n",
    "    # One line solution\n",
    "    #  return [result[\"cut_stats\"] for result in results if \"cut_stats\" in result]\n",
    "    # Readable solution \n",
    "    stats = [] \n",
    "    for result in results: \n",
    "        if \"cut_stats\" in result: \n",
    "            stats.append(result[\"cut_stats\"])\n",
    "    return stats\n",
    "\n",
    "stats = get_stats_list(results)\n",
    "\n",
    "cut_manager = CutManager()\n",
    "\n",
    "combined_stats = cut_manager.combine_cut_stats(stats)\n",
    "cut_manager.print_cut_stats(stats=combined_stats, active_only=False, csv_name=\"../../txt/cut_stats_ana_2.csv\")"
   ]
  },
  {
   "cell_type": "code",
   "execution_count": null,
   "id": "66bd077b-cb32-4f2c-8f2a-855bb6345e27",
   "metadata": {},
   "outputs": [],
   "source": [
    "print(results[0][\"histograms\"])\n",
    "# !cat ../txt/cut_stats_ana_2.csv"
   ]
  },
  {
   "cell_type": "code",
   "execution_count": 18,
   "id": "6da33662-af30-4409-9532-146380c36b5c",
   "metadata": {},
   "outputs": [
    {
     "data": {
      "image/png": "[encoded data removed]",
      "text/plain": [
       "<Figure size 1280x480 with 2 Axes>"
      ]
     },
     "metadata": {},
     "output_type": "display_data"
    }
   ],
   "source": [
    "# Should be in postprocessing \n",
    "\n",
    "def combine_histograms(results):\n",
    "    \"\"\"Combine histograms from multiple files\n",
    "    \n",
    "    Args:\n",
    "        file_results: Dictionary with file IDs as keys and results as values\n",
    "                     Each result contains a 'histograms' dict\n",
    "    \n",
    "    Returns:\n",
    "        dict: Combined histograms\n",
    "    \"\"\"\n",
    "    combined_hists = {}\n",
    "    \n",
    "    # Check if we have results\n",
    "    if not results:\n",
    "        return None\n",
    "    \n",
    "    # Loop through all files\n",
    "    for result in results: # \n",
    "        # Skip if no histograms in this file\n",
    "        if 'histograms' not in result or not result['histograms']:\n",
    "            continue\n",
    "        \n",
    "        # Process each histogram type\n",
    "        for hist_name, hist_obj in result['histograms'].items():\n",
    "            if hist_name not in combined_hists:\n",
    "                # First time seeing this histogram type, initialise\n",
    "                combined_hists[hist_name] = hist_obj.copy()\n",
    "            else:\n",
    "                # Add this histogram to the accumulated one\n",
    "                combined_hists[hist_name] += hist_obj\n",
    "\n",
    "    return combined_hists\n",
    "\n",
    "# Combine hists \n",
    "combined_histograms = combine_histograms(results)\n",
    "\n",
    "# Now you can plot them\n",
    "plt.style.use(\"../../../EventNtuple/utils/pyutils/mu2e.mplstyle\")\n",
    "fig, axes = plt.subplots(1, 2, figsize=(6.4*2, 4.8))\n",
    "\n",
    "# Plot wide range in first subplot\n",
    "if 'Wide range' in combined_histograms:\n",
    "    h_wide = combined_histograms['Wide range']\n",
    "    h_wide.plot1d(overlay='selection', ax=axes[0])\n",
    "    # h_wide.sum().value\n",
    "    axes[0].set_title(\"Wide range: 0-250 MeV/c\")\n",
    "    axes[0].set_yscale('log')\n",
    "    axes[0].grid(True, alpha=0.3)\n",
    "    axes[0].legend(frameon=False)\n",
    "\n",
    "# Plot signal region in second subplot\n",
    "if 'Signal region' in combined_histograms:\n",
    "    h_signal = combined_histograms['Signal region']\n",
    "    h_signal.plot1d(overlay='selection', ax=axes[1])\n",
    "    axes[1].set_title(\"Signal region: 103.6-104.9 MeV/c\")\n",
    "    axes[1].set_yscale('log')\n",
    "    axes[1].grid(True, alpha=0.3)\n",
    "    axes[1].set_ylabel(\"\")  # Remove duplicate y-label\n",
    "    axes[0].legend(frameon=False)\n",
    "\n",
    "\n",
    "plt.tight_layout()\n",
    "plt.savefig(\"../../img/h1_ana_2_mom.png\", dpi=300)\n",
    "plt.show()"
   ]
  },
  {
   "cell_type": "code",
   "execution_count": 19,
   "id": "2a1b8d06-cbef-4ceb-b4a9-7609cfb384fd",
   "metadata": {},
   "outputs": [
    {
     "data": {
      "text/plain": [
       "13.0"
      ]
     },
     "execution_count": 19,
     "metadata": {},
     "output_type": "execute_result"
    }
   ],
   "source": [
    "h_wide = combined_histograms['Wide range']\n",
    "h_wide = h_wide[{'selection': 'Unvetoed CE-like tracks'}]  # Use dictionary-based slicing\n",
    "n = h_wide.sum()\n",
    "n"
   ]
  },
  {
   "cell_type": "code",
   "execution_count": 22,
   "id": "cc99f8ef-410e-4fbf-ad91-5ac818ea2ece",
   "metadata": {},
   "outputs": [
    {
     "ename": "TypeError",
     "evalue": "string indices must be integers, not 'str'",
     "output_type": "error",
     "traceback": [
      "\u001b[0;31m---------------------------------------------------------------------------\u001b[0m",
      "\u001b[0;31mTypeError\u001b[0m                                 Traceback (most recent call last)",
      "Cell \u001b[0;32mIn[22], line 25\u001b[0m\n\u001b[1;32m      1\u001b[0m \u001b[38;5;66;03m# Postprocessing \u001b[39;00m\n\u001b[1;32m      2\u001b[0m \u001b[38;5;66;03m# def combine_arrays(results):\u001b[39;00m\n\u001b[1;32m      3\u001b[0m \u001b[38;5;66;03m#     \"\"\"Combine arrays from multiple files\u001b[39;00m\n\u001b[0;32m   (...)\u001b[0m\n\u001b[1;32m     22\u001b[0m     \n\u001b[1;32m     23\u001b[0m \u001b[38;5;66;03m#     return ak.concatenate(arrays_to_combine)\u001b[39;00m\n\u001b[0;32m---> 25\u001b[0m data \u001b[38;5;241m=\u001b[39m \u001b[43mcombine_arrays\u001b[49m\u001b[43m(\u001b[49m\u001b[43mresults\u001b[49m\u001b[43m[\u001b[49m\u001b[38;5;241;43m0\u001b[39;49m\u001b[43m]\u001b[49m\u001b[43m)\u001b[49m\n\u001b[1;32m     26\u001b[0m printer \u001b[38;5;241m=\u001b[39m Print()\n\u001b[1;32m     28\u001b[0m printer\u001b[38;5;241m.\u001b[39mprint_n_events(data, n_events\u001b[38;5;241m=\u001b[39m\u001b[38;5;28mlen\u001b[39m(data))\n",
      "Cell \u001b[0;32mIn[21], line 15\u001b[0m, in \u001b[0;36mcombine_arrays\u001b[0;34m(results)\u001b[0m\n\u001b[1;32m     12\u001b[0m \u001b[38;5;66;03m# Loop through all files\u001b[39;00m\n\u001b[1;32m     13\u001b[0m \u001b[38;5;28;01mfor\u001b[39;00m result \u001b[38;5;129;01min\u001b[39;00m results: \u001b[38;5;66;03m# \u001b[39;00m\n\u001b[0;32m---> 15\u001b[0m     array \u001b[38;5;241m=\u001b[39m \u001b[43mresult\u001b[49m\u001b[43m[\u001b[49m\u001b[38;5;124;43m\"\u001b[39;49m\u001b[38;5;124;43mfiltered_data\u001b[39;49m\u001b[38;5;124;43m\"\u001b[39;49m\u001b[43m]\u001b[49m\n\u001b[1;32m     17\u001b[0m     \u001b[38;5;28;01mif\u001b[39;00m \u001b[38;5;28mlen\u001b[39m(array) \u001b[38;5;241m==\u001b[39m \u001b[38;5;241m0\u001b[39m:\n\u001b[1;32m     18\u001b[0m         \u001b[38;5;28;01mcontinue\u001b[39;00m\n",
      "\u001b[0;31mTypeError\u001b[0m: string indices must be integers, not 'str'"
     ]
    }
   ],
   "source": [
    "# Postprocessing \n",
    "# def combine_arrays(results):\n",
    "#     \"\"\"Combine arrays from multiple files\n",
    "    \n",
    "#     \"\"\"\n",
    "#     arrays_to_combine = []\n",
    "    \n",
    "#     # Check if we have results\n",
    "#     if not results:\n",
    "#         return None\n",
    "    \n",
    "#     # Loop through all files\n",
    "#     for result in results: # \n",
    "\n",
    "#         array = result[\"filtered_data\"]\n",
    "\n",
    "#         if len(array) == 0:\n",
    "#             continue\n",
    "        \n",
    "#         # Concatenate arrays\n",
    "#         arrays_to_combine.append(array) \n",
    "    \n",
    "#     return ak.concatenate(arrays_to_combine)\n",
    "\n",
    "# data = combine_arrays(results[0])\n",
    "printer = Print()\n",
    "\n",
    "printer.print_n_events(data, n_events=len(data))"
   ]
  },
  {
   "cell_type": "code",
   "execution_count": 9,
   "id": "d0d78cf4-1fa1-4332-bda9-26f4656508c5",
   "metadata": {},
   "outputs": [
    {
     "ename": "NameError",
     "evalue": "name 'data' is not defined",
     "output_type": "error",
     "traceback": [
      "\u001b[0;31m---------------------------------------------------------------------------\u001b[0m",
      "\u001b[0;31mNameError\u001b[0m                                 Traceback (most recent call last)",
      "Cell \u001b[0;32mIn[9], line 3\u001b[0m\n\u001b[1;32m      1\u001b[0m \u001b[38;5;66;03m# data\u001b[39;00m\n\u001b[0;32m----> 3\u001b[0m events \u001b[38;5;241m=\u001b[39m ak\u001b[38;5;241m.\u001b[39mflatten(\u001b[43mdata\u001b[49m[\u001b[38;5;124m\"\u001b[39m\u001b[38;5;124mevt\u001b[39m\u001b[38;5;124m\"\u001b[39m][\u001b[38;5;124m\"\u001b[39m\u001b[38;5;124mevent\u001b[39m\u001b[38;5;124m\"\u001b[39m], axis\u001b[38;5;241m=\u001b[39m\u001b[38;5;28;01mNone\u001b[39;00m)\n\u001b[1;32m      5\u001b[0m subruns \u001b[38;5;241m=\u001b[39m ak\u001b[38;5;241m.\u001b[39mflatten(data[\u001b[38;5;124m\"\u001b[39m\u001b[38;5;124mevt\u001b[39m\u001b[38;5;124m\"\u001b[39m][\u001b[38;5;124m\"\u001b[39m\u001b[38;5;124msubrun\u001b[39m\u001b[38;5;124m\"\u001b[39m], axis\u001b[38;5;241m=\u001b[39m\u001b[38;5;28;01mNone\u001b[39;00m)\n\u001b[1;32m      7\u001b[0m \u001b[38;5;28mprint\u001b[39m(\u001b[38;5;124m\"\u001b[39m\u001b[38;5;124mevent, subrun\u001b[39m\u001b[38;5;124m\"\u001b[39m)\n",
      "\u001b[0;31mNameError\u001b[0m: name 'data' is not defined"
     ]
    }
   ],
   "source": [
    "# data\n",
    "\n",
    "events = ak.flatten(data[\"evt\"][\"event\"], axis=None)\n",
    "\n",
    "subruns = ak.flatten(data[\"evt\"][\"subrun\"], axis=None)\n",
    "\n",
    "print(\"event, subrun\")\n",
    "for i in range(len(events)):\n",
    "    print(f\"{events[i]}, {subruns[i]}\")"
   ]
  },
  {
   "cell_type": "code",
   "execution_count": 10,
   "id": "16f4e36e-90ce-4b32-96a9-ed91e7b420cb",
   "metadata": {},
   "outputs": [
    {
     "name": "stdout",
     "output_type": "stream",
     "text": [
      "{'Wide range': Hist(\n",
      "  Regular(1000, 0, 1000, name='momentum', label='Momentum [MeV/c]'),\n",
      "  StrCategory(['All tracks', 'Unvetoed CE-like tracks'], name='selection', label='Selection'),\n",
      "  storage=Double()) # Sum: 39322.0 (39333.0 with flow), 'Signal region': Hist(\n",
      "  Regular(13, 103.6, 104.9, name='momentum', label='Momentum [MeV/c]'),\n",
      "  StrCategory(['All tracks', 'Unvetoed CE-like tracks'], name='selection', label='Selection'),\n",
      "  storage=Double()) # Sum: 346.0}\n"
     ]
    }
   ],
   "source": [
    "print(combined_histograms)"
   ]
  },
  {
   "cell_type": "code",
   "execution_count": null,
   "id": "542d3f2a-6d90-480f-88ee-773d6ff5fa5b",
   "metadata": {},
   "outputs": [],
   "source": []
  },
  {
   "cell_type": "code",
   "execution_count": null,
   "id": "38b9eb54-50b5-4d29-a256-4624c3104f7c",
   "metadata": {},
   "outputs": [],
   "source": []
  },
  {
   "cell_type": "code",
   "execution_count": null,
   "id": "255cc3fb-d8ef-42b1-8f16-a95679911e5d",
   "metadata": {},
   "outputs": [],
   "source": []
  }
 ],
 "metadata": {
  "kernelspec": {
   "display_name": "mu2e_env [conda env:.conda-mu2e_env.v1.3.0]",
   "language": "python",
   "name": "conda-env-.conda-mu2e_env.v1.3.0-mu2e_env.v1.3.0"
  },
  "language_info": {
   "codemirror_mode": {
    "name": "ipython",
    "version": 3
   },
   "file_extension": ".py",
   "mimetype": "text/x-python",
   "name": "python",
   "nbconvert_exporter": "python",
   "pygments_lexer": "ipython3",
   "version": "3.12.7"
  }
 },
 "nbformat": 4,
 "nbformat_minor": 5
}

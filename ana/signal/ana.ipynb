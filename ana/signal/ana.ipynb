{
 "cells": [
  {
   "cell_type": "markdown",
   "id": "9c3f9129-03e7-454d-b579-409796461fe9",
   "metadata": {},
   "source": [
    "## CE-like tracks from signal dataset\n",
    "\n",
    "nts.mu2e.CeEndpointOnSpillTriggered.MDC2020aq_best_v1_3_v06_03_00.root "
   ]
  },
  {
   "cell_type": "markdown",
   "id": "ac514c9f-c3b2-443c-877c-cd28866caab6",
   "metadata": {},
   "source": [
    "## Imports\n",
    "\n",
    "Switched to using installed pyutils package"
   ]
  },
  {
   "cell_type": "code",
   "execution_count": 3,
   "id": "9ae7a091-d544-49bf-b43e-c12489025eb8",
   "metadata": {},
   "outputs": [],
   "source": [
    "import uproot\n",
    "import pandas as pd\n",
    "import awkward as ak\n",
    "import matplotlib.pyplot as plt\n",
    "plt.style.use(\"/exp/mu2e/data/users/sgrant/mu2e.mplstyle\")\n",
    "import numpy as np\n",
    "import hist\n",
    "import gc\n",
    "import sys\n",
    "from datetime import datetime\n",
    "\n",
    "# sys.path.append(\"../../../EventNtuple/utils/pyutils\")\n",
    "from pyutils.pyprocess import Processor, Skeleton\n",
    "from pyutils.pyplot import Plot\n",
    "from pyutils.pyprint import Print\n",
    "from pyutils.pyselect import Select\n",
    "from pyutils.pyvector import Vector\n",
    "\n",
    "sys.path.append(\"../common\")\n",
    "from cut_manager import CutManager\n",
    "from analyse import Analyse"
   ]
  },
  {
   "cell_type": "markdown",
   "id": "e4e7b55a-21be-4860-89c1-7502cc53e932",
   "metadata": {},
   "source": [
    "## Set file output tag"
   ]
  },
  {
   "cell_type": "code",
   "execution_count": 4,
   "id": "c366787b-8d32-4672-83dc-66bd1b2db2b9",
   "metadata": {},
   "outputs": [],
   "source": [
    "# Get today's date in MM-DD-YY format\n",
    "today = datetime.now().strftime(\"%m-%d-%y\")\n",
    "# tag = \"test_plot\" # today\n",
    "tag = today\n",
    "spill = \"signal\""
   ]
  },
  {
   "cell_type": "markdown",
   "id": "0f6a93d4-9902-4eb2-a952-48fc2994a929",
   "metadata": {},
   "source": [
    "# Create Processor \n",
    "\n",
    "We inherit from Skeleton - this gives us many pre-built methods without writing extra code"
   ]
  },
  {
   "cell_type": "code",
   "execution_count": 5,
   "id": "43b06c1d-d545-44c2-97a1-d499bc947273",
   "metadata": {},
   "outputs": [
    {
     "name": "stdout",
     "output_type": "stream",
     "text": [
      "[Skeleton] ⭐️ Skeleton init\n",
      "[CosmicProcessor] Initialised\n"
     ]
    }
   ],
   "source": [
    "# Create your custom processor class\n",
    "class CosmicProcessor(Skeleton):\n",
    "    \"\"\"Your custom file processor \n",
    "    \n",
    "    This class inherits from the Skeleton base class, which provides the \n",
    "    basic structure and methods withing the Processor framework \n",
    "    \"\"\"\n",
    "    def __init__(self):\n",
    "        \"\"\"Initialise your processor with specific configuration\n",
    "        \n",
    "        This method sets up all the parameters needed for this specific analysis.\n",
    "        \"\"\"\n",
    "        # Call the parent class's __init__ method first\n",
    "        # This ensures we have all the base functionality properly set up\n",
    "        super().__init__()\n",
    "\n",
    "        # Now override parameters from the Skeleton with the ones we need\n",
    "        # Data selection configuration \n",
    "        # self.defname = \"nts.mu2e.CosmicCRYSignalAllOffSpillTriggered-LH.MDC2020as_best_v1_3_v06_03_00.root\"\n",
    "        self.defname = \"nts.mu2e.CeEndpointOnSpillTriggered.MDC2020aq_best_v1_3_v06_03_00.root\"\n",
    "        # self.file_list_path = \"//exp/mu2e/data/users/sgrant/mu2e_cosmic_ana/nts.mu2e.CosmicCRYSignalAllOffSpillTriggered-LH.MDC2020as_best_v1_3_v06_03_00.0_24.txt\"\n",
    "        # self.file_list_path = \"/exp/mu2e/data/users/sgrant/mu2e_cosmic_ana/nts.mu2e.CosmicCRYSignalAllOffSpillTriggered-LH.MDC2020as_best_v1_3_v06_03_00.0_99.txt\"\n",
    "        # self.file_list_path = \"/exp/mu2e/data/users/sgrant/mu2e_cosmic_ana/nts.mu2e.CosmicCRYSignalAllOffSpillTriggered-LH.MDC2020as_best_v1_3_v06_03_00.0.txt\"\n",
    "        # self.file_list_path = \"/exp/mu2e/data/users/sgrant/pyutils-test/TestFileLists/local_file_list.txt\"\n",
    "        # self.file_list_path = \"/exp/mu2e/data/users/sgrant/pyutils-test/TestFileLists/local_0.txt\"\n",
    "        # self.file_list_path = \"/exp/mu2e/data/users/sgrant/mu2e_cosmic_ana/background_files.txt\"\n",
    "        # self.file_name = \"nts.mu2e.CosmicCRYSignalAllOffSpillTriggered-LH.MDC2020as_best_v1_3_v06_03_00.001202_00024906.root\"\n",
    "        # self.file_name = \"/exp/mu2e/data/users/sgrant/pyutils-test/TestFiles/nts.mu2e.CosmicCRYSignalAllOffSpillTriggered-LH.MDC2020as_best_v1_3_v06_03_00.001202_00000035.root\"\n",
    "    \n",
    "        self.branches = { \n",
    "            \"evt\" : [\n",
    "                \"run\",\n",
    "                \"subrun\",\n",
    "                \"event\",\n",
    "            ],\n",
    "            \"crv\" : [\n",
    "                \"crvcoincs.time\",\n",
    "                \"crvcoincs.nHits\",\n",
    "                \"crvcoincs.pos.fCoordinates.fZ\"\n",
    "            ],\n",
    "            \"trk\" : [\n",
    "                \"trk.nactive\", \n",
    "                \"trk.pdg\", \n",
    "                \"trkqual.valid\",\n",
    "                \"trkqual.result\"\n",
    "            ],\n",
    "            \"trkfit\" : [\n",
    "                \"trksegs\",\n",
    "                \"trksegpars_lh\"\n",
    "            ],\n",
    "            \"trkmc\" : [\n",
    "                \"trkmcsim\"\n",
    "            ]\n",
    "        }\n",
    "        self.use_remote = True     # Use remote file via mdh\n",
    "        self.location = \"tape\"     # File location\n",
    "        self.max_workers = 50      # Limit the number of workers\n",
    "        self.verbosity = 2         # Set verbosity \n",
    "        self.use_processes = True  # Use processes rather than threads\n",
    "        \n",
    "        # Now add your own analysis-specific parameters \n",
    "\n",
    "        # Init analysis methods\n",
    "        # Would be good to load an analysis config here \n",
    "        self.analyse = Analyse(\n",
    "            # event_subrun=(93561, 25833), # select one event\n",
    "            on_spill=False,\n",
    "            verbosity=0\n",
    "        )\n",
    "            \n",
    "        # Custom prefix for log messages from this processor\n",
    "        self.print_prefix = \"[CosmicProcessor] \"\n",
    "        print(f\"{self.print_prefix}Initialised\")\n",
    "    \n",
    "    # ==========================================\n",
    "    # Define the core processing logic\n",
    "    # ==========================================\n",
    "    # This method overrides the parent class's process_file method\n",
    "    # It will be called automatically for each file by the execute method\n",
    "    def process_file(self, file_name): \n",
    "        \"\"\"Process a single ROOT file\n",
    "        \n",
    "        This method will be called for each file in our list.\n",
    "        It extracts data, processes it, and returns a result.\n",
    "        \n",
    "        Args:\n",
    "            file_name: Path to the ROOT file to process\n",
    "            \n",
    "        Returns:\n",
    "            A tuple containing the histogram (counts and bin edges)\n",
    "        \"\"\"\n",
    "        try:\n",
    "            # Create a local pyprocess Processor to extract data from this file\n",
    "            # This uses the configuration parameters from our class\n",
    "            this_processor = Processor(\n",
    "                use_remote=self.use_remote,     # Use remote file via mdh\n",
    "                location=self.location,         # File location\n",
    "                verbosity=0 # self.verbosity        # Reduce output in worker threads\n",
    "            )\n",
    "            \n",
    "            # Extract the data \n",
    "            this_data = this_processor.process_data(\n",
    "                file_name = file_name, \n",
    "                branches = self.branches\n",
    "            )\n",
    "            \n",
    "            # ---- Analysis ----            \n",
    "            results = self.analyse.execute(this_data, file_name)\n",
    "\n",
    "            # Clean up\n",
    "            gc.collect()\n",
    "\n",
    "            return results \n",
    "        \n",
    "        except Exception as e:\n",
    "            # Handle any errors that occur during processing\n",
    "            print(f\"{self.print_prefix}Error processing {file_name}: {e}\")\n",
    "            return None\n",
    "\n",
    "    ## Need postprocessing and failure handling!   \n",
    "\n",
    "\n",
    "# Create an instance of our custom processor\n",
    "cosmic_processor = CosmicProcessor()"
   ]
  },
  {
   "cell_type": "code",
   "execution_count": 6,
   "id": "d230eb27-5418-450d-9784-9f1b152b97f1",
   "metadata": {},
   "outputs": [
    {
     "name": "stdout",
     "output_type": "stream",
     "text": [
      "[Skeleton] ⭐️ Starting analysis\n",
      "[pyutils] ⭐️ Setting up...\n",
      "[pyutils] ✅ Ready\n",
      "[pyprocess] ⭐️ Initialised Processor:\n",
      "\tpath = 'EventNtuple/ntuple'\n",
      "\tuse_remote = True\n",
      "\tlocation = tape\n",
      "\tschema = root\n",
      "\tverbosity=2\n",
      "[pyprocess] 👀 Loading file list for SAM definition: nts.mu2e.CeEndpointOnSpillTriggered.MDC2020aq_best_v1_3_v06_03_00.root\n",
      "[pyprocess] ✅ Successfully loaded file list\n",
      "\tSAM definition: nts.mu2e.CeEndpointOnSpillTriggered.MDC2020aq_best_v1_3_v06_03_00.root\n",
      "\tCount: 1000 files\n",
      "[pyprocess] ⭐️ Starting processing on 1000 files with 50 processes\n"
     ]
    },
    {
     "name": "stderr",
     "output_type": "stream",
     "text": [
      "Processing:  77%|\u001b[32m███████████████████████       \u001b[0m| 768/1000 [05:33<00:28,  8.20file/s, successful=768, failed=0]\u001b[0m"
     ]
    },
    {
     "name": "stdout",
     "output_type": "stream",
     "text": [
      "[pyread] ❌ Error while opening root://fndcadoor.fnal.gov:1094/mu2e/tape/phy-nts/nts/mu2e/CeEndpointOnSpillTriggered/MDC2020aq_best_v1_3_v06_03_00/root/c0/37/nts.mu2e.CeEndpointOnSpillTriggered.MDC2020aq_best_v1_3_v06_03_00.001210_00000595.root\n",
      "[pyread] ❌ Exception while opening root://fndcadoor.fnal.gov:1094/mu2e/tape/phy-nts/nts/mu2e/CeEndpointOnSpillTriggered/MDC2020aq_best_v1_3_v06_03_00/root/c0/37/nts.mu2e.CeEndpointOnSpillTriggered.MDC2020aq_best_v1_3_v06_03_00.001210_00000595.root: \tException: File did not open properly: [FATAL] TLS error: Unable to validate 131.225.69.80; hostname not in SAN extension.\n",
      "[pyread] ❌ Error while opening root://fndcadoor.fnal.gov:1094/mu2e/tape/phy-nts/nts/mu2e/CeEndpointOnSpillTriggered/MDC2020aq_best_v1_3_v06_03_00/root/98/d8/nts.mu2e.CeEndpointOnSpillTriggered.MDC2020aq_best_v1_3_v06_03_00.001210_00000617.root\n",
      "[pyread] ❌ Exception while opening root://fndcadoor.fnal.gov:1094/mu2e/tape/phy-nts/nts/mu2e/CeEndpointOnSpillTriggered/MDC2020aq_best_v1_3_v06_03_00/root/98/d8/nts.mu2e.CeEndpointOnSpillTriggered.MDC2020aq_best_v1_3_v06_03_00.001210_00000617.root: \tException: File did not open properly: [FATAL] TLS error: Unable to validate 131.225.69.80; hostname not in SAN extension.[pyread] ❌ Error while opening root://fndcadoor.fnal.gov:1094/mu2e/tape/phy-nts/nts/mu2e/CeEndpointOnSpillTriggered/MDC2020aq_best_v1_3_v06_03_00/root/47/fd/nts.mu2e.CeEndpointOnSpillTriggered.MDC2020aq_best_v1_3_v06_03_00.001210_00000630.root\n",
      "\n",
      "[pyread] ❌ Exception while opening root://fndcadoor.fnal.gov:1094/mu2e/tape/phy-nts/nts/mu2e/CeEndpointOnSpillTriggered/MDC2020aq_best_v1_3_v06_03_00/root/47/fd/nts.mu2e.CeEndpointOnSpillTriggered.MDC2020aq_best_v1_3_v06_03_00.001210_00000630.root: \tException: File did not open properly: [FATAL] TLS error: Unable to validate 131.225.69.80; hostname not in SAN extension.\n"
     ]
    },
    {
     "name": "stderr",
     "output_type": "stream",
     "text": [
      "Processing:  81%|\u001b[32m████████████████████████▏     \u001b[0m| 807/1000 [05:49<00:22,  8.39file/s, successful=807, failed=0]\u001b[0m"
     ]
    },
    {
     "name": "stdout",
     "output_type": "stream",
     "text": [
      "[pyread] ❌ Error while opening root://fndcadoor.fnal.gov:1094/mu2e/tape/phy-nts/nts/mu2e/CeEndpointOnSpillTriggered/MDC2020aq_best_v1_3_v06_03_00/root/f4/9c/nts.mu2e.CeEndpointOnSpillTriggered.MDC2020aq_best_v1_3_v06_03_00.001210_00000648.root\n",
      "[pyread] ❌ Exception while opening root://fndcadoor.fnal.gov:1094/mu2e/tape/phy-nts/nts/mu2e/CeEndpointOnSpillTriggered/MDC2020aq_best_v1_3_v06_03_00/root/f4/9c/nts.mu2e.CeEndpointOnSpillTriggered.MDC2020aq_best_v1_3_v06_03_00.001210_00000648.root: \tException: File did not open properly: [FATAL] TLS error: Unable to validate 131.225.69.80; hostname not in SAN extension.\n"
     ]
    },
    {
     "name": "stderr",
     "output_type": "stream",
     "text": [
      "Processing:  82%|\u001b[32m████████████████████████▋     \u001b[0m| 821/1000 [05:59<01:53,  1.58file/s, successful=821, failed=0]\u001b[0m"
     ]
    },
    {
     "name": "stdout",
     "output_type": "stream",
     "text": [
      "[pyread] ❌ Error while opening root://fndcadoor.fnal.gov:1094/mu2e/tape/phy-nts/nts/mu2e/CeEndpointOnSpillTriggered/MDC2020aq_best_v1_3_v06_03_00/root/28/7c/nts.mu2e.CeEndpointOnSpillTriggered.MDC2020aq_best_v1_3_v06_03_00.001210_00000663.root\n",
      "[pyread] ❌ Exception while opening root://fndcadoor.fnal.gov:1094/mu2e/tape/phy-nts/nts/mu2e/CeEndpointOnSpillTriggered/MDC2020aq_best_v1_3_v06_03_00/root/28/7c/nts.mu2e.CeEndpointOnSpillTriggered.MDC2020aq_best_v1_3_v06_03_00.001210_00000663.root: \tException: File did not open properly: [FATAL] TLS error: Unable to validate 131.225.69.80; hostname not in SAN extension.\n"
     ]
    },
    {
     "name": "stderr",
     "output_type": "stream",
     "text": [
      "Processing:  83%|\u001b[32m████████████████████████▉     \u001b[0m| 832/1000 [06:02<00:28,  5.81file/s, successful=832, failed=0]\u001b[0m"
     ]
    },
    {
     "name": "stdout",
     "output_type": "stream",
     "text": [
      "[pyread] ❌ Error while opening root://fndcadoor.fnal.gov:1094/mu2e/tape/phy-nts/nts/mu2e/CeEndpointOnSpillTriggered/MDC2020aq_best_v1_3_v06_03_00/root/85/0a/nts.mu2e.CeEndpointOnSpillTriggered.MDC2020aq_best_v1_3_v06_03_00.001210_00000687.root\n",
      "[pyread] ❌ Exception while opening root://fndcadoor.fnal.gov:1094/mu2e/tape/phy-nts/nts/mu2e/CeEndpointOnSpillTriggered/MDC2020aq_best_v1_3_v06_03_00/root/85/0a/nts.mu2e.CeEndpointOnSpillTriggered.MDC2020aq_best_v1_3_v06_03_00.001210_00000687.root: \tException: File did not open properly: [FATAL] TLS error: Unable to validate 131.225.69.80; hostname not in SAN extension.\n"
     ]
    },
    {
     "name": "stderr",
     "output_type": "stream",
     "text": [
      "Processing:  89%|\u001b[32m██████████████████████████▋   \u001b[0m| 890/1000 [06:19<00:21,  5.24file/s, successful=890, failed=0]\u001b[0m"
     ]
    },
    {
     "name": "stdout",
     "output_type": "stream",
     "text": [
      "[pyread] ❌ Error while opening root://fndcadoor.fnal.gov:1094/mu2e/tape/phy-nts/nts/mu2e/CeEndpointOnSpillTriggered/MDC2020aq_best_v1_3_v06_03_00/root/65/55/nts.mu2e.CeEndpointOnSpillTriggered.MDC2020aq_best_v1_3_v06_03_00.001210_00000714.root\n",
      "[pyread] ❌ Exception while opening root://fndcadoor.fnal.gov:1094/mu2e/tape/phy-nts/nts/mu2e/CeEndpointOnSpillTriggered/MDC2020aq_best_v1_3_v06_03_00/root/65/55/nts.mu2e.CeEndpointOnSpillTriggered.MDC2020aq_best_v1_3_v06_03_00.001210_00000714.root: \tException: File did not open properly: [FATAL] TLS error: Unable to validate 131.225.69.80; hostname not in SAN extension.\n"
     ]
    },
    {
     "name": "stderr",
     "output_type": "stream",
     "text": [
      "Processing:  91%|\u001b[32m███████████████████████████▎  \u001b[0m| 911/1000 [06:24<00:27,  3.28file/s, successful=911, failed=0]\u001b[0m"
     ]
    },
    {
     "name": "stdout",
     "output_type": "stream",
     "text": [
      "[pyread] ❌ Error while opening root://fndcadoor.fnal.gov:1094/mu2e/tape/phy-nts/nts/mu2e/CeEndpointOnSpillTriggered/MDC2020aq_best_v1_3_v06_03_00/root/65/28/nts.mu2e.CeEndpointOnSpillTriggered.MDC2020aq_best_v1_3_v06_03_00.001210_00000745.root\n",
      "[pyread] ❌ Exception while opening root://fndcadoor.fnal.gov:1094/mu2e/tape/phy-nts/nts/mu2e/CeEndpointOnSpillTriggered/MDC2020aq_best_v1_3_v06_03_00/root/65/28/nts.mu2e.CeEndpointOnSpillTriggered.MDC2020aq_best_v1_3_v06_03_00.001210_00000745.root: \tException: File did not open properly: [FATAL] TLS error: Unable to validate 131.225.69.80; hostname not in SAN extension.\n"
     ]
    },
    {
     "name": "stderr",
     "output_type": "stream",
     "text": [
      "Processing:  94%|\u001b[32m████████████████████████████  \u001b[0m| 936/1000 [06:34<00:14,  4.50file/s, successful=936, failed=0]\u001b[0m"
     ]
    },
    {
     "name": "stdout",
     "output_type": "stream",
     "text": [
      "[pyread] ❌ Error while opening root://fndcadoor.fnal.gov:1094/mu2e/tape/phy-nts/nts/mu2e/CeEndpointOnSpillTriggered/MDC2020aq_best_v1_3_v06_03_00/root/71/9b/nts.mu2e.CeEndpointOnSpillTriggered.MDC2020aq_best_v1_3_v06_03_00.001210_00000762.root\n",
      "[pyread] ❌ Exception while opening root://fndcadoor.fnal.gov:1094/mu2e/tape/phy-nts/nts/mu2e/CeEndpointOnSpillTriggered/MDC2020aq_best_v1_3_v06_03_00/root/71/9b/nts.mu2e.CeEndpointOnSpillTriggered.MDC2020aq_best_v1_3_v06_03_00.001210_00000762.root: \tException: File did not open properly: [FATAL] TLS error: Unable to validate 131.225.69.80; hostname not in SAN extension.\n"
     ]
    },
    {
     "name": "stderr",
     "output_type": "stream",
     "text": [
      "Processing:  94%|\u001b[32m████████████████████████████▎ \u001b[0m| 942/1000 [06:34<00:08,  6.97file/s, successful=942, failed=0]\u001b[0m"
     ]
    },
    {
     "name": "stdout",
     "output_type": "stream",
     "text": [
      "[pyread] ❌ Error while opening root://fndcadoor.fnal.gov:1094/mu2e/tape/phy-nts/nts/mu2e/CeEndpointOnSpillTriggered/MDC2020aq_best_v1_3_v06_03_00/root/46/7e/nts.mu2e.CeEndpointOnSpillTriggered.MDC2020aq_best_v1_3_v06_03_00.001210_00000772.root\n",
      "[pyread] ❌ Exception while opening root://fndcadoor.fnal.gov:1094/mu2e/tape/phy-nts/nts/mu2e/CeEndpointOnSpillTriggered/MDC2020aq_best_v1_3_v06_03_00/root/46/7e/nts.mu2e.CeEndpointOnSpillTriggered.MDC2020aq_best_v1_3_v06_03_00.001210_00000772.root: \tException: File did not open properly: [FATAL] TLS error: Unable to validate 131.225.69.80; hostname not in SAN extension.\n"
     ]
    },
    {
     "name": "stderr",
     "output_type": "stream",
     "text": [
      "Processing:  98%|\u001b[32m█████████████████████████████▍\u001b[0m| 983/1000 [06:46<00:01, 11.38file/s, successful=983, failed=0]\u001b[0m"
     ]
    },
    {
     "name": "stdout",
     "output_type": "stream",
     "text": [
      "[pyread] ❌ Error while opening root://fndcadoor.fnal.gov:1094/mu2e/tape/phy-nts/nts/mu2e/CeEndpointOnSpillTriggered/MDC2020aq_best_v1_3_v06_03_00/root/98/c9/nts.mu2e.CeEndpointOnSpillTriggered.MDC2020aq_best_v1_3_v06_03_00.001210_00000826.root\n",
      "[pyread] ❌ Exception while opening root://fndcadoor.fnal.gov:1094/mu2e/tape/phy-nts/nts/mu2e/CeEndpointOnSpillTriggered/MDC2020aq_best_v1_3_v06_03_00/root/98/c9/nts.mu2e.CeEndpointOnSpillTriggered.MDC2020aq_best_v1_3_v06_03_00.001210_00000826.root: \tException: File did not open properly: [FATAL] TLS error: Unable to validate 131.225.69.80; hostname not in SAN extension.\n",
      "[pyread] ❌ Error while opening root://fndcadoor.fnal.gov:1094/mu2e/tape/phy-nts/nts/mu2e/CeEndpointOnSpillTriggered/MDC2020aq_best_v1_3_v06_03_00/root/0c/7b/nts.mu2e.CeEndpointOnSpillTriggered.MDC2020aq_best_v1_3_v06_03_00.001210_00000817.root\n",
      "[pyread] ❌ Exception while opening root://fndcadoor.fnal.gov:1094/mu2e/tape/phy-nts/nts/mu2e/CeEndpointOnSpillTriggered/MDC2020aq_best_v1_3_v06_03_00/root/0c/7b/nts.mu2e.CeEndpointOnSpillTriggered.MDC2020aq_best_v1_3_v06_03_00.001210_00000817.root: \tException: File did not open properly: [FATAL] TLS error: Unable to validate 131.225.69.80; hostname not in SAN extension.\n"
     ]
    },
    {
     "name": "stderr",
     "output_type": "stream",
     "text": [
      "Processing:  98%|\u001b[32m█████████████████████████████▍\u001b[0m| 983/1000 [07:00<00:01, 11.38file/s, successful=983, failed=0]\u001b[0m"
     ]
    },
    {
     "name": "stdout",
     "output_type": "stream",
     "text": [
      "[pyread] ❌ Error while opening root://fndcadoor.fnal.gov:1094/mu2e/tape/phy-nts/nts/mu2e/CeEndpointOnSpillTriggered/MDC2020aq_best_v1_3_v06_03_00/root/2d/91/nts.mu2e.CeEndpointOnSpillTriggered.MDC2020aq_best_v1_3_v06_03_00.001210_00000913.root\n",
      "[pyread] ❌ Exception while opening root://fndcadoor.fnal.gov:1094/mu2e/tape/phy-nts/nts/mu2e/CeEndpointOnSpillTriggered/MDC2020aq_best_v1_3_v06_03_00/root/2d/91/nts.mu2e.CeEndpointOnSpillTriggered.MDC2020aq_best_v1_3_v06_03_00.001210_00000913.root: \tException: File did not open properly: [FATAL] TLS error: Unable to validate 131.225.69.80; hostname not in SAN extension.\n",
      "[pyread] ❌ Error while opening root://fndcadoor.fnal.gov:1094/mu2e/tape/phy-nts/nts/mu2e/CeEndpointOnSpillTriggered/MDC2020aq_best_v1_3_v06_03_00/root/f7/8a/nts.mu2e.CeEndpointOnSpillTriggered.MDC2020aq_best_v1_3_v06_03_00.001210_00000948.root\n",
      "[pyread] ❌ Exception while opening root://fndcadoor.fnal.gov:1094/mu2e/tape/phy-nts/nts/mu2e/CeEndpointOnSpillTriggered/MDC2020aq_best_v1_3_v06_03_00/root/f7/8a/nts.mu2e.CeEndpointOnSpillTriggered.MDC2020aq_best_v1_3_v06_03_00.001210_00000948.root: \tException: File did not open properly: [FATAL] TLS error: Unable to validate 131.225.69.80; hostname not in SAN extension.\n",
      "[pyread] ❌ Error while opening root://fndcadoor.fnal.gov:1094/mu2e/tape/phy-nts/nts/mu2e/CeEndpointOnSpillTriggered/MDC2020aq_best_v1_3_v06_03_00/root/d4/00/nts.mu2e.CeEndpointOnSpillTriggered.MDC2020aq_best_v1_3_v06_03_00.001210_00000944.root\n",
      "[pyread] ❌ Exception while opening root://fndcadoor.fnal.gov:1094/mu2e/tape/phy-nts/nts/mu2e/CeEndpointOnSpillTriggered/MDC2020aq_best_v1_3_v06_03_00/root/d4/00/nts.mu2e.CeEndpointOnSpillTriggered.MDC2020aq_best_v1_3_v06_03_00.001210_00000944.root: \tException: File did not open properly: [FATAL] TLS error: Unable to validate 131.225.69.80; hostname not in SAN extension.\n",
      "[pyread] ❌ Error while opening root://fndcadoor.fnal.gov:1094/mu2e/tape/phy-nts/nts/mu2e/CeEndpointOnSpillTriggered/MDC2020aq_best_v1_3_v06_03_00/root/4a/40/nts.mu2e.CeEndpointOnSpillTriggered.MDC2020aq_best_v1_3_v06_03_00.001210_00000969.root\n",
      "[pyread] ❌ Exception while opening root://fndcadoor.fnal.gov:1094/mu2e/tape/phy-nts/nts/mu2e/CeEndpointOnSpillTriggered/MDC2020aq_best_v1_3_v06_03_00/root/4a/40/nts.mu2e.CeEndpointOnSpillTriggered.MDC2020aq_best_v1_3_v06_03_00.001210_00000969.root: \tException: File did not open properly: [FATAL] TLS error: Unable to validate 131.225.69.80; hostname not in SAN extension.\n",
      "[pyread] ❌ Error while opening root://fndcadoor.fnal.gov:1094/mu2e/tape/phy-nts/nts/mu2e/CeEndpointOnSpillTriggered/MDC2020aq_best_v1_3_v06_03_00/root/09/c6/nts.mu2e.CeEndpointOnSpillTriggered.MDC2020aq_best_v1_3_v06_03_00.001210_00000986.root\n",
      "[pyread] ❌ Exception while opening root://fndcadoor.fnal.gov:1094/mu2e/tape/phy-nts/nts/mu2e/CeEndpointOnSpillTriggered/MDC2020aq_best_v1_3_v06_03_00/root/09/c6/nts.mu2e.CeEndpointOnSpillTriggered.MDC2020aq_best_v1_3_v06_03_00.001210_00000986.root: \tException: File did not open properly: [FATAL] TLS error: Unable to validate 131.225.69.80; hostname not in SAN extension.\n",
      "[pyread] ❌ Failed to open local copy\n",
      "[pyprocess] ❌ Error processing nts.mu2e.CeEndpointOnSpillTriggered.MDC2020aq_best_v1_3_v06_03_00.001210_00000595.root:\n",
      "Exception: Command 'mdh copy-file root://fndcadoor.fnal.gov:1094/mu2e/tape/phy-nts/nts/mu2e/CeEndpointOnSpillTriggered/MDC2020aq_best_v1_3_v06_03_00/root/c0/37/nts.mu2e.CeEndpointOnSpillTriggered.MDC2020aq_best_v1_3_v06_03_00.001210_00000595.root -s tape -l local' returned non-zero exit status 1.\n",
      "[Analyse] ❌ Error defining cuts: 'NoneType' object is not subscriptable\n",
      "[pyread] ❌ Failed to open local copy[Analyse] ❌ Error during analysis execution: object of type 'NoneType' has no len()\n",
      "\n",
      "[pyprocess] ❌ Error processing nts.mu2e.CeEndpointOnSpillTriggered.MDC2020aq_best_v1_3_v06_03_00.001210_00000630.root:\n",
      "Exception: Command 'mdh copy-file root://fndcadoor.fnal.gov:1094/mu2e/tape/phy-nts/nts/mu2e/CeEndpointOnSpillTriggered/MDC2020aq_best_v1_3_v06_03_00/root/47/fd/nts.mu2e.CeEndpointOnSpillTriggered.MDC2020aq_best_v1_3_v06_03_00.001210_00000630.root -s tape -l local' returned non-zero exit status 1.\n",
      "[Analyse] ❌ Error defining cuts: 'NoneType' object is not subscriptable\n",
      "[Analyse] ❌ Error during analysis execution: object of type 'NoneType' has no len()\n",
      "[pyread] ❌ Failed to open local copy\n",
      "[pyprocess] ❌ Error processing nts.mu2e.CeEndpointOnSpillTriggered.MDC2020aq_best_v1_3_v06_03_00.001210_00000617.root:\n",
      "Exception: Command 'mdh copy-file root://fndcadoor.fnal.gov:1094/mu2e/tape/phy-nts/nts/mu2e/CeEndpointOnSpillTriggered/MDC2020aq_best_v1_3_v06_03_00/root/98/d8/nts.mu2e.CeEndpointOnSpillTriggered.MDC2020aq_best_v1_3_v06_03_00.001210_00000617.root -s tape -l local' returned non-zero exit status 1.\n",
      "[Analyse] ❌ Error defining cuts: 'NoneType' object is not subscriptable\n",
      "[Analyse] ❌ Error during analysis execution: object of type 'NoneType' has no len()\n"
     ]
    },
    {
     "name": "stderr",
     "output_type": "stream",
     "text": [
      "Processing:  99%|\u001b[32m█████████████████████████████▌\u001b[0m| 986/1000 [22:28<29:10, 125.06s/file, successful=983, failed=3]\u001b[0m"
     ]
    },
    {
     "name": "stdout",
     "output_type": "stream",
     "text": [
      "[pyread] ❌ Failed to open local copy\n",
      "[pyprocess] ❌ Error processing nts.mu2e.CeEndpointOnSpillTriggered.MDC2020aq_best_v1_3_v06_03_00.001210_00000648.root:\n",
      "Exception: Command 'mdh copy-file root://fndcadoor.fnal.gov:1094/mu2e/tape/phy-nts/nts/mu2e/CeEndpointOnSpillTriggered/MDC2020aq_best_v1_3_v06_03_00/root/f4/9c/nts.mu2e.CeEndpointOnSpillTriggered.MDC2020aq_best_v1_3_v06_03_00.001210_00000648.root -s tape -l local' returned non-zero exit status 1.\n",
      "[Analyse] ❌ Error defining cuts: 'NoneType' object is not subscriptable\n",
      "[Analyse] ❌ Error during analysis execution: object of type 'NoneType' has no len()\n"
     ]
    },
    {
     "name": "stderr",
     "output_type": "stream",
     "text": [
      "Processing:  99%|\u001b[32m█████████████████████████████▌\u001b[0m| 987/1000 [22:43<17:40, 81.54s/file, successful=983, failed=4]\u001b[0m "
     ]
    },
    {
     "name": "stdout",
     "output_type": "stream",
     "text": [
      "[pyread] ❌ Failed to open local copy\n",
      "[pyprocess] ❌ Error processing nts.mu2e.CeEndpointOnSpillTriggered.MDC2020aq_best_v1_3_v06_03_00.001210_00000663.root:\n",
      "Exception: Command 'mdh copy-file root://fndcadoor.fnal.gov:1094/mu2e/tape/phy-nts/nts/mu2e/CeEndpointOnSpillTriggered/MDC2020aq_best_v1_3_v06_03_00/root/28/7c/nts.mu2e.CeEndpointOnSpillTriggered.MDC2020aq_best_v1_3_v06_03_00.001210_00000663.root -s tape -l local' returned non-zero exit status 1.\n",
      "[Analyse] ❌ Error defining cuts: 'NoneType' object is not subscriptable\n",
      "[Analyse] ❌ Error during analysis execution: object of type 'NoneType' has no len()\n"
     ]
    },
    {
     "name": "stderr",
     "output_type": "stream",
     "text": [
      "Processing:  99%|\u001b[32m█████████████████████████████▋\u001b[0m| 988/1000 [22:50<14:08, 70.68s/file, successful=983, failed=5]\u001b[0m"
     ]
    },
    {
     "name": "stdout",
     "output_type": "stream",
     "text": [
      "[pyread] ❌ Failed to open local copy\n",
      "[pyprocess] ❌ Error processing nts.mu2e.CeEndpointOnSpillTriggered.MDC2020aq_best_v1_3_v06_03_00.001210_00000687.root:\n",
      "Exception: Command 'mdh copy-file root://fndcadoor.fnal.gov:1094/mu2e/tape/phy-nts/nts/mu2e/CeEndpointOnSpillTriggered/MDC2020aq_best_v1_3_v06_03_00/root/85/0a/nts.mu2e.CeEndpointOnSpillTriggered.MDC2020aq_best_v1_3_v06_03_00.001210_00000687.root -s tape -l local' returned non-zero exit status 1.\n",
      "[Analyse] ❌ Error defining cuts: 'NoneType' object is not subscriptable\n",
      "[Analyse] ❌ Error during analysis execution: object of type 'NoneType' has no len()\n"
     ]
    },
    {
     "name": "stderr",
     "output_type": "stream",
     "text": [
      "Processing:  99%|\u001b[32m█████████████████████████████▋\u001b[0m| 989/1000 [23:10<12:57, 70.68s/file, successful=983, failed=6]\u001b[0m"
     ]
    },
    {
     "name": "stdout",
     "output_type": "stream",
     "text": [
      "[pyread] ❌ Failed to open local copy\n",
      "[pyprocess] ❌ Error processing nts.mu2e.CeEndpointOnSpillTriggered.MDC2020aq_best_v1_3_v06_03_00.001210_00000714.root:\n",
      "Exception: Command 'mdh copy-file root://fndcadoor.fnal.gov:1094/mu2e/tape/phy-nts/nts/mu2e/CeEndpointOnSpillTriggered/MDC2020aq_best_v1_3_v06_03_00/root/65/55/nts.mu2e.CeEndpointOnSpillTriggered.MDC2020aq_best_v1_3_v06_03_00.001210_00000714.root -s tape -l local' returned non-zero exit status 1.\n",
      "[Analyse] ❌ Error defining cuts: 'NoneType' object is not subscriptable\n",
      "[Analyse] ❌ Error during analysis execution: object of type 'NoneType' has no len()\n"
     ]
    },
    {
     "name": "stderr",
     "output_type": "stream",
     "text": [
      "Processing:  99%|\u001b[32m█████████████████████████████▋\u001b[0m| 990/1000 [23:11<08:47, 52.79s/file, successful=983, failed=7]\u001b[0m"
     ]
    },
    {
     "name": "stdout",
     "output_type": "stream",
     "text": [
      "[pyread] ❌ Failed to open local copy\n",
      "[pyprocess] ❌ Error processing nts.mu2e.CeEndpointOnSpillTriggered.MDC2020aq_best_v1_3_v06_03_00.001210_00000745.root:\n",
      "Exception: Command 'mdh copy-file root://fndcadoor.fnal.gov:1094/mu2e/tape/phy-nts/nts/mu2e/CeEndpointOnSpillTriggered/MDC2020aq_best_v1_3_v06_03_00/root/65/28/nts.mu2e.CeEndpointOnSpillTriggered.MDC2020aq_best_v1_3_v06_03_00.001210_00000745.root -s tape -l local' returned non-zero exit status 1.\n",
      "[Analyse] ❌ Error defining cuts: 'NoneType' object is not subscriptable\n",
      "[Analyse] ❌ Error during analysis execution: object of type 'NoneType' has no len()\n"
     ]
    },
    {
     "name": "stderr",
     "output_type": "stream",
     "text": [
      "Processing:  99%|\u001b[32m█████████████████████████████▋\u001b[0m| 991/1000 [23:14<06:37, 44.19s/file, successful=983, failed=8]\u001b[0m"
     ]
    },
    {
     "name": "stdout",
     "output_type": "stream",
     "text": [
      "[pyread] ❌ Failed to open local copy\n",
      "[pyprocess] ❌ Error processing nts.mu2e.CeEndpointOnSpillTriggered.MDC2020aq_best_v1_3_v06_03_00.001210_00000762.root:\n",
      "Exception: Command 'mdh copy-file root://fndcadoor.fnal.gov:1094/mu2e/tape/phy-nts/nts/mu2e/CeEndpointOnSpillTriggered/MDC2020aq_best_v1_3_v06_03_00/root/71/9b/nts.mu2e.CeEndpointOnSpillTriggered.MDC2020aq_best_v1_3_v06_03_00.001210_00000762.root -s tape -l local' returned non-zero exit status 1.\n",
      "[Analyse] ❌ Error defining cuts: 'NoneType' object is not subscriptable\n",
      "[Analyse] ❌ Error during analysis execution: object of type 'NoneType' has no len()\n",
      "[pyread] ❌ Failed to open local copy\n",
      "[pyprocess] ❌ Error processing nts.mu2e.CeEndpointOnSpillTriggered.MDC2020aq_best_v1_3_v06_03_00.001210_00000772.root:\n",
      "Exception: Command 'mdh copy-file root://fndcadoor.fnal.gov:1094/mu2e/tape/phy-nts/nts/mu2e/CeEndpointOnSpillTriggered/MDC2020aq_best_v1_3_v06_03_00/root/46/7e/nts.mu2e.CeEndpointOnSpillTriggered.MDC2020aq_best_v1_3_v06_03_00.001210_00000772.root -s tape -l local' returned non-zero exit status 1.\n",
      "[Analyse] ❌ Error defining cuts: 'NoneType' object is not subscriptable\n",
      "[Analyse] ❌ Error during analysis execution: object of type 'NoneType' has no len()\n"
     ]
    },
    {
     "name": "stderr",
     "output_type": "stream",
     "text": [
      "Processing:  99%|\u001b[32m█████████████████████████████▊\u001b[0m| 993/1000 [23:24<04:20, 37.25s/file, successful=983, failed=10]\u001b[0m"
     ]
    },
    {
     "name": "stdout",
     "output_type": "stream",
     "text": [
      "[pyread] ❌ Failed to open local copy\n",
      "[pyprocess] ❌ Error processing nts.mu2e.CeEndpointOnSpillTriggered.MDC2020aq_best_v1_3_v06_03_00.001210_00000826.root:\n",
      "Exception: Command 'mdh copy-file root://fndcadoor.fnal.gov:1094/mu2e/tape/phy-nts/nts/mu2e/CeEndpointOnSpillTriggered/MDC2020aq_best_v1_3_v06_03_00/root/98/c9/nts.mu2e.CeEndpointOnSpillTriggered.MDC2020aq_best_v1_3_v06_03_00.001210_00000826.root -s tape -l local' returned non-zero exit status 1.\n",
      "[Analyse] ❌ Error defining cuts: 'NoneType' object is not subscriptable\n",
      "[Analyse] ❌ Error during analysis execution: object of type 'NoneType' has no len()\n",
      "[pyread] ❌ Failed to open local copy\n",
      "[pyprocess] ❌ Error processing nts.mu2e.CeEndpointOnSpillTriggered.MDC2020aq_best_v1_3_v06_03_00.001210_00000817.root:\n",
      "Exception: Command 'mdh copy-file root://fndcadoor.fnal.gov:1094/mu2e/tape/phy-nts/nts/mu2e/CeEndpointOnSpillTriggered/MDC2020aq_best_v1_3_v06_03_00/root/0c/7b/nts.mu2e.CeEndpointOnSpillTriggered.MDC2020aq_best_v1_3_v06_03_00.001210_00000817.root -s tape -l local' returned non-zero exit status 1.\n",
      "[Analyse] ❌ Error defining cuts: 'NoneType' object is not subscriptable\n",
      "[Analyse] ❌ Error during analysis execution: object of type 'NoneType' has no len()\n"
     ]
    },
    {
     "name": "stderr",
     "output_type": "stream",
     "text": [
      "Processing: 100%|\u001b[32m█████████████████████████████▊\u001b[0m| 995/1000 [23:34<01:41, 20.24s/file, successful=983, failed=12]\u001b[0m"
     ]
    },
    {
     "name": "stdout",
     "output_type": "stream",
     "text": [
      "[pyread] ❌ Failed to open local copy\n",
      "[pyprocess] ❌ Error processing nts.mu2e.CeEndpointOnSpillTriggered.MDC2020aq_best_v1_3_v06_03_00.001210_00000913.root:\n",
      "Exception: Command 'mdh copy-file root://fndcadoor.fnal.gov:1094/mu2e/tape/phy-nts/nts/mu2e/CeEndpointOnSpillTriggered/MDC2020aq_best_v1_3_v06_03_00/root/2d/91/nts.mu2e.CeEndpointOnSpillTriggered.MDC2020aq_best_v1_3_v06_03_00.001210_00000913.root -s tape -l local' returned non-zero exit status 1.\n",
      "[Analyse] ❌ Error defining cuts: 'NoneType' object is not subscriptable\n",
      "[Analyse] ❌ Error during analysis execution: object of type 'NoneType' has no len()\n"
     ]
    },
    {
     "name": "stderr",
     "output_type": "stream",
     "text": [
      "Processing: 100%|\u001b[32m█████████████████████████████▉\u001b[0m| 996/1000 [24:04<01:30, 22.54s/file, successful=983, failed=13]\u001b[0m"
     ]
    },
    {
     "name": "stdout",
     "output_type": "stream",
     "text": [
      "[pyread] ❌ Failed to open local copy\n",
      "[pyprocess] ❌ Error processing nts.mu2e.CeEndpointOnSpillTriggered.MDC2020aq_best_v1_3_v06_03_00.001210_00000948.root:\n",
      "Exception: Command 'mdh copy-file root://fndcadoor.fnal.gov:1094/mu2e/tape/phy-nts/nts/mu2e/CeEndpointOnSpillTriggered/MDC2020aq_best_v1_3_v06_03_00/root/f7/8a/nts.mu2e.CeEndpointOnSpillTriggered.MDC2020aq_best_v1_3_v06_03_00.001210_00000948.root -s tape -l local' returned non-zero exit status 1.\n",
      "[Analyse] ❌ Error defining cuts: 'NoneType' object is not subscriptable\n",
      "[Analyse] ❌ Error during analysis execution: object of type 'NoneType' has no len()\n"
     ]
    },
    {
     "name": "stderr",
     "output_type": "stream",
     "text": [
      "Processing: 100%|\u001b[32m█████████████████████████████▉\u001b[0m| 997/1000 [24:15<00:59, 19.78s/file, successful=983, failed=14]\u001b[0m"
     ]
    },
    {
     "name": "stdout",
     "output_type": "stream",
     "text": [
      "[pyread] ❌ Failed to open local copy\n",
      "[pyprocess] ❌ Error processing nts.mu2e.CeEndpointOnSpillTriggered.MDC2020aq_best_v1_3_v06_03_00.001210_00000944.root:\n",
      "Exception: Command 'mdh copy-file root://fndcadoor.fnal.gov:1094/mu2e/tape/phy-nts/nts/mu2e/CeEndpointOnSpillTriggered/MDC2020aq_best_v1_3_v06_03_00/root/d4/00/nts.mu2e.CeEndpointOnSpillTriggered.MDC2020aq_best_v1_3_v06_03_00.001210_00000944.root -s tape -l local' returned non-zero exit status 1.\n",
      "[Analyse] ❌ Error defining cuts: 'NoneType' object is not subscriptable\n",
      "[Analyse] ❌ Error during analysis execution: object of type 'NoneType' has no len()\n"
     ]
    },
    {
     "name": "stderr",
     "output_type": "stream",
     "text": [
      "Processing: 100%|\u001b[32m█████████████████████████████▉\u001b[0m| 998/1000 [24:15<00:29, 14.71s/file, successful=983, failed=15]\u001b[0m"
     ]
    },
    {
     "name": "stdout",
     "output_type": "stream",
     "text": [
      "[pyread] ❌ Failed to open local copy\n",
      "[pyprocess] ❌ Error processing nts.mu2e.CeEndpointOnSpillTriggered.MDC2020aq_best_v1_3_v06_03_00.001210_00000969.root:\n",
      "Exception: Command 'mdh copy-file root://fndcadoor.fnal.gov:1094/mu2e/tape/phy-nts/nts/mu2e/CeEndpointOnSpillTriggered/MDC2020aq_best_v1_3_v06_03_00/root/4a/40/nts.mu2e.CeEndpointOnSpillTriggered.MDC2020aq_best_v1_3_v06_03_00.001210_00000969.root -s tape -l local' returned non-zero exit status 1.\n",
      "[Analyse] ❌ Error defining cuts: 'NoneType' object is not subscriptable\n",
      "[Analyse] ❌ Error during analysis execution: object of type 'NoneType' has no len()\n"
     ]
    },
    {
     "name": "stderr",
     "output_type": "stream",
     "text": [
      "Processing: 100%|\u001b[32m█████████████████████████████▉\u001b[0m| 999/1000 [24:26<00:13, 13.61s/file, successful=983, failed=16]\u001b[0m"
     ]
    },
    {
     "name": "stdout",
     "output_type": "stream",
     "text": [
      "[pyread] ❌ Failed to open local copy\n",
      "[pyprocess] ❌ Error processing nts.mu2e.CeEndpointOnSpillTriggered.MDC2020aq_best_v1_3_v06_03_00.001210_00000986.root:\n",
      "Exception: Command 'mdh copy-file root://fndcadoor.fnal.gov:1094/mu2e/tape/phy-nts/nts/mu2e/CeEndpointOnSpillTriggered/MDC2020aq_best_v1_3_v06_03_00/root/09/c6/nts.mu2e.CeEndpointOnSpillTriggered.MDC2020aq_best_v1_3_v06_03_00.001210_00000986.root -s tape -l local' returned non-zero exit status 1.\n",
      "[Analyse] ❌ Error defining cuts: 'NoneType' object is not subscriptable\n",
      "[Analyse] ❌ Error during analysis execution: object of type 'NoneType' has no len()\n"
     ]
    },
    {
     "name": "stderr",
     "output_type": "stream",
     "text": [
      "Processing: 100%|\u001b[32m██████████████████████████████\u001b[0m| 1000/1000 [24:32<00:00,  1.47s/file, successful=983, failed=17]\u001b[0m"
     ]
    },
    {
     "name": "stdout",
     "output_type": "stream",
     "text": [
      "[pyprocess] ⭐️ Returning 983 results\n",
      "[Skeleton] ✅ Analysis complete\n"
     ]
    },
    {
     "name": "stderr",
     "output_type": "stream",
     "text": [
      "\n"
     ]
    }
   ],
   "source": [
    "# ==========================================\n",
    "# Run the processor\n",
    "# ==========================================\n",
    "\n",
    "# Run the processor on all files\n",
    "# The execute method comes from the Skeleton parent class\n",
    "# This starts a parent Processor and submits the process function to the threads\n",
    "\n",
    "# Execute your processor\n",
    "results = cosmic_processor.execute()"
   ]
  },
  {
   "cell_type": "markdown",
   "id": "c639a190-6026-4e80-b256-18417566def6",
   "metadata": {},
   "source": [
    "## Check results"
   ]
  },
  {
   "cell_type": "code",
   "execution_count": null,
   "id": "74ee021b-818f-4fc3-95c4-3437c61fbbed",
   "metadata": {},
   "outputs": [],
   "source": [
    "# This handles single files \n",
    "if not isinstance(results, list):\n",
    "    results = [results]"
   ]
  },
  {
   "cell_type": "markdown",
   "id": "458680ff-6fbd-4322-8f4e-b21a98d12864",
   "metadata": {},
   "source": [
    "## Print cut statistics"
   ]
  },
  {
   "cell_type": "code",
   "execution_count": null,
   "id": "65bcf047-2f8f-4b56-9df6-301a6336e639",
   "metadata": {},
   "outputs": [],
   "source": [
    "# Helper to convert the cut stats into a list \n",
    "def get_stats_list(results):\n",
    "    stats = [] \n",
    "    if isinstance(results, list): \n",
    "        for result in results: \n",
    "            if \"cut_stats\" in result: \n",
    "                stats.append(result[\"cut_stats\"])\n",
    "    else: \n",
    "        stats.append(results[\"cut_stats\"])\n",
    "    return stats\n",
    "\n",
    "stats = get_stats_list(results)\n",
    "\n",
    "cut_manager = CutManager()\n",
    "combined_stats = cut_manager.combine_cut_stats(stats)\n",
    "cut_manager.print_cut_stats(stats=combined_stats, active_only=True, csv_name=f\"../../txt/cut_stats_{spill}_{tag}.csv\")"
   ]
  },
  {
   "cell_type": "code",
   "execution_count": null,
   "id": "e07ac2d6-2cdd-4df0-9dcf-d41748e1dd01",
   "metadata": {},
   "outputs": [],
   "source": [
    "# results[0].keys()"
   ]
  },
  {
   "cell_type": "markdown",
   "id": "8c06e0ae-aadd-4e74-83bc-38a8704011d0",
   "metadata": {},
   "source": [
    "## Print concise background event information "
   ]
  },
  {
   "cell_type": "code",
   "execution_count": null,
   "id": "b426de46-e8b8-4d19-bcf6-20043b7f6cb6",
   "metadata": {},
   "outputs": [],
   "source": [
    "output = []\n",
    "\n",
    "for i, result in enumerate(results): \n",
    "    \n",
    "    data = ak.Array(result[\"filtered_data\"])\n",
    "    \n",
    "    if len(data) == 0:\n",
    "        continue\n",
    "\n",
    "    selector = Select()\n",
    "    trk_front = selector.select_surface(data[\"trkfit\"], sid=0)\n",
    "    track_time = data[\"trkfit\"][\"trksegs\"][\"time\"][trk_front]\n",
    "    coinc_time = data[\"crv\"][\"crvcoincs.time\"]\n",
    "    \n",
    "    # Extract values\n",
    "    track_time_str = \"\" \n",
    "    coinc_time_str = \"\"\n",
    "    \n",
    "    # Extract floats from track_time (nested structure: [[[values]], [[values]]])\n",
    "    track_floats = []\n",
    "    for nested in track_time:\n",
    "        for sublist in nested:\n",
    "            for val in sublist:\n",
    "                track_floats.append(float(val))\n",
    "    \n",
    "    # Extract floats from coinc_time (structure: [[], []])\n",
    "    coinc_floats = []\n",
    "    for sublist in coinc_time:\n",
    "        for val in sublist:\n",
    "            coinc_floats.append(float(val))\n",
    "    \n",
    "    # Format as strings with precision\n",
    "    if track_floats:\n",
    "        track_time_str = \", \".join([f\"{val:.6f}\" for val in track_floats])\n",
    "    \n",
    "    if coinc_floats:\n",
    "        coinc_time_str = \", \".join([f\"{val:.6f}\" for val in coinc_floats])\n",
    "\n",
    "    # Calculate dt\n",
    "    dt_str = \"\"\n",
    "    if track_floats and coinc_floats:\n",
    "        # Calculate dt between first track time and first coinc time\n",
    "        dt_value = abs(track_floats[0] - coinc_floats[0])\n",
    "        dt_str = f\"{dt_value:.6f}\"\n",
    "    \n",
    "    output.append(f\"  Index:            {i}\")\n",
    "    output.append(f\"  Subrun:           {data[\"evt\"][\"subrun\"]}\")\n",
    "    output.append(f\"  Event:            {data[\"evt\"][\"event\"]}\")\n",
    "    output.append(f\"  File:             {result[\"file_id\"]}\")\n",
    "    output.append(f\"  Track time [ns]:  {track_time_str}\") # data[\"trkfit\"][\"trksegs\"][\"time\"]}\")\n",
    "    output.append(f\"  Coinc time [ns]:  {coinc_time_str if len(coinc_time_str)>0 else None}\") # data[\"crv\"][\"crvcoincs.time\"]}\")\n",
    "    output.append(f\"  dt [ns]:          {dt_str if len(dt_str)>0 else \"N/A\"}\")\n",
    "    output.append(\"-\" * 40)\n",
    "\n",
    "output = \"\\n\".join(output)\n",
    "\n",
    "# Print \n",
    "print(output)\n",
    "\n",
    "# Write to file\n",
    "fout_name = f\"../../txt/{spill}/background_events_{tag}.txt\"\n",
    "with open(fout_name, \"w\") as f:\n",
    "    f.write(output)\n",
    "\n",
    "print(f\"\\tWrote {fout_name}\")"
   ]
  },
  {
   "cell_type": "markdown",
   "id": "96c8a5d2-f1ac-4ed0-92cd-61d6283bef9b",
   "metadata": {},
   "source": [
    "## Draw histograms \n",
    "\n",
    "Momentum and z-position"
   ]
  },
  {
   "cell_type": "code",
   "execution_count": null,
   "id": "6da33662-af30-4409-9532-146380c36b5c",
   "metadata": {},
   "outputs": [],
   "source": [
    "# Should be in postprocessing \n",
    "\n",
    "def combine_histograms(results):\n",
    "    \"\"\"Combine histograms from multiple files\n",
    "    \n",
    "    Args:\n",
    "        file_results: Dictionary with file IDs as keys and results as values\n",
    "                     Each result contains a 'histograms' dict\n",
    "    \n",
    "    Returns:\n",
    "        dict: Combined histograms\n",
    "    \"\"\"\n",
    "    combined_hists = {}\n",
    "    \n",
    "    # Check if we have results\n",
    "    if not results:\n",
    "        return None\n",
    "    \n",
    "    # Loop through all files\n",
    "    for result in results: # \n",
    "        # Skip if no histograms in this file\n",
    "        if 'histograms' not in result or not result['histograms']:\n",
    "            continue\n",
    "        \n",
    "        # Process each histogram type\n",
    "        for hist_name, hist_obj in result['histograms'].items():\n",
    "            if hist_name not in combined_hists:\n",
    "                # First time seeing this histogram type, initialise\n",
    "                combined_hists[hist_name] = hist_obj.copy()\n",
    "            else:\n",
    "                # Add this histogram to the accumulated one\n",
    "                combined_hists[hist_name] += hist_obj\n",
    "\n",
    "    return combined_hists\n",
    "\n",
    "# Combine hists \n",
    "combined_histograms = combine_histograms(results)"
   ]
  },
  {
   "cell_type": "code",
   "execution_count": null,
   "id": "a81f093c-de14-4e1b-8ee9-56fe4ef58307",
   "metadata": {},
   "outputs": [],
   "source": [
    "combined_histograms"
   ]
  },
  {
   "cell_type": "markdown",
   "id": "7907e20d-8225-40ac-8b54-7fc13a1b753c",
   "metadata": {},
   "source": [
    "### Momentum plots"
   ]
  },
  {
   "cell_type": "code",
   "execution_count": null,
   "id": "c7af5f85-ae7c-4b92-b7c5-f3f94c3636ac",
   "metadata": {},
   "outputs": [],
   "source": [
    "def mom_plots(fout=f\"../../img/{spill}/h1_ana_mom_{spill}_{tag}.png\"):\n",
    "\n",
    "    # Now you can plot them\n",
    "    fig, ax = plt.subplots(1, 2, figsize=(6.4*2, 4.8))\n",
    "    \n",
    "    # Plot wide range in first subplot\n",
    "    h_wide = combined_histograms['Wide range']\n",
    "    # Can also include \"CE-like tracks\"\n",
    "    # h_wide = h_wide[{\"selection\": [\"All\", \"CE-like\", \"Unvetoed CE-like\"]}] # slice(-2, None)}]  # Last 2 selections\n",
    "    h_wide.plot1d(overlay='selection', ax=ax[0])\n",
    "    # h_wide.sum().value\n",
    "    ax[0].set_title(\"Wide range\")\n",
    "    ax[0].set_yscale('log')\n",
    "    ax[0].grid(True, alpha=0.3)\n",
    "    # ax[0].legend(frameon=False, loc=\"best\")\n",
    "\n",
    "# Plot signal region in second subplot\n",
    "    h_signal = combined_histograms['Signal region']\n",
    "    \n",
    "    # h_signal = h_signal[{\"selection\": [\"All\", \"CE-like\", \"Unvetoed CE-like\"]}] \n",
    "    h_signal.plot1d(overlay='selection', ax=ax[1])\n",
    "    ax[1].set_title(\"Signal region: 103.6-104.9 MeV/c\")\n",
    "    ax[1].set_yscale('log')\n",
    "    ax[1].grid(True, alpha=0.3)\n",
    "    ax[1].set_ylabel(\"\")  # Remove duplicate y-label\n",
    "    ax[1].legend(frameon=False, loc=\"best\")\n",
    "\n",
    "    plt.tight_layout()\n",
    "    plt.savefig(fout, dpi=300)\n",
    "    plt.show()\n",
    "\n",
    "mom_plots()"
   ]
  },
  {
   "cell_type": "markdown",
   "id": "d57ebe52-1f0b-4dd7-bc01-4d7bfdfa3a10",
   "metadata": {},
   "source": [
    "### z-position plots"
   ]
  },
  {
   "cell_type": "code",
   "execution_count": null,
   "id": "be1458b5-f6bd-4eda-b388-05429fa9e000",
   "metadata": {},
   "outputs": [],
   "source": [
    "# def z_plots(fout=f\"../../img/{spill}/h1_ana_crv_z_{spill}_{tag}.png\"):\n",
    "#     fig, ax = plt.subplots() \n",
    "#     h_wide = combined_histograms['CRV z-position']\n",
    "#     # Can also include \"CE-like tracks\"\n",
    "#     h_wide = h_wide[{\"selection\": [\"All\", \"CE-like\"]}] # slice(-2, None)}]  # Last 2 selections\n",
    "#     h_wide.plot1d(overlay='selection', ax=ax)\n",
    "#     # h_wide.sum().value\n",
    "#     ax.set_ylabel(\"Coincidences\")\n",
    "#     ax.set_xlabel(\"z-position [mm]\")\n",
    "#     ax.set_yscale(\"log\")\n",
    "#     ax.grid(True, alpha=0.3)\n",
    "#     ax.legend(frameon=False, loc=\"best\")\n",
    "#     plt.tight_layout()\n",
    "#     plt.savefig(fout, dpi=300)\n",
    "#     plt.show()\n",
    "\n",
    "def z_plots(fout=f\"../../img/{spill}/h1_ana_crv_z_{spill}_{tag}.png\"):\n",
    "    fig, (ax_main, ax_ratio) = plt.subplots(\n",
    "        2, 1, figsize=(6.4*1.25, 4.8*1.25), \n",
    "        gridspec_kw={'height_ratios': [2, 1], 'hspace': 0},\n",
    "        sharex=True  # This ensures alignment\n",
    "    )\n",
    "    \n",
    "    h_wide = combined_histograms['CRV z-position']\n",
    "    h_wide = h_wide[{\"selection\": [\"All\", \"CE-like\"]}]\n",
    "    \n",
    "    # Main plot\n",
    "    h_wide.plot1d(overlay='selection', ax=ax_main, density=True)\n",
    "    ax_main.set_ylabel(\"Norm. coincidences\")\n",
    "    # ax_main.set_yscale(\"log\")\n",
    "    ax_main.grid(True, alpha=0.3)\n",
    "    ax_main.legend(frameon=False, loc=\"best\")\n",
    "    ax_main.set_xlabel(\"\")  # Remove x-label from main plot\n",
    "    ax_main.set_xticklabels([])\n",
    "    ax_main.set_title(\"Off-spill\")\n",
    "\n",
    "    ax_main.ticklabel_format(style='scientific', axis='y', scilimits=(0,0), useMathText=True)\n",
    "    \n",
    "    # Ratio plot\n",
    "    h_all = h_wide[{\"selection\": \"All\"}] \n",
    "    h_ce = h_wide[{\"selection\": \"CE-like\"}]\n",
    "\n",
    "    h_all = h_all / h_all.sum()\n",
    "    h_ce = h_ce / h_ce.sum()\n",
    "    \n",
    "    # Calculate ratio (CE-like / All)\n",
    "    ratio = h_ce.values() / h_all.values()\n",
    "    bin_centers = h_ce.axes[0].centers\n",
    "    \n",
    "    ax_ratio.plot(bin_centers, ratio, 'ko-', markersize=3)\n",
    "    # ax_ratio.axhline(y=1, color='red', linestyle='--', alpha=0.7)\n",
    "    \n",
    "    ax_ratio.set_ylabel(\"Ratio\", va='center',ha='center')\n",
    "    ax_ratio.set_xlabel(\"z-position [mm]\")\n",
    "    ax_ratio.grid(True, alpha=0.3)\n",
    "    # ax_ratio.set_ylim(0, 2) \n",
    "\n",
    "    # Align y-axis labels horizontally\n",
    "    # ax_main.yaxis.set_label_coords(-0.1, 0.5)\n",
    "    ax_ratio.yaxis.set_label_coords(-0.1, 0.5)\n",
    "\n",
    "    plt.tight_layout()\n",
    "    plt.savefig(fout, dpi=300)\n",
    "    plt.show()\n",
    "\n",
    "    print(f\"Wrote {fout}\")\n",
    "\n",
    "    # Separate CE-like only plot\n",
    "    fig_ce, ax_ce = plt.subplots() # figsize=(6.4*1.25, 4.8*1.25))\n",
    "    \n",
    "    h_ce_only = combined_histograms['CRV z-position'][{\"selection\": \"CE-like\"}]\n",
    "    h_ce_only.plot1d(ax=ax_ce, density=False, color='blue')  # Or whatever color you prefer\n",
    "    \n",
    "    ax_ce.set_ylabel(\"Coincidences\")\n",
    "    ax_ce.set_xlabel(\"z-position [mm]\")\n",
    "    ax_ce.set_title(\"CE-like tracks (off-spill)\")\n",
    "    ax_ce.grid(True, alpha=0.3)\n",
    "    ax_ce.ticklabel_format(style='scientific', axis='y', scilimits=(0,0), useMathText=True)\n",
    "    \n",
    "    plt.tight_layout()\n",
    "    \n",
    "    # Save CE-like plot with modified filename\n",
    "    fout_ce = fout.replace(\".png\", \"_ce_only.png\")\n",
    "    plt.savefig(fout_ce, dpi=300)\n",
    "    plt.show()\n",
    "\n",
    "    print(f\"Wrote {fout_ce}\")\n",
    "\n",
    "z_plots()"
   ]
  },
  {
   "cell_type": "code",
   "execution_count": null,
   "id": "c31a502c-93c4-47b3-abcb-3da94f142e5b",
   "metadata": {},
   "outputs": [],
   "source": [
    "# def z_plots(fout=f\"../../img/{spill}/h1_ana_crv_z_{spill}_{tag}.png\"):\n",
    "#     fig, (ax_main, ax_ratio) = plt.subplots(\n",
    "#         2, 1, figsize=(6.4*1.25, 4.8*1.25), \n",
    "#         gridspec_kw={'height_ratios': [2, 1], 'hspace': 0},\n",
    "#         sharex=True  # This ensures alignment\n",
    "#     )\n",
    "    \n",
    "#     h_wide = combined_histograms['CRV z-position']\n",
    "#     h_wide = h_wide[{\"selection\": [\"All\", \"CE-like\"]}]\n",
    "    \n",
    "#     # Main plot\n",
    "#     h_wide.plot1d(overlay='selection', ax=ax_main, density=True)\n",
    "#     ax_main.set_ylabel(\"Norm. coincidences\")\n",
    "#     ax_main.grid(True, alpha=0.3)\n",
    "#     ax_main.legend(frameon=False, loc=\"best\")\n",
    "#     ax_main.tick_params(labelbottom=False)  # Hide x-tick labels instead\n",
    "#     ax_main.ticklabel_format(style='scientific', axis='y', scilimits=(0,0), useMathText=True)\n",
    "    \n",
    "#     # Ratio plot\n",
    "#     h_all = h_wide[{\"selection\": \"All\"}] \n",
    "#     h_ce = h_wide[{\"selection\": \"CE-like\"}]\n",
    "#     h_all = h_all / h_all.sum()\n",
    "#     h_ce = h_ce / h_ce.sum()\n",
    "    \n",
    "#     ratio = h_ce.values() / h_all.values()\n",
    "#     bin_centers = h_ce.axes[0].centers\n",
    "    \n",
    "#     ax_ratio.plot(bin_centers, ratio, 'ko-', markersize=3)\n",
    "#     ax_ratio.set_ylabel(\"Ratio\", va='center', ha='center')\n",
    "#     ax_ratio.set_xlabel(\"z-position [mm]\")\n",
    "#     ax_ratio.grid(True, alpha=0.3)\n",
    "#     ax_ratio.yaxis.set_label_coords(-0.1, 0.5)\n",
    "    \n",
    "#     plt.tight_layout()\n",
    "#     plt.savefig(fout, dpi=300)\n",
    "#     plt.show()\n",
    "\n",
    "# z_plots()"
   ]
  },
  {
   "cell_type": "markdown",
   "id": "b955cfda-d5fb-402b-bed2-a75eec9d1678",
   "metadata": {},
   "source": [
    "## Calculate counts and efficiency"
   ]
  },
  {
   "cell_type": "code",
   "execution_count": null,
   "id": "822e4759-4d6d-427d-93ac-105deafd4276",
   "metadata": {},
   "outputs": [],
   "source": [
    "# Calculate counts and efficiency\n",
    "\n",
    "def count_events(label):\n",
    "    h = combined_histograms[\"Wide range\"]\n",
    "    h = h[{'selection': label}]  \n",
    "    return int(h.sum())\n",
    "\n",
    "all_count = count_events(\"All\")\n",
    "ce_like_count = count_events(\"CE-like\") \n",
    "unvetoed_count = count_events(\"Unvetoed CE-like\")\n",
    "\n",
    "efficiency = 100 * (1 - unvetoed_count / ce_like_count) if ce_like_count > 0 else np.nan\n",
    "efficiency_error = 100 * np.sqrt(unvetoed_count) / ce_like_count if ce_like_count > 0 else np.nan\n",
    "\n",
    "# Create formatted output\n",
    "print(\"-\" * 31)\n",
    "print(f\"{'Type':<20} {'Count':>10}\")\n",
    "print(\"-\" * 31)\n",
    "print(f\"{'All':<20} {all_count:>10}\")\n",
    "print(f\"{'CE-like':<20} {ce_like_count:>10}\")\n",
    "print(f\"{'Unvetoed CE-like':<20} {unvetoed_count:>10}\")\n",
    "print(\"-\" * 31)\n",
    "print(f\"Efficiency: {efficiency:.2f}±{efficiency_error:.2f}%\")\n",
    "print(\"-\" * 31)\n",
    "\n",
    "# Create pandas DataFrame and save to CSV\n",
    "data = {\n",
    "    'Type': ['All', 'CE-like', 'Unvetoed CE-like'],\n",
    "    'Count': [all_count, ce_like_count, unvetoed_count]\n",
    "}\n",
    "\n",
    "# Add efficiency row\n",
    "efficiency_data = {\n",
    "    'Type': ['Efficiency [%]'],\n",
    "    'Count': [f\"{efficiency:.2f}±{efficiency_error:.2f}\"]\n",
    "}\n",
    "\n",
    "df = pd.DataFrame(data)\n",
    "df_efficiency = pd.DataFrame(efficiency_data)\n",
    "df_combined = pd.concat([df, df_efficiency], ignore_index=True)\n",
    "\n",
    "# Save to CSV \n",
    "fout = f\"../../txt/{spill}/efficiency_{tag}.csv\"\n",
    "df_combined.to_csv(fout, index=False)\n",
    "\n",
    "print(f\"Wrote {fout}\")"
   ]
  },
  {
   "cell_type": "code",
   "execution_count": null,
   "id": "38cc1c95-8796-4ab9-a8bd-3f46cd71d321",
   "metadata": {},
   "outputs": [],
   "source": [
    "def count_events(label):\n",
    "    h = combined_histograms[\"Signal region\"] \n",
    "    h = h[{'selection': label}]  \n",
    "    return int(h.sum())\n",
    "\n",
    "all_count = count_events(\"All\")\n",
    "ce_like_count = count_events(\"CE-like\") \n",
    "unvetoed_count = count_events(\"Unvetoed CE-like\")\n",
    "\n",
    "efficiency = 100 * (1 - unvetoed_count / ce_like_count)\n",
    "efficiency_error = 100 * np.sqrt(unvetoed_count) / ce_like_count\n",
    "\n",
    "# Create formatted output\n",
    "print(\"-\" * 31)\n",
    "print(f\"{'Type':<20} {'Count':>10}\")\n",
    "print(\"-\" * 31)\n",
    "print(f\"{'All':<20} {all_count:>10}\")\n",
    "print(f\"{'CE-like':<20} {ce_like_count:>10}\")\n",
    "print(f\"{'Unvetoed CE-like':<20} {unvetoed_count:>10}\")\n",
    "print(\"-\" * 31)\n",
    "print(f\"Efficiency: {efficiency:.2f}±{efficiency_error:.2f}%\")\n",
    "print(\"-\" * 31)\n",
    "\n",
    "# Create pandas DataFrame and save to CSV\n",
    "data = {\n",
    "    'Type': ['All', 'CE-like', 'Unvetoed CE-like'],\n",
    "    'Count': [all_count, ce_like_count, unvetoed_count]\n",
    "}\n",
    "\n",
    "# Add efficiency row\n",
    "efficiency_data = {\n",
    "    'Type': ['Efficiency [%]'],\n",
    "    'Count': [f\"{efficiency:.2f}±{efficiency_error:.2f}\"]\n",
    "}\n",
    "\n",
    "df = pd.DataFrame(data)\n",
    "df_efficiency = pd.DataFrame(efficiency_data)\n",
    "df_combined = pd.concat([df, df_efficiency], ignore_index=True)\n",
    "\n",
    "# Save to CSV \n",
    "fout = f\"../../txt/{spill}/efficiency_signal_{tag}.csv\"\n",
    "df_combined.to_csv(fout, index=False)\n",
    "\n",
    "print(f\"Wrote {fout}\")"
   ]
  },
  {
   "cell_type": "markdown",
   "id": "27116b54-f834-4dcc-8594-bb7fe9e56f2f",
   "metadata": {},
   "source": [
    "## Combine unvetoed data array\n",
    "\n",
    "For detailed analysis"
   ]
  },
  {
   "cell_type": "code",
   "execution_count": null,
   "id": "cc99f8ef-410e-4fbf-ad91-5ac818ea2ece",
   "metadata": {},
   "outputs": [],
   "source": [
    "def combine_arrays(results):\n",
    "    \"\"\"Combine filtered arrays from multiple files\n",
    "    \"\"\"\n",
    "    arrays_to_combine = []\n",
    "    # Check if we have results\n",
    "    if not results:\n",
    "        return None\n",
    "    # Loop through all files\n",
    "    for result in results: #\n",
    "        array = ak.Array(result[\"filtered_data\"])\n",
    "        if len(array) == 0:\n",
    "            continue\n",
    "        # Concatenate arrays\n",
    "        arrays_to_combine.append(array)\n",
    "    return ak.concatenate(arrays_to_combine)\n",
    "    \n",
    "data = combine_arrays(results)"
   ]
  },
  {
   "cell_type": "markdown",
   "id": "eef230a1-8932-4961-81ff-eba91d74b424",
   "metadata": {},
   "source": [
    "## Write out verbose background event info"
   ]
  },
  {
   "cell_type": "code",
   "execution_count": null,
   "id": "580fe4e1-5997-40c8-a820-780b08c89dc3",
   "metadata": {},
   "outputs": [],
   "source": [
    "# new = list(data[\"evt\"][\"event\"])\n",
    "# old = [157431, 283585, 465577, 216096, 359830, 439475, 377360, 38729, 161916, 217055]\n",
    "# list(set(old) - set(new))"
   ]
  },
  {
   "cell_type": "code",
   "execution_count": null,
   "id": "d60c8766-a546-4f8a-9ac8-d02487cb28b0",
   "metadata": {},
   "outputs": [],
   "source": [
    "printer = Print(verbose=True)\n",
    "\n",
    "fout = f\"../../txt/{spill}/background_events_verbose_{tag}.txt\"\n",
    "import sys \n",
    "# Redirect stdout to file\n",
    "with open(fout, \"w\") as f:\n",
    "    old_stdout = sys.stdout\n",
    "    sys.stdout = f\n",
    "    printer.print_n_events(data, n_events=len(data))\n",
    "    # Restore stdout\n",
    "    sys.stdout = old_stdout\n",
    "    print(f\"Wrote {fout}\")"
   ]
  },
  {
   "cell_type": "markdown",
   "id": "69a568f4-0258-4836-8d11-61c1859d7c13",
   "metadata": {},
   "source": [
    "## Find parent cosmic particle ID\n",
    "\n",
    "These are `trkmcsim` entries of rank -1, with the highest momentum. "
   ]
  },
  {
   "cell_type": "code",
   "execution_count": null,
   "id": "9e2b10db-34c1-4e1b-a4f5-dbdaacbd7148",
   "metadata": {},
   "outputs": [],
   "source": [
    "data = combine_arrays(results)\n",
    "vector = Vector()\n",
    "\n",
    "def is_cosmic_parent(data): \n",
    "    # Rank condition\n",
    "    rank_condition = data[\"trkmc\"][\"trkmcsim\"][\"rank\"] == -1\n",
    "    # Then by momentum \n",
    "    mom_mag = vector.get_mag(data[\"trkmc\"][\"trkmcsim\"], \"mom\")\n",
    "    data[\"mom_mag\"] = mom_mag\n",
    "    mom_condition = mom_mag == ak.max(mom_mag, axis=-1)\n",
    "    # Combine\n",
    "    mask = rank_condition & mom_condition\n",
    "    return mask\n",
    "    \n",
    "cosmic_parent_mask = is_cosmic_parent(data)\n",
    "data[\"cosmic_parent\"] = cosmic_parent_mask\n",
    "\n",
    "# # # # print(cosmic_parent_mask)\n",
    "data[\"trkmc\"] = data[\"trkmc\"][cosmic_parent_mask]\n",
    "data[\"mom_mag\"] = data[\"mom_mag\"][cosmic_parent_mask]\n",
    "\n",
    "# printer.print_n_events(data, n_events=len(data))\n",
    "\n",
    "# For some reason we have duplicates in here, so just take the first one \n",
    "cosmic_parent_pdg = ak.flatten(data[\"trkmc\"][\"trkmcsim\"][\"pdg\"][:,:,0])\n",
    "print(\"cosmic_parent_pdg\", cosmic_parent_pdg) \n"
   ]
  },
  {
   "cell_type": "code",
   "execution_count": null,
   "id": "e5ffdc57-0506-4996-8b35-1a3f4119f8d6",
   "metadata": {},
   "outputs": [],
   "source": [
    "pdg_to_label = {\n",
    "    11: \"e-\", -11: \"e+\",\n",
    "    13: \"mu-\", -13: \"mu+\", \n",
    "    2112: \"neutron\", -2112: \"antineutron\",\n",
    "    2212: \"proton\", -2212: \"antiproton\",\n",
    "    22: \"gamma\", 111: \"pi0\",\n",
    "    211: \"pi+\", -211: \"pi-\"\n",
    "}\n",
    "\n",
    "def BarChart(data, label_dict, title=None, xlabel=None, ylabel=None, fout=\"bar_chart.png\", percentage=False, bar_alpha=1.0, bar_color='black', NDPI=300):\n",
    "    \"\"\" Pulled from Mu2eCool repo \n",
    "    Needs update, but it works fine\"\"\"\n",
    "    \n",
    "    # Matches the key of the dict with row in the data array and returns the element as the label\n",
    "    labels = [label_dict.get(p, 'other') for p in data]\n",
    "\n",
    "    # Count occurrences of each label\n",
    "    unique_labels, label_counts = np.unique(labels, return_counts=True)\n",
    "\n",
    "    # Only works for particles \n",
    "\n",
    "    # Sort labels and counts in descending order\n",
    "    sorted_indices = np.argsort(label_counts)[::-1]\n",
    "    unique_labels = unique_labels[sorted_indices]\n",
    "    label_counts = label_counts[sorted_indices]\n",
    "\n",
    "    if percentage: \n",
    "        label_counts = (label_counts / np.sum(label_counts))*100\n",
    "\n",
    "    plt.style.use(\"../../../EventNtuple/utils/pyutils/mu2e.mplstyle\")\n",
    "    \n",
    "    # Create figure and axes\n",
    "    fig, ax = plt.subplots()\n",
    "\n",
    "    # Plot the bar chart\n",
    "    indices = np.arange(len(unique_labels))\n",
    "\n",
    "    # TODO: handle this better\n",
    "    n_bars = len(indices)\n",
    "    bar_width = 3.0 / n_bars\n",
    "    if(n_bars == 3.0): \n",
    "        bar_width = 2.0 / n_bars\n",
    "    elif(n_bars == 2.0):\n",
    "        bar_width = 1.0 / n_bars\n",
    "\n",
    "    ax.bar(indices, label_counts, align='center', alpha=bar_alpha, color=bar_color, width=bar_width, fill=False, hatch='/', linewidth=1, edgecolor='black')\n",
    "\n",
    "    # Set x-axis labels\n",
    "    ax.set_xticks(indices)\n",
    "    ax.set_xticklabels(unique_labels, rotation=0) # 45)\n",
    "\n",
    "    # Set labels for the chart\n",
    "    ax.set_title(title, fontsize=16, pad=10)\n",
    "    ax.set_xlabel(xlabel, fontsize=14, labelpad=10) \n",
    "    ax.set_ylabel(ylabel, fontsize=14, labelpad=10) \n",
    "\n",
    "    # Set font size of tick labels on x and y axes\n",
    "    ax.tick_params(axis='x', labelsize=14)  # Set x-axis tick label font size\n",
    "    ax.tick_params(axis='y', labelsize=14)  # Set y-axis tick label font size\n",
    "\n",
    "    if ax.get_ylim()[1] > 999:\n",
    "        ax.yaxis.set_major_formatter(ScalarFormatter(useMathText=True))\n",
    "        ax.ticklabel_format(style='sci', axis='y', scilimits=(0,0))\n",
    "        ax.yaxis.offsetText.set_fontsize(14)\n",
    "\n",
    "    # Save the figure\n",
    "    plt.savefig(fout, dpi=NDPI, bbox_inches=\"tight\")\n",
    "    print(\"\\tWrote\", fout)\n",
    "\n",
    "\n",
    "BarChart(\n",
    "    cosmic_parent_pdg,\n",
    "    pdg_to_label,\n",
    "    title=\"Cosmic parents\",\n",
    "    ylabel=\"Unvetoed CE-like tracks\",\n",
    "    fout=f\"../../img/{spill}/bar_cosmic_parents_{tag}.png\"\n",
    "    \n",
    ")"
   ]
  },
  {
   "cell_type": "code",
   "execution_count": null,
   "id": "57984e05-293f-42c4-9259-14370ce88ab8",
   "metadata": {},
   "outputs": [],
   "source": [
    "cosmic_parent_pdg"
   ]
  },
  {
   "cell_type": "code",
   "execution_count": null,
   "id": "9a194785-2bec-4249-8e7f-e3b1158987a3",
   "metadata": {},
   "outputs": [],
   "source": []
  },
  {
   "cell_type": "code",
   "execution_count": null,
   "id": "f6982e82-4131-4672-8fe2-3064e7f42f5d",
   "metadata": {},
   "outputs": [],
   "source": []
  },
  {
   "cell_type": "code",
   "execution_count": null,
   "id": "f875868a-0a32-47a5-968e-914a25b6daf7",
   "metadata": {},
   "outputs": [],
   "source": []
  }
 ],
 "metadata": {
  "kernelspec": {
   "display_name": "mu2e_env [conda env:.conda-ana_v2.0.0]",
   "language": "python",
   "name": "conda-env-.conda-ana_v2.0.0-ana_v2.0.0"
  },
  "language_info": {
   "codemirror_mode": {
    "name": "ipython",
    "version": 3
   },
   "file_extension": ".py",
   "mimetype": "text/x-python",
   "name": "python",
   "nbconvert_exporter": "python",
   "pygments_lexer": "ipython3",
   "version": "3.12.7"
  }
 },
 "nbformat": 4,
 "nbformat_minor": 5
}

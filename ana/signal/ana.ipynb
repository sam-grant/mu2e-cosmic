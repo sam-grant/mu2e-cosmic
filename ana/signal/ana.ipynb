{
 "cells": [
  {
   "cell_type": "markdown",
   "id": "9c3f9129-03e7-454d-b579-409796461fe9",
   "metadata": {},
   "source": [
    "## CE-like tracks from signal dataset\n",
    "\n",
    "Dataset:\n",
    "nts.mu2e.CeEndpointOnSpillTriggered.MDC2020aq_best_v1_3_v06_03_00.root \n",
    "\n",
    "First file:\n",
    "nts.mu2e.CeEndpointOnSpillTriggered.MDC2020aq_best_v1_3_v06_03_00.001210_00000699.root"
   ]
  },
  {
   "cell_type": "markdown",
   "id": "ac514c9f-c3b2-443c-877c-cd28866caab6",
   "metadata": {},
   "source": [
    "## Imports\n",
    "\n",
    "Switched to using installed pyutils package"
   ]
  },
  {
   "cell_type": "code",
   "execution_count": 2,
   "id": "9ae7a091-d544-49bf-b43e-c12489025eb8",
   "metadata": {},
   "outputs": [],
   "source": [
    "import uproot\n",
    "import pandas as pd\n",
    "import awkward as ak\n",
    "import matplotlib.pyplot as plt\n",
    "plt.style.use(\"/exp/mu2e/data/users/sgrant/mu2e.mplstyle\")\n",
    "import numpy as np\n",
    "import hist\n",
    "import gc\n",
    "import sys\n",
    "from datetime import datetime\n",
    "\n",
    "from pyutils.pyprocess import Processor, Skeleton\n",
    "from pyutils.pyplot import Plot\n",
    "from pyutils.pyprint import Print\n",
    "from pyutils.pyselect import Select\n",
    "from pyutils.pyvector import Vector\n",
    "from pyutils.pylogger import Logger\n",
    "logger = Logger(print_prefix=\"[ana]\")\n",
    "\n",
    "sys.path.append(\"../common\")\n",
    "from cut_manager import CutManager\n",
    "from analyse import Analyse, Utils\n",
    "from postprocess import PostProcess"
   ]
  },
  {
   "cell_type": "markdown",
   "id": "e4e7b55a-21be-4860-89c1-7502cc53e932",
   "metadata": {},
   "source": [
    "## Set file output tag"
   ]
  },
  {
   "cell_type": "code",
   "execution_count": 3,
   "id": "c366787b-8d32-4672-83dc-66bd1b2db2b9",
   "metadata": {},
   "outputs": [],
   "source": [
    "# Get today's date in MM-DD-YY format\n",
    "today = datetime.now().strftime(\"%m-%d-%y\")\n",
    "# tag = \"test_plot\" # today\n",
    "tag = today\n",
    "ds_type = \"signal\""
   ]
  },
  {
   "cell_type": "markdown",
   "id": "0f6a93d4-9902-4eb2-a952-48fc2994a929",
   "metadata": {},
   "source": [
    "# Create Processor \n",
    "\n",
    "We inherit from Skeleton - this gives us many pre-built methods without writing extra code"
   ]
  },
  {
   "cell_type": "code",
   "execution_count": 4,
   "id": "43b06c1d-d545-44c2-97a1-d499bc947273",
   "metadata": {},
   "outputs": [
    {
     "name": "stdout",
     "output_type": "stream",
     "text": [
      "[Skeleton] ⭐️ Skeleton init\n",
      "[CosmicProcessor] ✅ Initialised\n"
     ]
    }
   ],
   "source": [
    "# Create your custom processor class\n",
    "class CosmicProcessor(Skeleton):\n",
    "    \"\"\"Your custom file processor \n",
    "    \n",
    "    This class inherits from the Skeleton base class, which provides the \n",
    "    basic structure and methods withing the Processor framework \n",
    "    \"\"\"\n",
    "    def __init__(self):\n",
    "        \"\"\"Initialise your processor with specific configuration\n",
    "        \n",
    "        This method sets up all the parameters needed for this specific analysis.\n",
    "        \"\"\"\n",
    "        # Call the parent class's __init__ method first\n",
    "        # This ensures we have all the base functionality properly set up\n",
    "        super().__init__()\n",
    "\n",
    "        # Now override parameters from the Skeleton with the ones we need\n",
    "        # Data selection configuration \n",
    "        self.defname = \"nts.mu2e.CeEndpointOnSpillTriggered.MDC2020aq_best_v1_3_v06_03_00.root\"\n",
    "        # self.file_name = \"/exp/mu2e/data/users/sgrant/mu2e_cosmic_ana/data/nts.mu2e.CeEndpointOnSpillTriggered.MDC2020aq_best_v1_3_v06_03_00.001210_00000699.root\"\n",
    "\n",
    "        self.branches = { \n",
    "            \"evt\" : [\n",
    "                \"run\",\n",
    "                \"subrun\",\n",
    "                \"event\",\n",
    "            ],\n",
    "            \"crv\" : [\n",
    "                \"crvcoincs.time\",\n",
    "                \"crvcoincs.nHits\",\n",
    "                \"crvcoincs.pos.fCoordinates.fZ\"\n",
    "            ],\n",
    "            \"trk\" : [\n",
    "                \"trk.nactive\", \n",
    "                \"trk.pdg\", \n",
    "                \"trkqual.valid\",\n",
    "                \"trkqual.result\"\n",
    "            ],\n",
    "            \"trkfit\" : [\n",
    "                \"trksegs\",\n",
    "                \"trksegpars_lh\"\n",
    "            ],\n",
    "            \"trkmc\" : [\n",
    "                \"trkmcsim\"\n",
    "            ]\n",
    "        }\n",
    "        self.use_remote = True     # Use remote file via mdh\n",
    "        self.location = \"tape\"     # File location\n",
    "        self.max_workers = 75      # Limit the number of workers\n",
    "        self.verbosity = 2         # Set verbosity \n",
    "        self.use_processes = True  # Use processes rather than threads\n",
    "        \n",
    "        # Now add your own analysis-specific parameters \n",
    "\n",
    "        # Init analysis methods\n",
    "        # Would be good to load an analysis config here \n",
    "        self.analyse = Analyse(\n",
    "            # event_subrun=(93561, 25833), # select one event\n",
    "            on_spill=True, # CeEndpoint is \"onspill\"\n",
    "            verbosity=0 \n",
    "        )\n",
    "\n",
    "        self.logger = Logger(\n",
    "            print_prefix = \"[CosmicProcessor]\"\n",
    "        )\n",
    "            \n",
    "        # Toggle cuts OFF\n",
    "        self.inactive_cuts = [\n",
    "            \"unvetoed\" \n",
    "        ]\n",
    "            \n",
    "        self.logger.log(\"Initialised\", \"success\")\n",
    "    \n",
    "    # ==========================================\n",
    "    # Define the core processing logic\n",
    "    # ==========================================\n",
    "    # This method overrides the parent class's process_file method\n",
    "    # It will be called automatically for each file by the execute method\n",
    "    def process_file(self, file_name): \n",
    "        \"\"\"Process a single ROOT file\n",
    "        \n",
    "        This method will be called for each file in our list.\n",
    "        It extracts data, processes it, and returns a result.\n",
    "        \n",
    "        Args:\n",
    "            file_name: Path to the ROOT file to process\n",
    "            \n",
    "        Returns:\n",
    "            A tuple containing the histogram (counts and bin edges)\n",
    "        \"\"\"\n",
    "        try:\n",
    "            # Create a local pyprocess Processor to extract data from this file\n",
    "            # This uses the configuration parameters from our class\n",
    "            this_processor = Processor(\n",
    "                use_remote=self.use_remote,     # Use remote file via mdh\n",
    "                location=self.location,         # File location\n",
    "                verbosity=0 # self.verbosity        # Reduce output in worker threads\n",
    "            )\n",
    "            \n",
    "            # Extract the data \n",
    "            this_data = this_processor.process_data(\n",
    "                file_name = file_name, \n",
    "                branches = self.branches\n",
    "            )\n",
    "            \n",
    "            # ---- Analysis ----            \n",
    "            results = self.analyse.execute(\n",
    "                data=this_data, \n",
    "                file_id=file_name,\n",
    "                inactive_cuts=self.inactive_cuts\n",
    "            )\n",
    "\n",
    "            # Clean up\n",
    "            gc.collect()\n",
    "\n",
    "            return results \n",
    "        \n",
    "        except Exception as e:\n",
    "            # Handle any errors that occur during processing\n",
    "            self.logger.log(f\"Error processing {file_name}: {e}\", \"success\")\n",
    "            return None\n",
    "\n",
    "# Create an instance of our custom processor\n",
    "cosmic_processor = CosmicProcessor()"
   ]
  },
  {
   "cell_type": "code",
   "execution_count": 5,
   "id": "d230eb27-5418-450d-9784-9f1b152b97f1",
   "metadata": {},
   "outputs": [
    {
     "name": "stdout",
     "output_type": "stream",
     "text": [
      "[CosmicProcessor] ⭐️ Starting analysis\n",
      "[pyutils] ⭐️ Setting up...\n",
      "[pyutils] ✅ Ready\n",
      "[pyprocess] ⭐️ Initialised Processor:\n",
      "\tpath = 'EventNtuple/ntuple'\n",
      "\tuse_remote = True\n",
      "\tlocation = tape\n",
      "\tschema = root\n",
      "\tverbosity=2\n",
      "[pyprocess] 👀 Loading file list for SAM definition: nts.mu2e.CeEndpointOnSpillTriggered.MDC2020aq_best_v1_3_v06_03_00.root\n",
      "[pyprocess] ✅ Successfully loaded file list\n",
      "\tSAM definition: nts.mu2e.CeEndpointOnSpillTriggered.MDC2020aq_best_v1_3_v06_03_00.root\n",
      "\tCount: 1000 files\n",
      "[pyprocess] ⭐️ Starting processing on 1000 files with 75 processes\n"
     ]
    },
    {
     "name": "stderr",
     "output_type": "stream",
     "text": [
      "Processing: 100%|\u001b[32m██████████████████████████████\u001b[0m| 1000/1000 [08:32<00:00,  1.95file/s, successful=1000, failed=0]\u001b[0m"
     ]
    },
    {
     "name": "stdout",
     "output_type": "stream",
     "text": [
      "[pyprocess] ⭐️ Returning 1000 results\n",
      "[CosmicProcessor] ✅ Analysis complete\n"
     ]
    },
    {
     "name": "stderr",
     "output_type": "stream",
     "text": [
      "\n"
     ]
    }
   ],
   "source": [
    "# ==========================================\n",
    "# Run the processor\n",
    "# ==========================================\n",
    "\n",
    "# Run the processor on all files\n",
    "# The execute method comes from the Skeleton parent class\n",
    "# This starts a parent Processor and submits the process function to the threads\n",
    "\n",
    "# Execute your processor\n",
    "results = cosmic_processor.execute()"
   ]
  },
  {
   "cell_type": "markdown",
   "id": "28a3bf3a-1e0f-471e-b965-ec81911f2830",
   "metadata": {},
   "source": [
    "## Run postprocessing"
   ]
  },
  {
   "cell_type": "code",
   "execution_count": 6,
   "id": "2b878907-e64b-4ed8-85a8-93910b96a829",
   "metadata": {},
   "outputs": [
    {
     "name": "stdout",
     "output_type": "stream",
     "text": [
      "[PostProcess] ⭐️ Initialised\n",
      "[PostProcess] ✅ Combined arrays, result contains 1000 events\n",
      "[PostProcess] ✅ Combined 3 histograms over 1000 results\n",
      "[PostProcess] ✅ Combined cut statistics\n",
      "[PostProcess] ✅ Postprocessing complete:\n",
      "\treturning tuple of combined arrays, combined histograms, and combined cut stats\n"
     ]
    }
   ],
   "source": [
    "postprocessor = PostProcess()\n",
    "data, hists, stats = postprocessor.execute(results)"
   ]
  },
  {
   "cell_type": "markdown",
   "id": "458680ff-6fbd-4322-8f4e-b21a98d12864",
   "metadata": {},
   "source": [
    "## Analyse results"
   ]
  },
  {
   "cell_type": "markdown",
   "id": "cfebde38-ad4f-4372-9038-008485b0c1d0",
   "metadata": {},
   "source": [
    "### Cut statisics "
   ]
  },
  {
   "cell_type": "code",
   "execution_count": 7,
   "id": "65bcf047-2f8f-4b56-9df6-301a6336e639",
   "metadata": {},
   "outputs": [
    {
     "name": "stdout",
     "output_type": "stream",
     "text": [
      "[CutManager] ✅ Created cut statistics DataFrame \n"
     ]
    },
    {
     "data": {
      "text/html": [
       "<div>\n",
       "<style scoped>\n",
       "    .dataframe tbody tr th:only-of-type {\n",
       "        vertical-align: middle;\n",
       "    }\n",
       "\n",
       "    .dataframe tbody tr th {\n",
       "        vertical-align: top;\n",
       "    }\n",
       "\n",
       "    .dataframe thead th {\n",
       "        text-align: right;\n",
       "    }\n",
       "</style>\n",
       "<table border=\"1\" class=\"dataframe\">\n",
       "  <thead>\n",
       "    <tr style=\"text-align: right;\">\n",
       "      <th></th>\n",
       "      <th>Cut</th>\n",
       "      <th>Active</th>\n",
       "      <th>Events Passing</th>\n",
       "      <th>Absolute Frac. [%]</th>\n",
       "      <th>Relative Frac. [%]</th>\n",
       "      <th>Description</th>\n",
       "    </tr>\n",
       "  </thead>\n",
       "  <tbody>\n",
       "    <tr>\n",
       "      <th>0</th>\n",
       "      <td>No cuts</td>\n",
       "      <td>N/A</td>\n",
       "      <td>1475237</td>\n",
       "      <td>100.00</td>\n",
       "      <td>100.00</td>\n",
       "      <td>No selection applied</td>\n",
       "    </tr>\n",
       "    <tr>\n",
       "      <th>1</th>\n",
       "      <td>is_truth_electron</td>\n",
       "      <td>True</td>\n",
       "      <td>1475235</td>\n",
       "      <td>100.00</td>\n",
       "      <td>100.00</td>\n",
       "      <td>Track parents are electrons (truth PID)</td>\n",
       "    </tr>\n",
       "    <tr>\n",
       "      <th>2</th>\n",
       "      <td>is_reco_electron</td>\n",
       "      <td>True</td>\n",
       "      <td>1473985</td>\n",
       "      <td>99.92</td>\n",
       "      <td>99.92</td>\n",
       "      <td>Tracks are assumed to be electrons (trk)</td>\n",
       "    </tr>\n",
       "    <tr>\n",
       "      <th>3</th>\n",
       "      <td>one_reco_electron</td>\n",
       "      <td>True</td>\n",
       "      <td>1467523</td>\n",
       "      <td>99.48</td>\n",
       "      <td>99.56</td>\n",
       "      <td>One reco electron / event</td>\n",
       "    </tr>\n",
       "    <tr>\n",
       "      <th>4</th>\n",
       "      <td>good_trkqual</td>\n",
       "      <td>True</td>\n",
       "      <td>790022</td>\n",
       "      <td>53.55</td>\n",
       "      <td>53.83</td>\n",
       "      <td>Track quality (quality &gt; 0.8)</td>\n",
       "    </tr>\n",
       "    <tr>\n",
       "      <th>5</th>\n",
       "      <td>downstream</td>\n",
       "      <td>True</td>\n",
       "      <td>790022</td>\n",
       "      <td>53.55</td>\n",
       "      <td>100.00</td>\n",
       "      <td>Downstream tracks (p_z &gt; 0 through tracker)</td>\n",
       "    </tr>\n",
       "    <tr>\n",
       "      <th>6</th>\n",
       "      <td>has_hits</td>\n",
       "      <td>True</td>\n",
       "      <td>786535</td>\n",
       "      <td>53.32</td>\n",
       "      <td>99.56</td>\n",
       "      <td>Minimum of 20 active hits in the tracker</td>\n",
       "    </tr>\n",
       "    <tr>\n",
       "      <th>7</th>\n",
       "      <td>within_t0</td>\n",
       "      <td>True</td>\n",
       "      <td>568672</td>\n",
       "      <td>38.55</td>\n",
       "      <td>72.30</td>\n",
       "      <td>t0 at tracker entrance (640 &lt; t_0 &lt; 1650 ns)</td>\n",
       "    </tr>\n",
       "    <tr>\n",
       "      <th>8</th>\n",
       "      <td>within_lhr_max</td>\n",
       "      <td>True</td>\n",
       "      <td>486660</td>\n",
       "      <td>32.99</td>\n",
       "      <td>85.58</td>\n",
       "      <td>Loop helix maximum radius (450 &lt; R_max &lt; 680 mm)</td>\n",
       "    </tr>\n",
       "    <tr>\n",
       "      <th>9</th>\n",
       "      <td>within_d0</td>\n",
       "      <td>True</td>\n",
       "      <td>482740</td>\n",
       "      <td>32.72</td>\n",
       "      <td>99.19</td>\n",
       "      <td>Distance of closest approach (d_0 &lt; 100 mm)</td>\n",
       "    </tr>\n",
       "    <tr>\n",
       "      <th>10</th>\n",
       "      <td>within_pitch_angle</td>\n",
       "      <td>True</td>\n",
       "      <td>275451</td>\n",
       "      <td>18.67</td>\n",
       "      <td>57.06</td>\n",
       "      <td>Extrapolated pitch angle (0.5577350 &lt; tan(thet...</td>\n",
       "    </tr>\n",
       "  </tbody>\n",
       "</table>\n",
       "</div>"
      ],
      "text/plain": [
       "                   Cut Active  Events Passing  Absolute Frac. [%]  \\\n",
       "0              No cuts    N/A         1475237              100.00   \n",
       "1    is_truth_electron   True         1475235              100.00   \n",
       "2     is_reco_electron   True         1473985               99.92   \n",
       "3    one_reco_electron   True         1467523               99.48   \n",
       "4         good_trkqual   True          790022               53.55   \n",
       "5           downstream   True          790022               53.55   \n",
       "6             has_hits   True          786535               53.32   \n",
       "7            within_t0   True          568672               38.55   \n",
       "8       within_lhr_max   True          486660               32.99   \n",
       "9            within_d0   True          482740               32.72   \n",
       "10  within_pitch_angle   True          275451               18.67   \n",
       "\n",
       "    Relative Frac. [%]                                        Description  \n",
       "0               100.00                               No selection applied  \n",
       "1               100.00            Track parents are electrons (truth PID)  \n",
       "2                99.92           Tracks are assumed to be electrons (trk)  \n",
       "3                99.56                          One reco electron / event  \n",
       "4                53.83                      Track quality (quality > 0.8)  \n",
       "5               100.00        Downstream tracks (p_z > 0 through tracker)  \n",
       "6                99.56           Minimum of 20 active hits in the tracker  \n",
       "7                72.30       t0 at tracker entrance (640 < t_0 < 1650 ns)  \n",
       "8                85.58   Loop helix maximum radius (450 < R_max < 680 mm)  \n",
       "9                99.19        Distance of closest approach (d_0 < 100 mm)  \n",
       "10               57.06  Extrapolated pitch angle (0.5577350 < tan(thet...  "
      ]
     },
     "metadata": {},
     "output_type": "display_data"
    },
    {
     "name": "stdout",
     "output_type": "stream",
     "text": [
      "[ana] ✅ Wrote ../../txt/signal/signal_cut_stats_06-30-25.csv\n"
     ]
    }
   ],
   "source": [
    "cut_manager = CutManager()\n",
    "def get_cut_stats_df(out_path=f\"../../txt/{ds_type}/{ds_type}_cut_stats_{today}.csv\"):\n",
    "    df_stats = cut_manager.get_cut_stats(stats=stats, active_only=True, printout=False)\n",
    "    df_stats.to_csv(out_path, index=False)\n",
    "    display(df_stats)\n",
    "    logger.log(f\"Wrote {out_path}\", \"success\")\n",
    "    return df_stats\n",
    "\n",
    "df_stats = get_cut_stats_df()"
   ]
  },
  {
   "cell_type": "markdown",
   "id": "047a5973-b37a-4d0a-9bf6-b2208cff93af",
   "metadata": {},
   "source": [
    "## Efficiency "
   ]
  },
  {
   "cell_type": "code",
   "execution_count": 8,
   "id": "bfa6af66-ab1c-4f3b-ac9e-04168571ee12",
   "metadata": {},
   "outputs": [
    {
     "name": "stdout",
     "output_type": "stream",
     "text": [
      "[PostProcess] ⭐️ Initialised\n",
      "[PostProcess] ⭐️ Getting efficiency with ce_row_name = within_pitch_angle and veto = False\n",
      "[PostProcess] ✅ Returning efficiency information\n"
     ]
    },
    {
     "data": {
      "text/html": [
       "<div>\n",
       "<style scoped>\n",
       "    .dataframe tbody tr th:only-of-type {\n",
       "        vertical-align: middle;\n",
       "    }\n",
       "\n",
       "    .dataframe tbody tr th {\n",
       "        vertical-align: top;\n",
       "    }\n",
       "\n",
       "    .dataframe thead th {\n",
       "        text-align: right;\n",
       "    }\n",
       "</style>\n",
       "<table border=\"1\" class=\"dataframe\">\n",
       "  <thead>\n",
       "    <tr style=\"text-align: right;\">\n",
       "      <th></th>\n",
       "      <th>Type</th>\n",
       "      <th>Events Passing (k)</th>\n",
       "      <th>Total Events (N)</th>\n",
       "      <th>Efficiency [%]</th>\n",
       "      <th>Efficiency Error [%]</th>\n",
       "    </tr>\n",
       "  </thead>\n",
       "  <tbody>\n",
       "    <tr>\n",
       "      <th>0</th>\n",
       "      <td>Signal</td>\n",
       "      <td>275451</td>\n",
       "      <td>1475237</td>\n",
       "      <td>18.671644</td>\n",
       "      <td>0.035576</td>\n",
       "    </tr>\n",
       "  </tbody>\n",
       "</table>\n",
       "</div>"
      ],
      "text/plain": [
       "     Type  Events Passing (k)  Total Events (N)  Efficiency [%]  \\\n",
       "0  Signal              275451           1475237       18.671644   \n",
       "\n",
       "   Efficiency Error [%]  \n",
       "0              0.035576  "
      ]
     },
     "metadata": {},
     "output_type": "display_data"
    },
    {
     "name": "stdout",
     "output_type": "stream",
     "text": [
      "[ana] ✅ Wrote ../../txt/signal/signal_efficiency_06-30-25.csv\n"
     ]
    }
   ],
   "source": [
    "utils = Utils()\n",
    "def get_eff(df_stats, out_path=f\"../../txt/{ds_type}/{ds_type}_efficiency_{today}.csv\"):\n",
    "    df_eff = utils.get_eff(df_stats, veto=False)\n",
    "    df_eff.to_csv(out_path, index=False)\n",
    "    display(df_eff)\n",
    "    logger.log(f\"Wrote {out_path}\", \"success\")\n",
    "    return df_eff\n",
    "    \n",
    "df_eff = get_eff(df_stats)"
   ]
  },
  {
   "cell_type": "markdown",
   "id": "96c8a5d2-f1ac-4ed0-92cd-61d6283bef9b",
   "metadata": {},
   "source": [
    "## Draw histograms "
   ]
  },
  {
   "cell_type": "markdown",
   "id": "7907e20d-8225-40ac-8b54-7fc13a1b753c",
   "metadata": {},
   "source": [
    "### Momentum plots"
   ]
  },
  {
   "cell_type": "code",
   "execution_count": 9,
   "id": "c7af5f85-ae7c-4b92-b7c5-f3f94c3636ac",
   "metadata": {},
   "outputs": [
    {
     "name": "stderr",
     "output_type": "stream",
     "text": [
      "/home/sgrant/.conda/envs/ana_v2.0.0/lib/python3.12/site-packages/hist/basehist.py:444: UserWarning: List indexing selection is experimental. Removed bins are not placed in overflow.\n",
      "  return super().__getitem__(self._index_transform(index))\n",
      "/home/sgrant/.conda/envs/ana_v2.0.0/lib/python3.12/site-packages/hist/basehist.py:444: UserWarning: List indexing selection is experimental. Removed bins are not placed in overflow.\n",
      "  return super().__getitem__(self._index_transform(index))\n"
     ]
    },
    {
     "data": {
      "image/png": "[encoded data removed]",
      "text/plain": [
       "<Figure size 1280x480 with 2 Axes>"
      ]
     },
     "metadata": {},
     "output_type": "display_data"
    }
   ],
   "source": [
    "def mom_plots(hists, fout=f\"../../img/{ds_type}/h1_ana_mom_{ds_type}_{tag}.png\"):\n",
    "\n",
    "    # Now you can plot them\n",
    "    fig, ax = plt.subplots(1, 2, figsize=(6.4*2, 4.8))\n",
    "    \n",
    "    # Plot wide range in first subplot\n",
    "    h_wide = hists[\"Wide range\"]\n",
    "    # Can also include \"CE-like tracks\"\n",
    "    h_wide = h_wide[{\"selection\": [\"All\", \"CE-like\"]}] \n",
    "    h_wide.plot1d(overlay=\"selection\", ax=ax[0])\n",
    "    # h_wide.sum().value\n",
    "    ax[0].set_title(\"Wide range\")\n",
    "    ax[0].set_yscale(\"log\")\n",
    "    ax[0].grid(True, alpha=0.3)\n",
    "    ax[0].legend(frameon=False, loc=\"best\")\n",
    "\n",
    "    # Plot signal region in second subplot\n",
    "    h_signal = hists[\"Signal region\"]\n",
    "    \n",
    "    h_signal = h_signal[{\"selection\": [\"All\", \"CE-like\"]}] \n",
    "    h_signal.plot1d(overlay=\"selection\", ax=ax[1])\n",
    "    ax[1].set_title(\"Signal region: 103.6-104.9 MeV/c\")\n",
    "    ax[1].set_yscale(\"log\")\n",
    "    ax[1].grid(True, alpha=0.3)\n",
    "    ax[1].set_ylabel(\"\")  # Remove duplicate y-label\n",
    "    ax[1].legend(frameon=False, loc=\"best\")\n",
    "\n",
    "    plt.tight_layout()\n",
    "    plt.savefig(fout, dpi=300)\n",
    "    plt.show()\n",
    "\n",
    "mom_plots(hists)"
   ]
  },
  {
   "cell_type": "markdown",
   "id": "69a568f4-0258-4836-8d11-61c1859d7c13",
   "metadata": {},
   "source": [
    "## Find parent cosmic particle ID\n",
    "\n",
    "These are `trkmcsim` entries of rank -1, with the highest momentum. "
   ]
  },
  {
   "cell_type": "code",
   "execution_count": 10,
   "id": "9e2b10db-34c1-4e1b-a4f5-dbdaacbd7148",
   "metadata": {},
   "outputs": [
    {
     "name": "stdout",
     "output_type": "stream",
     "text": [
      "[pyvector] ⭐️ Initialised Vector with verbosity = 1\n",
      "[pyvector] ✅ Created 3D 'mom' vector\n",
      "[pyvector] ✅ Got 'mom' magnitude\n",
      "cosmic_parent_pdg [2212, 2212, 2212, 2212, 2212, 2212, ..., 2212, 2212, 2212, 2212, 2212, 2212]\n"
     ]
    }
   ],
   "source": [
    "vector = Vector()\n",
    "\n",
    "def is_cosmic_parent(data): \n",
    "    # Rank condition\n",
    "    rank_condition = data[\"trkmc\"][\"trkmcsim\"][\"rank\"] == -1\n",
    "    # Then by momentum \n",
    "    mom_mag = vector.get_mag(data[\"trkmc\"][\"trkmcsim\"], \"mom\")\n",
    "    data[\"mom_mag\"] = mom_mag\n",
    "    mom_condition = mom_mag == ak.max(mom_mag, axis=-1)\n",
    "    # Combine\n",
    "    mask = rank_condition & mom_condition\n",
    "    return mask\n",
    "    \n",
    "cosmic_parent_mask = is_cosmic_parent(data)\n",
    "data[\"cosmic_parent\"] = cosmic_parent_mask\n",
    "\n",
    "# # # # print(cosmic_parent_mask)\n",
    "data[\"trkmc\"] = data[\"trkmc\"][cosmic_parent_mask]\n",
    "data[\"mom_mag\"] = data[\"mom_mag\"][cosmic_parent_mask]\n",
    "\n",
    "# printer.print_n_events(data, n_events=len(data))\n",
    "\n",
    "# For some reason we have duplicates in here, so just take the first one \n",
    "cosmic_parent_pdg = ak.flatten(data[\"trkmc\"][\"trkmcsim\"][\"pdg\"][:,:,0])\n",
    "print(\"cosmic_parent_pdg\", cosmic_parent_pdg) \n"
   ]
  },
  {
   "cell_type": "code",
   "execution_count": 11,
   "id": "e5ffdc57-0506-4996-8b35-1a3f4119f8d6",
   "metadata": {},
   "outputs": [
    {
     "name": "stdout",
     "output_type": "stream",
     "text": [
      "\tWrote ../../img/signal/bar_cosmic_parents_06-30-25.png\n"
     ]
    },
    {
     "data": {
      "image/png": "[encoded data removed]",
      "text/plain": [
       "<Figure size 640x480 with 1 Axes>"
      ]
     },
     "metadata": {},
     "output_type": "display_data"
    }
   ],
   "source": [
    "pdg_to_label = {\n",
    "    11: \"e-\", -11: \"e+\",\n",
    "    13: \"mu-\", -13: \"mu+\", \n",
    "    2112: \"neutron\", -2112: \"antineutron\",\n",
    "    2212: \"proton\", -2212: \"antiproton\",\n",
    "    22: \"gamma\", 111: \"pi0\",\n",
    "    211: \"pi+\", -211: \"pi-\"\n",
    "}\n",
    "\n",
    "from matplotlib.ticker import ScalarFormatter\n",
    "def BarChart(data, label_dict, title=None, xlabel=None, ylabel=None, fout=\"bar_chart.png\", percentage=False, bar_alpha=1.0, bar_color='black', NDPI=300):\n",
    "    \"\"\" Pulled from Mu2eCool repo \n",
    "    Needs update, but it works fine\"\"\"\n",
    "    \n",
    "    # Matches the key of the dict with row in the data array and returns the element as the label\n",
    "    labels = [label_dict.get(p, 'other') for p in data]\n",
    "\n",
    "    # Count occurrences of each label\n",
    "    unique_labels, label_counts = np.unique(labels, return_counts=True)\n",
    "\n",
    "    # Only works for particles \n",
    "\n",
    "    # Sort labels and counts in descending order\n",
    "    sorted_indices = np.argsort(label_counts)[::-1]\n",
    "    unique_labels = unique_labels[sorted_indices]\n",
    "    label_counts = label_counts[sorted_indices]\n",
    "\n",
    "    if percentage: \n",
    "        label_counts = (label_counts / np.sum(label_counts))*100\n",
    "\n",
    "    plt.style.use(\"../../../EventNtuple/utils/pyutils/mu2e.mplstyle\")\n",
    "    \n",
    "    # Create figure and axes\n",
    "    fig, ax = plt.subplots()\n",
    "\n",
    "    # Plot the bar chart\n",
    "    indices = np.arange(len(unique_labels))\n",
    "\n",
    "    # TODO: handle this better\n",
    "    n_bars = len(indices)\n",
    "    bar_width = 3.0 / n_bars\n",
    "    if(n_bars == 3.0): \n",
    "        bar_width = 2.0 / n_bars\n",
    "    elif(n_bars == 2.0):\n",
    "        bar_width = 1.0 / n_bars\n",
    "\n",
    "    ax.bar(indices, label_counts, align='center', alpha=bar_alpha, color=bar_color, width=bar_width, fill=False, hatch='/', linewidth=1, edgecolor='black')\n",
    "\n",
    "    # Set x-axis labels\n",
    "    ax.set_xticks(indices)\n",
    "    ax.set_xticklabels(unique_labels, rotation=0) # 45)\n",
    "\n",
    "    # Set labels for the chart\n",
    "    ax.set_title(title, fontsize=16, pad=10)\n",
    "    ax.set_xlabel(xlabel, fontsize=14, labelpad=10) \n",
    "    ax.set_ylabel(ylabel, fontsize=14, labelpad=10) \n",
    "\n",
    "    # Set font size of tick labels on x and y axes\n",
    "    ax.tick_params(axis='x', labelsize=14)  # Set x-axis tick label font size\n",
    "    ax.tick_params(axis='y', labelsize=14)  # Set y-axis tick label font size\n",
    "\n",
    "    if ax.get_ylim()[1] > 999:\n",
    "        ax.yaxis.set_major_formatter(ScalarFormatter(useMathText=True))\n",
    "        ax.ticklabel_format(style='sci', axis='y', scilimits=(0,0))\n",
    "        ax.yaxis.offsetText.set_fontsize(14)\n",
    "\n",
    "    # Save the figure\n",
    "    plt.savefig(fout, dpi=NDPI, bbox_inches=\"tight\")\n",
    "    print(\"\\tWrote\", fout)\n",
    "\n",
    "\n",
    "BarChart(\n",
    "    cosmic_parent_pdg,\n",
    "    pdg_to_label,\n",
    "    title=\"Cosmic parents\",\n",
    "    ylabel=\"CE-like tracks\",\n",
    "    fout=f\"../../img/{ds_type}/bar_cosmic_parents_{tag}.png\"\n",
    "    \n",
    ")"
   ]
  },
  {
   "cell_type": "code",
   "execution_count": null,
   "id": "881d9567-3775-45bf-94d9-4e195639fa1c",
   "metadata": {},
   "outputs": [],
   "source": []
  }
 ],
 "metadata": {
  "kernelspec": {
   "display_name": "mu2e_env [conda env:.conda-ana_v2.0.0]",
   "language": "python",
   "name": "conda-env-.conda-ana_v2.0.0-ana_v2.0.0"
  },
  "language_info": {
   "codemirror_mode": {
    "name": "ipython",
    "version": 3
   },
   "file_extension": ".py",
   "mimetype": "text/x-python",
   "name": "python",
   "nbconvert_exporter": "python",
   "pygments_lexer": "ipython3",
   "version": "3.12.7"
  }
 },
 "nbformat": 4,
 "nbformat_minor": 5
}
